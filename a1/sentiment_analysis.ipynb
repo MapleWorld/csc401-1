{
 "cells": [
  {
   "cell_type": "markdown",
   "metadata": {
    "collapsed": false
   },
   "source": [
    "### Imports"
   ]
  },
  {
   "cell_type": "code",
   "execution_count": 6,
   "metadata": {
    "collapsed": false
   },
   "outputs": [],
   "source": [
    "%matplotlib inline\n",
    "\n",
    "import numpy as np\n",
    "import NLPlib as nlp\n",
    "\n",
    "import csv\n",
    "import itertools\n",
    "\n",
    "import re\n",
    "import HTMLParser\n",
    "\n",
    "from matplotlib import pyplot as plt"
   ]
  },
  {
   "cell_type": "markdown",
   "metadata": {},
   "source": [
    "### Part 1: Pre-process, tokenize and tag"
   ]
  },
  {
   "cell_type": "code",
   "execution_count": 8,
   "metadata": {
    "collapsed": false
   },
   "outputs": [
    {
     "name": "stdout",
     "output_type": "stream",
     "text": [
      "unpickle the dictionary\n",
      "Initialized lexHash from pickled data.\n"
     ]
    }
   ],
   "source": [
    "tagger = nlp.NLPlib()"
   ]
  },
  {
   "cell_type": "code",
   "execution_count": 10,
   "metadata": {
    "collapsed": false
   },
   "outputs": [],
   "source": [
    "sent = [\"tag\", \"me\"]"
   ]
  },
  {
   "cell_type": "code",
   "execution_count": 13,
   "metadata": {
    "collapsed": false
   },
   "outputs": [
    {
     "data": {
      "text/plain": [
       "['NN', 'PRP']"
      ]
     },
     "execution_count": 13,
     "metadata": {},
     "output_type": "execute_result"
    }
   ],
   "source": [
    "tags = tagger.tag(sent)\n",
    "tags"
   ]
  },
  {
   "cell_type": "markdown",
   "metadata": {
    "collapsed": true
   },
   "source": [
    "CSV Format:\n",
    "\n",
    "1. the polarity of the tweet (0 = negative emotion, 4 = positive emotion)\n",
    "2. the id of the tweet (e.g., 2087)\n",
    "3. the date of the tweet (e.g., Sat May 16 23:58:44 UTC 2009)\n",
    "4. the query (e.g., lyx). If there is no query, then this value is NO QUERY. \n",
    "5. the user that tweeted (e.g., robotickilldozr)\n",
    "6. the text of the tweet (e.g., Lyx is cool)"
   ]
  },
  {
   "cell_type": "code",
   "execution_count": 26,
   "metadata": {
    "collapsed": false
   },
   "outputs": [],
   "source": [
    "GID = 4\n",
    "class_zero_data = [GID * 5500, GID * 5500 + 10] # (GID + 1) * 5500 - 1]\n",
    "class_four_data = [GID * 5500 + 800000, GID * 5500 + 800000 + 10] # (GID + 1) * 5500 - 1 + 800000]"
   ]
  },
  {
   "cell_type": "code",
   "execution_count": 28,
   "metadata": {
    "collapsed": false,
    "scrolled": true
   },
   "outputs": [
    {
     "name": "stdout",
     "output_type": "stream",
     "text": [
      "['0', '1557393927', 'Sun Apr 19 03:50:43 PDT 2009', 'NO_QUERY', 'davidgarlick', '@Natalia_Bella not much to buy now Woolworth closed down ']\n",
      "['0', '1557394133', 'Sun Apr 19 03:50:48 PDT 2009', 'NO_QUERY', 'sarah_etf', 'Kill me please -.- ...Oh crap school tommorow ']\n",
      "['0', '1557394170', 'Sun Apr 19 03:50:48 PDT 2009', 'NO_QUERY', 'hypnotic', \"@chriskeating re the labour general secretary meeting with Labour PM's aide - I posted the very same on facebook. BBC gone downhill \"]\n",
      "['0', '1557394563', 'Sun Apr 19 03:50:57 PDT 2009', 'NO_QUERY', 'Robbertt', 'Whole day of homework ahead of name ']\n",
      "['0', '1557394776', 'Sun Apr 19 03:51:02 PDT 2009', 'NO_QUERY', 'desii____8', \"hamlet...romeo n juliet...radio:ACTIVE live at Wembley...McFly tour DVD's too money to me \"]\n",
      "['0', '1557394848', 'Sun Apr 19 03:51:03 PDT 2009', 'NO_QUERY', 'loubeejones', '@charleypearson haha, lucky you. i just got told one!  loubee is not happy!']\n",
      "['0', '1557395142', 'Sun Apr 19 03:51:09 PDT 2009', 'NO_QUERY', 'musicjunkie92', '@SpecialEmily aw he says thank you! Yea its lush here got dress&amp;flipflops on but i broke my sunnies  gettin new ones @ the beach tho ']\n",
      "['0', '1557395351', 'Sun Apr 19 03:51:14 PDT 2009', 'NO_QUERY', 'Javamomma', '@Bruno108 Ohhh, so much? But I have?! Ohh, I feel terrible! ']\n",
      "['0', '1557395422', 'Sun Apr 19 03:51:16 PDT 2009', 'NO_QUERY', 'magnusholmgren', 'Inspiration is laughing at me ']\n",
      "['0', '1557395551', 'Sun Apr 19 03:51:19 PDT 2009', 'NO_QUERY', 'nammymoo', \"can't believe match was cancelled   is officially gutted. . .\"]\n",
      "['4', '1563974733', 'Mon Apr 20 01:08:17 PDT 2009', 'NO_QUERY', 'judysteapot', '@libbyoliver you are very sweet my profile pic has been brushed up or whatever the technical term is!!   my car is a Fiat Qubo']\n",
      "['4', '1563974783', 'Mon Apr 20 01:08:19 PDT 2009', 'NO_QUERY', 'tonisep', '@trinta I switched powerpoint to keynote few years ago and making presentations got much easier ']\n",
      "['4', '1563974787', 'Mon Apr 20 01:08:18 PDT 2009', 'NO_QUERY', 'HelenTWilliams', '4km technique swim set done. Meeting with a creative director at 10am. Photographs to the printers. A million phone calls to make ']\n",
      "['4', '1563974863', 'Mon Apr 20 01:08:20 PDT 2009', 'NO_QUERY', 'alejandralei', 'I turn 17 in 17 days.!  now I am really going to sleep after watching 17 Again (:']\n",
      "['4', '1563974933', 'Mon Apr 20 01:08:21 PDT 2009', 'NO_QUERY', 'elenamarisol', 'I have to addmitt the movie was 3 stars and the book was 100000 stars ']\n",
      "['4', '1563974951', 'Mon Apr 20 01:08:21 PDT 2009', 'NO_QUERY', 'c0decafe', '@eMxyzptlk just meant &quot;eMxyzptlk&quot;, random rotted b64? j/k ']\n",
      "['4', '1563974997', 'Mon Apr 20 01:08:25 PDT 2009', 'NO_QUERY', 'Mattblahh', 'Camping was cool. Plan of attack for today; scrubs season 5, beginning to end. Beats college ']\n",
      "['4', '1563975055', 'Mon Apr 20 01:08:23 PDT 2009', 'NO_QUERY', 'apearlGirl', '@KatieVanBeek Me too! I wanted to be there all during break and this weather is soo perfect! ']\n",
      "['4', '1563975104', 'Mon Apr 20 01:08:24 PDT 2009', 'NO_QUERY', 'Jaegerbaby', \"Woooohooo! Finally getting some time off after working 9 weeks solid without a day off. Ok one day off for easter Sunday butthat's all! \"]\n",
      "['4', '1563975196', 'Mon Apr 20 01:08:26 PDT 2009', 'NO_QUERY', 'dleth', 'working on different politic media plans for the upcoming EU elections... ']\n"
     ]
    }
   ],
   "source": [
    "with open('training.1600000.processed.noemoticon.csv', 'rb') as train_file:\n",
    "    reader = csv.reader(train_file)\n",
    "    \n",
    "    for row in itertools.islice(reader, *class_zero_data):\n",
    "        print row\n",
    "    for row in itertools.islice(reader, *class_four_data):\n",
    "        print row"
   ]
  },
  {
   "cell_type": "code",
   "execution_count": 30,
   "metadata": {
    "collapsed": false
   },
   "outputs": [
    {
     "data": {
      "text/plain": [
       "'working on different politic media plans for the upcoming EU elections... '"
      ]
     },
     "execution_count": 30,
     "metadata": {},
     "output_type": "execute_result"
    }
   ],
   "source": [
    "row[5]"
   ]
  },
  {
   "cell_type": "markdown",
   "metadata": {},
   "source": [
    "##### 1. All html tags and attributes (i.e., /<[^>]+>/) are removed."
   ]
  },
  {
   "cell_type": "code",
   "execution_count": 4,
   "metadata": {
    "collapsed": true
   },
   "outputs": [],
   "source": [
    "def strip_html_tags(tweet):\n",
    "    regex = re.compile('<[^>]+>')\n",
    "    return regex.sub('', tweet)"
   ]
  },
  {
   "cell_type": "code",
   "execution_count": 5,
   "metadata": {
    "collapsed": false
   },
   "outputs": [
    {
     "data": {
      "text/plain": [
       "'I Want This text!'"
      ]
     },
     "execution_count": 5,
     "metadata": {},
     "output_type": "execute_result"
    }
   ],
   "source": [
    "strip_html_tags('<a href=\"foo.com\" class=\"bar\">I Want This <b>text!</b></a>')"
   ]
  },
  {
   "cell_type": "markdown",
   "metadata": {},
   "source": [
    "##### 2. Html character codes (i.e., &...;) are replaced with an ASCII equivalent."
   ]
  },
  {
   "cell_type": "code",
   "execution_count": 7,
   "metadata": {
    "collapsed": true
   },
   "outputs": [],
   "source": [
    "def replace_html_codes(tweet):\n",
    "    parser = HTMLParser.HTMLParser()\n",
    "    return parser.unescape(tweet)"
   ]
  },
  {
   "cell_type": "code",
   "execution_count": 12,
   "metadata": {
    "collapsed": false
   },
   "outputs": [
    {
     "name": "stdout",
     "output_type": "stream",
     "text": [
      "\"You win £100 ¡ \"\n"
     ]
    }
   ],
   "source": [
    "print replace_html_codes('&quot;You win &pound;100 &iexcl; &quot;')"
   ]
  },
  {
   "cell_type": "markdown",
   "metadata": {},
   "source": [
    "##### 3. All URLs (i.e., tokens beginning with http or www) are removed."
   ]
  },
  {
   "cell_type": "code",
   "execution_count": 26,
   "metadata": {
    "collapsed": true
   },
   "outputs": [],
   "source": [
    "def remove_urls(tweet):\n",
    "    # Note that this will modify the whitespace when words are separated by\n",
    "    # more than one space, but that shouldn't matter as we are tokenizing\n",
    "    # the tweets anyways\n",
    "    \n",
    "    return ' '.join(filter(lambda x : not x.startswith(('www', 'http')), tweet.split()))"
   ]
  },
  {
   "cell_type": "code",
   "execution_count": 29,
   "metadata": {
    "collapsed": false
   },
   "outputs": [
    {
     "data": {
      "text/plain": [
       "'brad is the best dancer but not the worst singer'"
      ]
     },
     "execution_count": 29,
     "metadata": {},
     "output_type": "execute_result"
    }
   ],
   "source": [
    "remove_urls(\"brad is the best www.youtube.com dancer but not the worst http://www.google.ca singer\")"
   ]
  },
  {
   "cell_type": "markdown",
   "metadata": {},
   "source": [
    "##### 4. The first character in Twitter user names (@) and hash tags (#) are removed."
   ]
  },
  {
   "cell_type": "code",
   "execution_count": 55,
   "metadata": {
    "collapsed": true
   },
   "outputs": [],
   "source": [
    "def remove_hashtags(tweet):\n",
    "    return ' '.join([ x[1:] if  x.startswith(('@', '#')) else x for x in tweet.split()])"
   ]
  },
  {
   "cell_type": "code",
   "execution_count": 57,
   "metadata": {
    "collapsed": false
   },
   "outputs": [
    {
     "data": {
      "text/plain": [
       "'brad donkey kick face @other #test'"
      ]
     },
     "execution_count": 57,
     "metadata": {},
     "output_type": "execute_result"
    }
   ],
   "source": [
    "remove_hashtags('brad #donkey @kick face #@other @#test')"
   ]
  },
  {
   "cell_type": "markdown",
   "metadata": {},
   "source": [
    "### IBM Watson NLP Classifier"
   ]
  },
  {
   "cell_type": "markdown",
   "metadata": {},
   "source": [
    "{\n",
    "  \"credentials\": {\n",
    "    \"url\": \"https://gateway.watsonplatform.net/natural-language-classifier/api\",\n",
    "    \"username\": \"2bd0e6c7-5784-4967-860c-a9778754fdee\",\n",
    "    \"password\": \"rFs4Solusscl\"\n",
    "  }\n",
    "}"
   ]
  },
  {
   "cell_type": "code",
   "execution_count": null,
   "metadata": {
    "collapsed": true
   },
   "outputs": [],
   "source": []
  }
 ],
 "metadata": {
  "kernelspec": {
   "display_name": "Python 2",
   "language": "python",
   "name": "python2"
  },
  "language_info": {
   "codemirror_mode": {
    "name": "ipython",
    "version": 2
   },
   "file_extension": ".py",
   "mimetype": "text/x-python",
   "name": "python",
   "nbconvert_exporter": "python",
   "pygments_lexer": "ipython2",
   "version": "2.7.11"
  }
 },
 "nbformat": 4,
 "nbformat_minor": 0
}
