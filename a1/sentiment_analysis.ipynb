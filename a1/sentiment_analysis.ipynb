{
 "cells": [
  {
   "cell_type": "markdown",
   "metadata": {
    "collapsed": false
   },
   "source": [
    "### Imports"
   ]
  },
  {
   "cell_type": "code",
   "execution_count": 1,
   "metadata": {
    "collapsed": false
   },
   "outputs": [],
   "source": [
    "%matplotlib inline\n",
    "\n",
    "import numpy as np\n",
    "import NLPlib as nlp\n",
    "\n",
    "import csv\n",
    "import itertools\n",
    "\n",
    "import re\n",
    "import HTMLParser\n",
    "\n",
    "import StringIO\n",
    "import string\n",
    "\n",
    "from matplotlib import pyplot as plt"
   ]
  },
  {
   "cell_type": "markdown",
   "metadata": {},
   "source": [
    "### Part 1: Pre-process, tokenize and tag"
   ]
  },
  {
   "cell_type": "markdown",
   "metadata": {
    "collapsed": true
   },
   "source": [
    "CSV Format:\n",
    "\n",
    "0. the polarity of the tweet (0 = negative emotion, 4 = positive emotion)\n",
    "1. the id of the tweet (e.g., 2087)\n",
    "2. the date of the tweet (e.g., Sat May 16 23:58:44 UTC 2009)\n",
    "3. the query (e.g., lyx). If there is no query, then this value is NO QUERY. \n",
    "4. the user that tweeted (e.g., robotickilldozr)\n",
    "5. the text of the tweet (e.g., Lyx is cool)"
   ]
  },
  {
   "cell_type": "code",
   "execution_count": 2,
   "metadata": {
    "collapsed": false
   },
   "outputs": [],
   "source": [
    "GID = 4\n",
    "class_zero_data = [GID * 5500, GID * 5500 + 5] # (GID + 1) * 5500 - 1]\n",
    "class_four_data = [GID * 5500 + 800000, GID * 5500 + 800000 + 5] # (GID + 1) * 5500 - 1 + 800000]"
   ]
  },
  {
   "cell_type": "code",
   "execution_count": 3,
   "metadata": {
    "collapsed": true
   },
   "outputs": [],
   "source": [
    "string_buf = StringIO.StringIO()"
   ]
  },
  {
   "cell_type": "code",
   "execution_count": 5,
   "metadata": {
    "collapsed": false,
    "scrolled": false
   },
   "outputs": [
    {
     "name": "stdout",
     "output_type": "stream",
     "text": [
      "@Natalia_Bella not much to buy now Woolworth closed down \n",
      "Kill me please -.- ...Oh crap school tommorow \n",
      "@chriskeating re the labour general secretary meeting with Labour PM's aide - I posted the very same on facebook. BBC gone downhill \n",
      "Whole day of homework ahead of name \n",
      "hamlet...romeo n juliet...radio:ACTIVE live at Wembley...McFly tour DVD's too money to me \n",
      "staying at home like the good girls do \n",
      "Morning world. It's a beautiful day  Here's hoping for some pathetic fallacy\n",
      "Oh, how I wish @johncmayer  would say hello to me on a tweet.  That man is a God in my eyes...and ugh, the body....okay I'm done \n",
      "Just woke up. Eating sandwiches and drinking coffee  Oh yeaa..\n",
      "@JimLundy  we have made it very easy for them to catch up  http://bit.ly/5TUpg\n"
     ]
    }
   ],
   "source": [
    "with open('datasets/training.1600000.processed.noemoticon.csv', 'rb') as train_file:\n",
    "    reader = csv.reader(train_file)\n",
    "    \n",
    "    for row in itertools.islice(reader, *class_zero_data):\n",
    "        print row[5]\n",
    "    for row in itertools.islice(reader, *class_four_data):\n",
    "        print row[5]"
   ]
  },
  {
   "cell_type": "code",
   "execution_count": 6,
   "metadata": {
    "collapsed": true
   },
   "outputs": [],
   "source": [
    "tweet_buf = StringIO.StringIO"
   ]
  },
  {
   "cell_type": "code",
   "execution_count": 7,
   "metadata": {
    "collapsed": false
   },
   "outputs": [
    {
     "name": "stdout",
     "output_type": "stream",
     "text": [
      "\n"
     ]
    }
   ],
   "source": [
    "for line in string_buf.getvalue().split('\\n'):\n",
    "    print line"
   ]
  },
  {
   "cell_type": "markdown",
   "metadata": {},
   "source": [
    "##### 1. All html tags and attributes (i.e., /<[^>]+>/) are removed."
   ]
  },
  {
   "cell_type": "code",
   "execution_count": 8,
   "metadata": {
    "collapsed": true
   },
   "outputs": [],
   "source": [
    "def strip_html_tags(tweet):\n",
    "    return re.sub(r'<[^>]+>', '', tweet)"
   ]
  },
  {
   "cell_type": "code",
   "execution_count": 9,
   "metadata": {
    "collapsed": false
   },
   "outputs": [
    {
     "data": {
      "text/plain": [
       "'I Want This text!'"
      ]
     },
     "execution_count": 9,
     "metadata": {},
     "output_type": "execute_result"
    }
   ],
   "source": [
    "strip_html_tags('<a href=\"foo.com\" class=\"bar\">I Want This <b>text!</b></a>')"
   ]
  },
  {
   "cell_type": "markdown",
   "metadata": {},
   "source": [
    "##### 2. Html character codes (i.e., &...;) are replaced with an ASCII equivalent.\n",
    "- Remove the ascii encoding to support extended in unicode"
   ]
  },
  {
   "cell_type": "code",
   "execution_count": 10,
   "metadata": {
    "collapsed": true
   },
   "outputs": [],
   "source": [
    "def replace_html_codes(tweet):\n",
    "    parser = HTMLParser.HTMLParser()\n",
    "    tweet = filter(lambda x: x in string.printable, tweet)\n",
    "    return parser.unescape(tweet).encode('ascii', 'ignore')"
   ]
  },
  {
   "cell_type": "code",
   "execution_count": 11,
   "metadata": {
    "collapsed": false
   },
   "outputs": [
    {
     "name": "stdout",
     "output_type": "stream",
     "text": [
      "\"You win 100  \" $\n"
     ]
    }
   ],
   "source": [
    "print replace_html_codes('&quot;You win &pound;100 &iexcl; &quot; &#36;')"
   ]
  },
  {
   "cell_type": "code",
   "execution_count": 12,
   "metadata": {
    "collapsed": false
   },
   "outputs": [
    {
     "name": "stdout",
     "output_type": "stream",
     "text": [
      "Were back at work\n"
     ]
    }
   ],
   "source": [
    "print replace_html_codes(\"We�re back at work\")"
   ]
  },
  {
   "cell_type": "markdown",
   "metadata": {},
   "source": [
    "##### 3. All URLs (i.e., tokens beginning with http or www) are removed."
   ]
  },
  {
   "cell_type": "code",
   "execution_count": 13,
   "metadata": {
    "collapsed": true
   },
   "outputs": [],
   "source": [
    "def remove_urls(tweet):\n",
    "    # Note that this will modify the whitespace when words are separated by\n",
    "    # more than one space, but that shouldn't matter as we are tokenizing\n",
    "    # the tweets anyways\n",
    "    \n",
    "    return ' '.join(filter(lambda x : not x.lower().startswith(('www', 'http')), tweet.split(' ')))"
   ]
  },
  {
   "cell_type": "code",
   "execution_count": 14,
   "metadata": {
    "collapsed": false
   },
   "outputs": [
    {
     "data": {
      "text/plain": [
       "'brad is the best dancer but not the worst singer'"
      ]
     },
     "execution_count": 14,
     "metadata": {},
     "output_type": "execute_result"
    }
   ],
   "source": [
    "remove_urls(\"brad is the best www.youtube.com dancer but not the worst http://www.google.ca singer\")"
   ]
  },
  {
   "cell_type": "markdown",
   "metadata": {},
   "source": [
    "##### 4. The first character in Twitter user names (@) and hash tags (#) are removed."
   ]
  },
  {
   "cell_type": "code",
   "execution_count": 15,
   "metadata": {
    "collapsed": true
   },
   "outputs": [],
   "source": [
    "def remove_hashtags(tweet):\n",
    "    return ' '.join([ x[1:] if  x.startswith(('@', '#')) else x for x in tweet.split(' ')])"
   ]
  },
  {
   "cell_type": "code",
   "execution_count": 16,
   "metadata": {
    "collapsed": false
   },
   "outputs": [
    {
     "data": {
      "text/plain": [
       "'brad donkey kick face @other #test'"
      ]
     },
     "execution_count": 16,
     "metadata": {},
     "output_type": "execute_result"
    }
   ],
   "source": [
    "remove_hashtags('brad #donkey @kick face #@other @#test')"
   ]
  },
  {
   "cell_type": "markdown",
   "metadata": {},
   "source": [
    "##### 5. Each sentence within a tweet is on its own line."
   ]
  },
  {
   "cell_type": "code",
   "execution_count": 50,
   "metadata": {
    "collapsed": false
   },
   "outputs": [],
   "source": [
    "def create_abbrev_set(file_path='Wordlists/abbrev.english'):\n",
    "    abbrev_set = set()\n",
    "    \n",
    "    with open(file_path, 'rb') as abbrevs:\n",
    "        for line in abbrevs:\n",
    "            abbrev_set.add(line.strip())\n",
    "            #print line.strip()\n",
    "    \n",
    "    return abbrev_set"
   ]
  },
  {
   "cell_type": "code",
   "execution_count": 18,
   "metadata": {
    "collapsed": false,
    "scrolled": true
   },
   "outputs": [],
   "source": [
    "abbrev_set = create_abbrev_set()"
   ]
  },
  {
   "cell_type": "code",
   "execution_count": 19,
   "metadata": {
    "collapsed": false
   },
   "outputs": [
    {
     "name": "stdout",
     "output_type": "stream",
     "text": [
      "True\n",
      "True\n",
      "False\n"
     ]
    }
   ],
   "source": [
    "print 'Mr.' in abbrev_set\n",
    "print 'Pa.' in abbrev_set\n",
    "print 'Pr.' in abbrev_set"
   ]
  },
  {
   "cell_type": "code",
   "execution_count": 109,
   "metadata": {
    "collapsed": false
   },
   "outputs": [],
   "source": [
    "def split_by_sentence(tweet):\n",
    "    '''\n",
    "        # 1. Anything ending in .?! declared a sentence\n",
    "        # 2. Sentence boundary moved after quotation mark, if any ex. He said, \"I am coming.\"\n",
    "        # 3. Period boundary is disqualified if it preceded by an element in abbrev_set\n",
    "        #    <We could look for capitals after an EOS, but nobody uses capitals on twitter>\n",
    "        #    <Both sides of :;- could also be thought of as sentence>\n",
    "    '''\n",
    "    \n",
    "    tweet = re.sub(r' +', ' ', tweet).strip()\n",
    "    if 0 == len(tweet): return [tweet]\n",
    "    \n",
    "    abbrev_set = create_abbrev_set()\n",
    "    split_by_space = tweet.split(' ')\n",
    "\n",
    "    quote_eos = lambda x: len(x) > 1 and (x[-2:] in {'.\"', '?\"', '!\"'} or x[-2:] in {\".'\", \"?'\", \"!'\"})\n",
    "    eos = lambda x: (x[-1] in {'.', '?', '!'} and x not in abbrev_set) or (quote_eos(x) and x[:-1] not in abbrev_set)\n",
    "    eos_indices = [i + 1 for i, x in enumerate(split_by_space) if eos(x)]\n",
    "    \n",
    "    if 0 == len(eos_indices):\n",
    "        return [tweet]\n",
    "    \n",
    "    sents = [' '.join(x) for x in [split_by_space[i:j] for i, j in zip([0] + eos_indices[:-1], eos_indices)]]\n",
    "\n",
    "    if eos_indices[-1] < len(split_by_space):\n",
    "        sents = sents + [' '.join(split_by_space[eos_indices[-1]:])]\n",
    "\n",
    "    return sents"
   ]
  },
  {
   "cell_type": "code",
   "execution_count": 21,
   "metadata": {
    "collapsed": true
   },
   "outputs": [],
   "source": [
    "sample_tweet = '4km technique swim set done Mr.\" Meeting with a creative director at 10am.\" Photographs to the printers. A million phone calls to make.'"
   ]
  },
  {
   "cell_type": "code",
   "execution_count": 22,
   "metadata": {
    "collapsed": false
   },
   "outputs": [
    {
     "data": {
      "text/plain": [
       "['4km technique swim set done Mr.\" Meeting with a creative director at 10am.\"',\n",
       " 'Photographs to the printers.',\n",
       " 'A million phone calls to make.']"
      ]
     },
     "execution_count": 22,
     "metadata": {},
     "output_type": "execute_result"
    }
   ],
   "source": [
    "split_by_sentence(sample_tweet)"
   ]
  },
  {
   "cell_type": "code",
   "execution_count": 23,
   "metadata": {
    "collapsed": false
   },
   "outputs": [
    {
     "data": {
      "text/plain": [
       "\"Meech13 damn it!!!!, \\xc2\\xa1 half. Mr. Mr.' way text! through the interview @the sound cut's out, just' as u talk abt books!\""
      ]
     },
     "execution_count": 23,
     "metadata": {},
     "output_type": "execute_result"
    }
   ],
   "source": [
    "test = \"Meech13 damn it!!!!, ¡ half. Mr. Mr.' way text! through the interview @the sound cut's out, just' as u talk abt books!\"\n",
    "test"
   ]
  },
  {
   "cell_type": "code",
   "execution_count": 24,
   "metadata": {
    "collapsed": false
   },
   "outputs": [
    {
     "data": {
      "text/plain": [
       "['Meech13 damn it!!!!, \\xc2\\xa1 half.',\n",
       " \"Mr. Mr.' way text!\",\n",
       " \"through the interview @the sound cut's out, just' as u talk abt books!\"]"
      ]
     },
     "execution_count": 24,
     "metadata": {},
     "output_type": "execute_result"
    }
   ],
   "source": [
    "test1 = split_by_sentence(test)\n",
    "test1"
   ]
  },
  {
   "cell_type": "code",
   "execution_count": 25,
   "metadata": {
    "collapsed": false
   },
   "outputs": [
    {
     "data": {
      "text/plain": [
       "['brad is the best']"
      ]
     },
     "execution_count": 25,
     "metadata": {},
     "output_type": "execute_result"
    }
   ],
   "source": [
    "test2 = split_by_sentence(\"brad is the best\")\n",
    "test2"
   ]
  },
  {
   "cell_type": "code",
   "execution_count": 26,
   "metadata": {
    "collapsed": false
   },
   "outputs": [
    {
     "data": {
      "text/plain": [
       "'SpecialEmily aw he says thank you! Yea its lush here got dress&flipflops on but i broke my sunnies gettin new ones  the beach tho'"
      ]
     },
     "execution_count": 26,
     "metadata": {},
     "output_type": "execute_result"
    }
   ],
   "source": [
    "test3 = \"SpecialEmily aw he says thank you! Yea its lush here got dress&flipflops on but i broke my sunnies gettin new ones  the beach tho\"\n",
    "test3"
   ]
  },
  {
   "cell_type": "code",
   "execution_count": 27,
   "metadata": {
    "collapsed": false
   },
   "outputs": [
    {
     "data": {
      "text/plain": [
       "['SpecialEmily aw he says thank you!',\n",
       " 'Yea its lush here got dress&flipflops on but i broke my sunnies gettin new ones the beach tho']"
      ]
     },
     "execution_count": 27,
     "metadata": {},
     "output_type": "execute_result"
    }
   ],
   "source": [
    "split_by_sentence(test3)"
   ]
  },
  {
   "cell_type": "code",
   "execution_count": 110,
   "metadata": {
    "collapsed": false
   },
   "outputs": [
    {
     "data": {
      "text/plain": [
       "['']"
      ]
     },
     "execution_count": 110,
     "metadata": {},
     "output_type": "execute_result"
    }
   ],
   "source": [
    "split_by_sentence(\"\")"
   ]
  },
  {
   "cell_type": "markdown",
   "metadata": {},
   "source": [
    "##### 6/7. Each token, including punctuation and clitics, is separated by spaces.\n",
    "- Clitics: contracted forms of words, such as n’t\n",
    "- 's on possessive (ie. Brad's) different from 's on clitics (ie. What's), but both separated\n",
    "- Must also separate possessive on plurals (ie. dogs ')\n",
    "- Ellipsis (i.e., ‘...’), and other kinds of multiple punctuation (e.g., ‘!!!’) are not split.\n",
    "- Don't split e.g. into tokens"
   ]
  },
  {
   "cell_type": "code",
   "execution_count": 28,
   "metadata": {
    "collapsed": true
   },
   "outputs": [],
   "source": [
    "def split_tokens(sentence):\n",
    "    # 1. Split on all punctuation symbols, where a given symbol is repeated once or more\n",
    "    sentence_1 = re.sub(r\"(([\"+ string.punctuation + \"])\\\\2*)\", r\" \\1 \", sentence).strip()\n",
    "    sentence_1 = ' '.join(sentence_1.split('  '))\n",
    "    \n",
    "    # 2. Join clitics and contractions where ' occurs mid-word\n",
    "    sentence_2 = re.sub(r\"(') ([A-Za-z] )\", r\"\\1\\2\", sentence_1)\n",
    "    \n",
    "    # 3. Join e.g.\n",
    "    sentence_3 = re.sub(r\" e . g . \", r\" e.g. \", sentence_2)\n",
    "    \n",
    "    return sentence_3"
   ]
  },
  {
   "cell_type": "code",
   "execution_count": 29,
   "metadata": {
    "collapsed": true
   },
   "outputs": [],
   "source": [
    "sample_text = \"... Brad's dog hasn't said that the cereal is the dogs' or anyone elses..., but, we know  e.g. better????\""
   ]
  },
  {
   "cell_type": "code",
   "execution_count": 30,
   "metadata": {
    "collapsed": false
   },
   "outputs": [
    {
     "data": {
      "text/plain": [
       "\"... Brad 's dog hasn 't said that the cereal is the dogs ' or anyone elses ... , but , we know e.g. better ????\""
      ]
     },
     "execution_count": 30,
     "metadata": {},
     "output_type": "execute_result"
    }
   ],
   "source": [
    "split_tokens(sample_text)"
   ]
  },
  {
   "cell_type": "markdown",
   "metadata": {},
   "source": [
    "##### 8. Each token is tagged with its part-of-speech."
   ]
  },
  {
   "cell_type": "code",
   "execution_count": 31,
   "metadata": {
    "collapsed": true
   },
   "outputs": [],
   "source": [
    "def tag_sentence(sentence, pos_tagger):\n",
    "    '''\n",
    "    Assume sentence is already separated into tokens\n",
    "    '''\n",
    "    split = sentence.split(' ')\n",
    "    return ' '.join([x[0] + \"/\" + x[1] for x in zip(split, pos_tagger.tag(split))])"
   ]
  },
  {
   "cell_type": "code",
   "execution_count": 32,
   "metadata": {
    "collapsed": false
   },
   "outputs": [
    {
     "name": "stdout",
     "output_type": "stream",
     "text": [
      "unpickle the dictionary\n",
      "Initialized lexHash from pickled data.\n"
     ]
    }
   ],
   "source": [
    "tagger = nlp.NLPlib()"
   ]
  },
  {
   "cell_type": "code",
   "execution_count": 33,
   "metadata": {
    "collapsed": true
   },
   "outputs": [],
   "source": [
    "sentence1 = \"Meet me today at the FEC in DC at 4 .\"\n",
    "sentence2 = \"Wear a carnation so I know it 's you .\""
   ]
  },
  {
   "cell_type": "code",
   "execution_count": 34,
   "metadata": {
    "collapsed": false
   },
   "outputs": [
    {
     "name": "stdout",
     "output_type": "stream",
     "text": [
      "Meet/VB me/PRP today/NN at/IN the/DT FEC/NN in/IN DC/NN at/IN 4/NN ./.\n",
      "Wear/VB a/DT carnation/NN so/RB I/PRP know/VB it/PRP 's/POS you/PRP ./.\n"
     ]
    }
   ],
   "source": [
    "# Expected:\n",
    "# Meet/VB me/PRP today/NN at/IN the/DT FEC/NN in/IN DC/NN at/IN 4/NN ./.\n",
    "# Wear/VB a/DT carnation/NN so/RB I/PRP know/VB it/PRP ’s/POS you/PRP ./.\n",
    "print tag_sentence(sentence1, tagger)\n",
    "print tag_sentence(sentence2, tagger)"
   ]
  },
  {
   "cell_type": "markdown",
   "metadata": {},
   "source": [
    "##### 9. Before each tweet is demarcation A=# in <> which occurs on its own line, where # is the numeric class of the tweet (0, 2, or 4)."
   ]
  },
  {
   "cell_type": "code",
   "execution_count": 35,
   "metadata": {
    "collapsed": true
   },
   "outputs": [],
   "source": [
    "def add_class(sentences, class_):\n",
    "    prepend = \"<A={}>\".format(class_)\n",
    "    return [prepend] + sentences"
   ]
  },
  {
   "cell_type": "code",
   "execution_count": 36,
   "metadata": {
    "collapsed": false
   },
   "outputs": [
    {
     "data": {
      "text/plain": [
       "['<A=4>',\n",
       " 'Meet me today at the FEC in DC at 4 .',\n",
       " \"Wear a carnation so I know it 's you .\"]"
      ]
     },
     "execution_count": 36,
     "metadata": {},
     "output_type": "execute_result"
    }
   ],
   "source": [
    "add_class([sentence1, sentence2], 4)"
   ]
  },
  {
   "cell_type": "markdown",
   "metadata": {},
   "source": [
    "##### Putting it all together"
   ]
  },
  {
   "cell_type": "code",
   "execution_count": 37,
   "metadata": {
    "collapsed": true
   },
   "outputs": [],
   "source": [
    "test_tweet = \"@Meech13 damn it!!!!, half. Mr. Mr.' way <b>text!</b> through http://www.google.ca #the      interview #@the sound cut's out, just' as&#36; u talk abt books!   \"\n",
    "test_class = 0"
   ]
  },
  {
   "cell_type": "code",
   "execution_count": 171,
   "metadata": {
    "collapsed": true
   },
   "outputs": [],
   "source": [
    "def preprocess(tweet, t_class, tagger):\n",
    "    tweet = re.sub(r' +', ' ', tweet).strip()\n",
    "    tweet = strip_html_tags(tweet)\n",
    "    tweet = replace_html_codes(tweet)\n",
    "    tweet = remove_urls(tweet)\n",
    "    tweet = remove_hashtags(tweet)\n",
    "    \n",
    "    sentences = split_by_sentence(tweet)\n",
    "    \n",
    "    if len(tweet) > 0:\n",
    "        sentences = [split_tokens(sentence) for sentence in sentences]\n",
    "        sentences = [tag_sentence(sentence, tagger) for sentence in sentences]\n",
    "        \n",
    "    sentences = add_class(sentences, t_class)\n",
    "    \n",
    "    return sentences"
   ]
  },
  {
   "cell_type": "code",
   "execution_count": 39,
   "metadata": {
    "collapsed": false
   },
   "outputs": [
    {
     "name": "stdout",
     "output_type": "stream",
     "text": [
      "unpickle the dictionary\n",
      "Initialized lexHash from pickled data.\n"
     ]
    }
   ],
   "source": [
    "tagger = nlp.NLPlib()\n"
   ]
  },
  {
   "cell_type": "code",
   "execution_count": 40,
   "metadata": {
    "collapsed": false
   },
   "outputs": [
    {
     "data": {
      "text/plain": [
       "['<A=0>',\n",
       " 'Meech13/NN damn/JJ it/PRP !!!!/NN ,/, half/NN ./.',\n",
       " \"Mr/NNP ./. Mr/NNP ./. '/POS way/NN text/NN !/.\",\n",
       " \"through/IN the/DT interview/NN @/IN the/DT sound/NN cut/VB 's/POS out/IN ,/, just/RB '/POS as/IN $/$ u/PRP talk/VB abt/NN books/NNS !/.\"]"
      ]
     },
     "execution_count": 40,
     "metadata": {},
     "output_type": "execute_result"
    }
   ],
   "source": [
    "preprocess(test_tweet, test_class, tagger)"
   ]
  },
  {
   "cell_type": "code",
   "execution_count": 170,
   "metadata": {
    "collapsed": false
   },
   "outputs": [
    {
     "data": {
      "text/plain": [
       "['<A=0>', '']"
      ]
     },
     "execution_count": 170,
     "metadata": {},
     "output_type": "execute_result"
    }
   ],
   "source": [
    "preprocess(\"www.google.com\", 0, tagger)"
   ]
  },
  {
   "cell_type": "code",
   "execution_count": 172,
   "metadata": {
    "collapsed": false
   },
   "outputs": [],
   "source": [
    "def twtt(output_file, input_file='datasets/training.1600000.processed.noemoticon.csv', GID=-1):\n",
    "    \n",
    "    class_slices = []\n",
    "    if (GID > 0):\n",
    "        class_slices.append([GID * 5500,          (GID + 1) * 5500])\n",
    "        class_slices.append([GID * 5500 + 800000, (GID + 1) * 5500 + 800000])\n",
    "    else:\n",
    "        class_slices.append([0, None])\n",
    "    \n",
    "    with open(input_file, 'r') as train_file:\n",
    "        reader = csv.reader(train_file)\n",
    "        tagger = nlp.NLPlib()\n",
    "        \n",
    "        for class_slice in class_slices:\n",
    "            \n",
    "            for row in itertools.islice(reader, *class_slice):\n",
    "                \n",
    "                tweet = row[5]\n",
    "                t_class = int(row[0])\n",
    "                \n",
    "                try:\n",
    "                    sentences = preprocess(tweet, t_class, tagger)\n",
    "                except Exception:\n",
    "                    print \"Couldn't pre-process <<<\" + tweet + \">>>, skipping...\"\n",
    "                else:\n",
    "                    for sentence in sentences:\n",
    "                        output_file.write(sentence + '\\n')\n",
    "\n",
    "        return output_file"
   ]
  },
  {
   "cell_type": "code",
   "execution_count": 58,
   "metadata": {
    "collapsed": false
   },
   "outputs": [
    {
     "name": "stdout",
     "output_type": "stream",
     "text": [
      "['4', '3', 'Mon May 11 03:17:40 UTC 2009', 'kindle2', 'tpryan', '@stellargirl I loooooooovvvvvveee my Kindle2. Not that the DX is cool, but the 2 is fantastic in its own right.']\n",
      "['4', '4', 'Mon May 11 03:18:03 UTC 2009', 'kindle2', 'vcu451', 'Reading my kindle2...  Love it... Lee childs is good read.']\n",
      "['4', '5', 'Mon May 11 03:18:54 UTC 2009', 'kindle2', 'chadfu', 'Ok, first assesment of the #kindle2 ...it fucking rocks!!!']\n",
      "['4', '6', 'Mon May 11 03:19:04 UTC 2009', 'kindle2', 'SIX15', \"@kenburbary You'll love your Kindle2. I've had mine for a few months and never looked back. The new big one is huge! No need for remorse! :)\"]\n",
      "['4', '7', 'Mon May 11 03:21:41 UTC 2009', 'kindle2', 'yamarama', \"@mikefish  Fair enough. But i have the Kindle2 and I think it's perfect  :)\"]\n",
      "['4', '8', 'Mon May 11 03:22:00 UTC 2009', 'kindle2', 'GeorgeVHulme', \"@richardebaker no. it is too big. I'm quite happy with the Kindle2.\"]\n",
      "['0', '9', 'Mon May 11 03:22:30 UTC 2009', 'aig', 'Seth937', 'Fuck this economy. I hate aig and their non loan given asses.']\n",
      "['4', '10', 'Mon May 11 03:26:10 UTC 2009', 'jquery', 'dcostalis', 'Jquery is my new best friend.']\n",
      "['4', '11', 'Mon May 11 03:27:15 UTC 2009', 'twitter', 'PJ_King', 'Loves twitter']\n",
      "['4', '12', 'Mon May 11 03:29:20 UTC 2009', 'obama', 'mandanicole', 'how can you not love Obama? he makes jokes about himself.']\n",
      "['0', '14', 'Mon May 11 03:32:48 UTC 2009', 'obama', 'kylesellers', \"@Karoli I firmly believe that Obama/Pelosi have ZERO desire to be civil.  It's a charade and a slogan, but they want to destroy conservatism\"]\n",
      "['4', '15', 'Mon May 11 03:33:38 UTC 2009', 'obama', 'theviewfans', 'House Correspondents dinner was last night whoopi, barbara &amp; sherri went, Obama got a standing ovation']\n",
      "['4', '16', 'Mon May 11 05:05:58 UTC 2009', 'nike', 'MumsFP', 'Watchin Espn..Jus seen this new Nike Commerical with a Puppet Lebron..sh*t was hilarious...LMAO!!!']\n",
      "['0', '17', 'Mon May 11 05:06:22 UTC 2009', 'nike', 'vincentx24x', 'dear nike, stop with the flywire. that shit is a waste of science. and ugly. love, @vincentx24x']\n",
      "['4', '18', 'Mon May 11 05:20:15 UTC 2009', 'lebron', 'cameronwylie', \"#lebron best athlete of our generation, if not all time (basketball related) I don't want to get into inter-sport debates about   __1/2\"]\n",
      "['0', '19', 'Mon May 11 05:20:28 UTC 2009', 'lebron', 'luv8242', 'I was talking to this guy last night and he was telling me that he is a die hard Spurs fan.  He also told me that he hates LeBron James.']\n",
      "['4', '20', 'Mon May 11 05:21:04 UTC 2009', 'lebron', 'mtgillikin', 'i love lebron. http://bit.ly/PdHur']\n",
      "['0', '21', 'Mon May 11 05:21:37 UTC 2009', 'lebron', 'ursecretdezire', \"@ludajuice Lebron is a Beast, but I'm still cheering 4 the A..til the end.\"]\n",
      "['4', '22', 'Mon May 11 05:21:45 UTC 2009', 'lebron', 'Native_01', '@Pmillzz lebron IS THE BOSS']\n",
      "['4', '23', 'Mon May 11 05:22:03 UTC 2009', 'lebron', 'princezzcutz', \"@sketchbug Lebron is a hometown hero to me, lol I love the Lakers but let's go Cavs, lol\"]\n",
      "['4', '24', 'Mon May 11 05:22:12 UTC 2009', 'lebron', 'peterlikewhat', 'lebron and zydrunas are such an awesome duo']\n",
      "['4', '25', 'Mon May 11 05:22:37 UTC 2009', 'lebron', 'emceet', '@wordwhizkid Lebron is a beast... nobody in the NBA comes even close.']\n",
      "['4', '26', 'Mon May 11 06:02:24 UTC 2009', 'iphone app', 'CocoSavanna', 'downloading apps for my iphone! So much fun :-) There literally is an app for just about anything.']\n",
      "['4', '33', 'Mon May 11 19:47:29 UTC 2009', 'visa', 'DreambigRadio', 'good news, just had a call from the Visa office, saying everything is fine.....what a relief! I am sick of scams out there! Stealing!']\n",
      "['4', '34', 'Mon May 11 19:49:21 UTC 2009', 'fredwilson', 'andrewwatson', 'http://twurl.nl/epkr4b - awesome come back from @biz (via @fredwilson)']\n",
      "['4', '35', 'Mon May 11 19:50:07 UTC 2009', 'fredwilson', 'fredwilson', 'In montreal for a long weekend of R&amp;R. Much needed.']\n",
      "['4', '46', 'Thu May 14 02:58:07 UTC 2009', '\"booz allen\"', 'JoeSchueller', 'Booz Allen Hamilton has a bad ass homegrown social collaboration platform. Way cool!  #ttiv']\n",
      "['4', '47', 'Thu May 14 02:58:23 UTC 2009', '\"booz allen\"', 'scottabel', '[#MLUC09] Customer Innovation Award Winner: Booz Allen Hamilton -- http://ping.fm/c2hPP']\n",
      "['4', '49', 'Thu May 14 05:24:50 UTC 2009', '40d', 'JustMe_D', '@SoChi2 I current use the Nikon D90 and love it, but not as much as the Canon 40D/50D. I chose the D90 for the  video feature. My mistake.']\n",
      "['4', '118', 'Sat May 16 16:19:04 UTC 2009', 'google', 'J_Holl', \"@phyreman9 Google is always a good place to look. Should've mentioned I worked on the Mustang w/ my Dad, @KimbleT.\"]\n",
      "['0', '119', 'Sat May 16 16:19:24 UTC 2009', 'google', 'vamsmack', 'Played with an android google phone. The slide out screen scares me I would break that fucker so fast. Still prefer my iPhone.']\n",
      "['0', '120', 'Sat May 16 16:25:41 UTC 2009', 'aig', 'schroncd', 'US planning to resume the military tribunals at Guantanamo Bay... only this time those on trial will be AIG execs and Chrysler debt holders']\n",
      "['0', '121', 'Sat May 16 22:42:07 UTC 2009', 'itchy', 'MarissaLeeD', 'omg so bored &amp; my tattoooos are so itchy!!  help! aha =)']\n",
      "['0', '122', 'Sat May 16 22:42:25 UTC 2009', 'itchy', 'robloposky', \"I'm itchy and miserable!\"]\n",
      "['0', '123', 'Sat May 16 22:42:44 UTC 2009', 'itchy', 'EdwinLValencia', \"@sekseemess no. I'm not itchy for now. Maybe later, lol.\"]\n",
      "['4', '124', 'Sat May 16 23:48:15 UTC 2009', 'stanford', 'imusicmash', 'RT @jessverr I love the nerdy Stanford human biology videos - makes me miss school. http://bit.ly/13t7NR']\n",
      "['4', '125', 'Sat May 16 23:58:34 UTC 2009', 'lyx', 'drewloewe', '@spinuzzi: Has been a bit crazy, with steep learning curve, but LyX is really good for long docs. For anything shorter, it would be insane.']\n",
      "['4', '131', 'Sun May 17 15:05:03 UTC 2009', 'Danny Gokey', 'VickyTigger', 'I\\'m listening to \"P.Y.T\" by Danny Gokey &lt;3 &lt;3 &lt;3 Aww, he\\'s so amazing. I &lt;3 him so much :)']\n",
      "['4', '132', 'Sun May 17 17:27:45 UTC 2009', 'sleep', 'babblyabbie', 'is going to sleep then on a bike ride:]']\n",
      "['0', '133', 'Sun May 17 17:27:49 UTC 2009', 'sleep', 'kisjoaquin', 'cant sleep... my tooth is aching.']\n",
      "['0', '134', 'Sun May 17 17:28:02 UTC 2009', 'sleep', 'Whacktackular', 'Blah, blah, blah same old same old. No plans today, going back to sleep I guess.']\n",
      "['0', '135', 'Sun May 17 17:29:50 UTC 2009', 'san francisco', 'Adrigonzo', \"glad i didnt do Bay to Breakers today, it's 1000 freaking degrees in San Francisco wtf\"]\n",
      "['0', '139', 'Sun May 17 17:32:00 UTC 2009', 'aig', 'KennyTRoland', '?Obama Administration Must Stop Bonuses to AIG Ponzi Schemers ... http://bit.ly/2CUIg']\n",
      "['0', '140', 'Sun May 17 17:32:30 UTC 2009', 'aig', 'aMild', 'started to think that Citi is in really deep s&amp;^t. Are they gonna survive the turmoil or are they gonna be the next AIG?']\n",
      "['0', '141', 'Sun May 17 17:32:36 UTC 2009', 'aig', 'Trazor1', \"ShaunWoo hate'n on AiG\"]\n",
      "['4', '142', 'Sun May 17 17:35:17 UTC 2009', 'star trek', 'mimknits', '@YarnThing you will not regret going to see Star Trek. It was AWESOME!']\n",
      "['0', '145', 'Mon May 18 01:13:27 UTC 2009', 'Malcolm Gladwell', 'renano', 'annoying new trend on the internets:  people picking apart michael lewis and malcolm gladwell.  nobody wants to read that.']\n",
      "['4', '147', 'Mon May 18 01:14:47 UTC 2009', 'Malcolm Gladwell', 'davidm89', 'Highly recommend: http://tinyurl.com/HowDavidBeatsGoliath by Malcolm Gladwell']\n",
      "['4', '148', 'Mon May 18 01:15:17 UTC 2009', 'Malcolm Gladwell', 'livreal', 'Blink by malcolm gladwell amazing book and The tipping point!']\n",
      "['4', '149', 'Mon May 18 01:16:12 UTC 2009', 'Malcolm Gladwell', 'mikearosso', 'Malcolm Gladwell might be my new man crush']\n",
      "['0', '150', 'Mon May 18 01:18:03 UTC 2009', 'espn', 'wendy93639', 'omg. The commercials alone on ESPN are going to drive me nuts.']\n",
      "['4', '151', 'Mon May 18 03:11:06 UTC 2009', '\"twitter api\"', 'ClayFranklin', '@robmalon Playing with Twitter API sounds fun.  May need to take a class or find a new friend who like to generate results with API code.']\n",
      "['4', '153', 'Mon May 18 03:12:13 UTC 2009', '\"twitter api\"', 'ringerdrop', 'Hello Twitter API ;)']\n",
      "['0', '155', 'Mon May 18 03:12:40 UTC 2009', '\"twitter api\"', 'raykolbe', \"@morind45 Because the twitter api is slow and most client's aren't good.\"]\n",
      "['0', '156', 'Mon May 18 03:13:03 UTC 2009', 'yahoo', 'CarolineVilas', 'yahoo answers can be a butt sometimes']\n",
      "['4', '157', 'Mon May 18 05:07:16 UTC 2009', 'scrapbooking', 'rachelbegins', 'is scrapbooking with Nic =D']\n",
      "['4', '172', 'Tue May 19 16:20:46 UTC 2009', 'wolfram alpha', 'leedscentlib', 'RT @mashable: Five Things Wolfram Alpha Does Better (And Vastly Different) Than Google - http://bit.ly/6nSnR']\n",
      "['4', '173', 'Wed May 20 02:37:09 UTC 2009', 'nike', 'sportsgirl505', 'just changed my default pic to a Nike basketball cause bball is awesome!!!!!']\n",
      "['0', '177', 'Wed May 20 02:39:05 UTC 2009', 'nike', 'coreysmbpro', 'RT @SmartChickPDX: Was just told that Nike layoffs started today :-(']\n",
      "['4', '178', 'Wed May 20 02:39:28 UTC 2009', 'nike', 'PRolivia', 'Back when I worked for Nike we had one fav word : JUST DO IT! :)']\n",
      "['4', '179', 'Wed May 20 02:40:23 UTC 2009', 'nike', 'ErrantDreams', \"By the way, I'm totally inspired by this freaky Nike commercial: http://snurl.com/icgj9\"]\n",
      "['4', '195', 'Sun May 24 16:19:04 UTC 2009', '50d', 'justinbettman', 'Class... The 50d is supposed to come today :)']\n",
      "['0', '196', 'Sun May 24 20:48:14 UTC 2009', 'lambda calculus', 'read0', 'needs someone to explain lambda calculus to him! :(']\n",
      "['0', '197', 'Sun May 24 20:48:58 UTC 2009', 'lambda calculus', 'BAK3R', 'Took the Graduate Field Exam for Computer Science today.  Nothing makes you feel like more of an idiot than lambda calculus.']\n",
      "['4', '198', 'Sun May 24 20:49:52 UTC 2009', 'east palo alto', 'SLICKSPIT', 'SHOUT OUTS TO ALL EAST PALO ALTO FOR BEING IN THE BUILDIN KARIZMAKAZE 50CAL GTA! ALSO THANKS TO PROFITS OF DOOM UNIVERSAL HEMPZ CRACKA......']\n",
      "['0', '199', 'Sun May 24 20:50:32 UTC 2009', 'east palo alto', 'ckwright', \"@legalgeekery Yeahhhhhhhhh, I wouldn't really have lived in East Palo Alto if I could have avoided it.  I guess it's only for the summer.\"]\n",
      "['4', '204', 'Mon May 25 17:15:01 UTC 2009', 'stanford', 'souleaterjh', '@accannis @edog1203 Great Stanford course. Thanks for making it available to the public! Really helpful and informative for starting off!']\n",
      "['4', '207', 'Mon May 25 17:17:04 UTC 2009', 'lakers', 'a_fio', '@ work til 6pm... lets go lakers!!!']\n",
      "['0', '208', 'Mon May 25 17:18:29 UTC 2009', 'north korea', 'luvslikepi', 'Damn you North Korea. http://bit.ly/KtMeQ']\n",
      "['0', '209', 'Mon May 25 17:19:05 UTC 2009', 'north korea', 'utsagrad123', 'Can we just go ahead and blow North Korea off the map already?']\n",
      "['0', '210', 'Mon May 25 17:19:14 UTC 2009', 'north korea', 'stabotage', \"North Korea, please cease this douchebaggery. China doesn't even like you anymore. http://bit.ly/NeHSl\"]\n",
      "['0', '211', 'Mon May 25 17:21:08 UTC 2009', 'pelosi', 'zed01', 'Why the hell is Pelosi in freakin China? and on whose dime?']\n",
      "['0', '212', 'Mon May 25 17:23:55 UTC 2009', 'bailout', 'funky_old_man', 'Are YOU burning more cash $$$ than Chrysler and GM? Stop the financial tsunami. Where \"bailout\" means taking a handout!']\n",
      "['0', '213', 'Mon May 25 17:25:34 UTC 2009', 'insects', 'malcozer', 'insects have infected my spinach plant :(']\n",
      "['0', '214', 'Mon May 25 17:26:50 UTC 2009', 'insects', 'AntoineTheReaL', 'wish i could catch every mosquito in the world n burn em slowly.they been bitin the shit outta me 2day.mosquitos are the assholes of insects']\n",
      "['0', '215', 'Mon May 25 17:27:05 UTC 2009', 'insects', 'jonwolpert', 'just got back from church, and I totally hate insects.']\n",
      "['0', '216', 'Mon May 25 17:28:50 UTC 2009', 'mcdonalds', 'jachshore', \"Just got mcdonalds goddam those eggs make me sick. O yeah Laker up date go lakers. Not much of an update? Well it's true so suck it\"]\n",
      "['4', '217', 'Mon May 25 17:29:39 UTC 2009', 'mcdonalds', 'MamiYessi', 'omgg i ohhdee want mcdonalds damn i wonder if its open lol =]']\n",
      "['0', '218', 'Mon May 25 17:31:21 UTC 2009', 'exam', 'jvici0us', 'History exam studying ugh']\n",
      "['0', '219', 'Mon May 25 17:31:43 UTC 2009', 'exam', 'enriquenieto', \"I hate revision, it's so boring! I am totally unprepared for my exam tomorrow :( Things are not looking good...\"]\n",
      "['0', '220', 'Mon May 25 17:31:45 UTC 2009', 'exam', 'Drummermatt_182', 'Higher physics exam tommorow, not lookin forward to it much :(']\n",
      "['0', '222', 'Mon May 25 17:32:11 UTC 2009', 'exam', 'filmcriticbeta', \"It's a bank holiday, yet I'm only out of work now. Exam season sucks:(\"]\n",
      "['0', '223', 'Mon May 25 17:34:40 UTC 2009', 'cheney', 'lvlocal', 'Cheney and Bush are the real culprits - http://fwix.com/article/939496']\n",
      "['0', '224', 'Mon May 25 17:34:51 UTC 2009', 'cheney', 'QCWofNC', 'Life?s a bitch? and so is Dick Cheney. #p2 #bipart #tlot #tcot #hhrs #GOP #DNC http://is.gd/DjyQ']\n",
      "['0', '225', 'Mon May 25 17:35:23 UTC 2009', 'cheney', 'jepaco', \"Dick Cheney's dishonest speech about torture, terror, and Obama. -Fred Kaplan Slate. http://is.gd/DiHg\"]\n",
      "['0', '226', 'Mon May 25 17:37:56 UTC 2009', 'republican', 'ImportantQuotes', '\"The Republican party is a bunch of anti-abortion zealots who couldn\\'t draw flies to a dump.\" -- Neal Boortz (just now, on the radio)']\n",
      "['0', '227', 'Mon May 25 17:46:06 UTC 2009', 'twitter api', 'fwhamm', \"is Twitter's connections API broken? Some tweets didn't make it to Twitter...\"]\n",
      "['0', '228', 'Mon May 25 17:46:24 UTC 2009', 'twitter api', 'jos897', 'i srsly hate the stupid twitter API timeout thing, soooo annoying!!!!! :(']\n",
      "['4', '233', 'Wed May 27 00:34:21 UTC 2009', 'jquery book', 'jystewart', '@psychemedia I really liked @kswedberg\\'s \"Learning jQuery\" book. http://bit.ly/pg0lT is worth a look too']\n",
      "['4', '235', 'Wed May 27 00:38:56 UTC 2009', 'goodby silverstein', 'CaerusMe', 'Very Interesting Ad from Adobe by Goodby, Silverstein &amp; Partners - YouTube - Adobe CS4: Le Sens Propre http://bit.ly/VprpT']\n",
      "['4', '236', 'Wed May 27 00:39:13 UTC 2009', 'goodby silverstein', 'HallandPartners', 'Goodby Silverstein agency new site! http://www.goodbysilverstein.com/ Great!']\n",
      "['4', '237', 'Wed May 27 00:39:21 UTC 2009', 'goodby silverstein', 'suedecrush', \"RT @designplay Goodby, Silverstein's new site: http://www.goodbysilverstein.com/ I enjoy it. *nice find!*\"]\n",
      "['4', '238', 'Wed May 27 00:41:13 UTC 2009', 'goodby silverstein', '_imageworks', 'The ever amazing Psyop and Goodby Silverstein &amp; Partners for HP! http://bit.ly/g2rU8 Have to go play with After Effects now!']\n",
      "['4', '239', 'Wed May 27 00:42:22 UTC 2009', 'wieden', 'dustinrowley', 'top ten most watched on Viral-Video Chart.  Love the nike #mostvaluablepuppets campaign from Wieden &amp; Kennedy http://bit.ly/nR1n9']\n",
      "['4', '251', 'Wed May 27 23:49:47 UTC 2009', 'g2', 'xzela', 'zomg!!! I have a G2!!!!!!!']\n",
      "['4', '252', 'Wed May 27 23:49:59 UTC 2009', 'g2', 'mobiledreams', 'Ok so lots of buzz from IO2009 but how lucky are they - a Free G2!! http://is.gd/Hyzl']\n",
      "['4', '253', 'Wed May 27 23:50:46 UTC 2009', 'g2', 'crashfaster', 'just got a free G2 android at google i/o!!!']\n",
      "['4', '254', 'Wed May 27 23:51:30 UTC 2009', 'g2', 'dragonal', \"Guess I'll be retiring my G1 and start using my developer G2 woot #googleio\"]\n",
      "['4', '256', 'Wed May 27 23:59:18 UTC 2009', 'googleio', 'maex242', 'I am happy for Philip being at GoogleIO today']\n",
      "['4', '317', 'Sat May 30 17:46:39 UTC 2009', 'lakers', 'specs20', 'Lakers played great!  Cannot wait for Thursday night Lakers vs. ???']\n",
      "['4', '329', 'Sun May 31 06:51:30 UTC 2009', 'viral marketing', 'mattcad', 'Judd Apatow creates fake sitcom on NBC.com to market his new movie... viral marketing at its best. http://is.gd/K0yK']\n",
      "['0', '331', 'Sun May 31 06:51:44 UTC 2009', 'viral marketing', 'nicoleisms', \"VIRAL MARKETING FAIL. This Acia Pills brand oughta get shut down for hacking into people's messenger's.  i get 5-6 msgs in a day! Arrrgh!\"]\n",
      "['4', '388', 'Tue Jun 02 02:54:09 UTC 2009', '\"night at the museum\"', 'Cristinellaa', 'watching Night at The Museum . Lmao']\n",
      "['4', '389', 'Tue Jun 02 02:54:12 UTC 2009', '\"night at the museum\"', 'MzJill', 'i loved night at the museum!!!']\n",
      "['4', '391', 'Tue Jun 02 02:54:40 UTC 2009', '\"night at the museum\"', 'bobster56', 'just got back from the movies.  went to see the new night at the museum with rachel.  it was good']\n",
      "['4', '394', 'Tue Jun 02 02:55:16 UTC 2009', '\"night at the museum\"', 'jellz', '@shannyoday I will take you on a date to see night at the museum 2 whenever you want...it looks soooooo good']\n",
      "['4', '395', 'Tue Jun 02 02:55:25 UTC 2009', '\"night at the museum\"', 'droherty', 'no watching The Night At The Museum. Getting Really Good']\n",
      "['4', '396', 'Tue Jun 02 02:55:39 UTC 2009', '\"night at the museum\"', 'sarahbrooke', 'Night at the Museum, Wolverine and junk food - perfect monday!']\n",
      "['4', '397', 'Tue Jun 02 02:55:49 UTC 2009', '\"night at the museum\"', 'jeremyempire', 'saw night at the museum 2 last night.. pretty crazy movie.. but the cast was awesome so it was well worth it. Robin Williams forever!']\n",
      "['0', '400', 'Tue Jun 02 02:56:38 UTC 2009', '\"night at the museum\"', 'xshallsx', 'Night at the Museum tonite instead of UP. :( oh well. that 4 yr old better enjoy it. LOL']\n",
      "['0', '402', 'Tue Jun 02 03:01:10 UTC 2009', 'gm', 'mshbrown', \"It's unfortunate that after the Stimulus plan was put in place twice to help GM on the back of the American people has led to the inevitable\"]\n",
      "['0', '403', 'Tue Jun 02 03:02:17 UTC 2009', 'gm', 'misschris62', 'Tell me again why we are giving more $$ to GM?? We should use that $ for all the programs that support the unemployed.']\n",
      "['0', '404', 'Tue Jun 02 03:05:13 UTC 2009', 'gm', 'artbynemo', '@jdreiss oh yes but if GM dies it will only be worth more boo hahaha']\n",
      "['0', '405', 'Tue Jun 02 03:14:36 UTC 2009', 'time warner', 'windhamgirl', 'Time Warner cable is down again 3rd time since Memorial Day bummer!']\n",
      "['0', '406', 'Tue Jun 02 03:15:11 UTC 2009', 'time warner', 'mmmPi', 'I would rather pay reasonable yearly taxes for \"free\" fast internet, than get gouged by Time Warner for a slow connection.']\n",
      "['0', '407', 'Tue Jun 02 03:15:23 UTC 2009', 'time warner', 'NDEddieMac', 'NOOOOOOO my DVR just died and I was only half way through the EA presser. Hate you Time Warner']\n",
      "['0', '408', 'Tue Jun 02 03:15:54 UTC 2009', 'time warner', 'yourboysdot', 'F*ck Time Warner Cable!!! You f*cking suck balls!!! I have a $700 HD tv &amp; my damn HD channels hardly ever come in. Bullshit!!']\n",
      "['0', '409', 'Tue Jun 02 03:16:16 UTC 2009', 'time warner', 'Shazzainla', 'time warner has the worse customer service ever. I will never use them again']\n",
      "['0', '410', 'Tue Jun 02 03:16:27 UTC 2009', 'time warner', 'dstalk', 'Time warner is the devil. Worst possible time for the Internet to go out.']\n",
      "['0', '411', 'Tue Jun 02 03:16:37 UTC 2009', 'time warner', 'ernestalfonso', 'Fuck no internet damn time warner!']\n",
      "['0', '412', 'Tue Jun 02 03:16:49 UTC 2009', 'time warner', 'kaaatiee', 'time warner really picks the worst time to not work. all i want to do is get to mtv.com so i can watch the hills. wtfffff.']\n",
      "['0', '413', 'Tue Jun 02 03:17:04 UTC 2009', 'time warner', 'JasonNegron', 'I hate Time Warner! Soooo wish I had Vios. Cant watch the fricken Mets game w/o buffering. I feel like im watching free internet porn.']\n",
      "['0', '414', 'Tue Jun 02 03:17:26 UTC 2009', 'time warner', 'elphabablue', 'Ahh...got rid of stupid time warner today &amp; now taking a nap while the roomies cook for me. Pretty good end for a monday :)']\n",
      "['0', '415', 'Tue Jun 02 03:17:55 UTC 2009', 'time warner', 'gabe_rp', \"Time Warner's HD line up is crap.\"]\n",
      "['0', '416', 'Tue Jun 02 03:18:50 UTC 2009', 'time warner', 'JoeyCircles', 'is being fucked by time warner cable. didnt know modems could explode. and Susan Boyle sucks too!']\n",
      "['0', '418', 'Tue Jun 02 03:23:50 UTC 2009', 'time warner', 'adamjleach', 'Time Warner Cable slogan: Where calling it a day at 2pm Happens.']\n",
      "['0', '425', 'Tue Jun 02 03:29:23 UTC 2009', 'surgery', 'scoralli', 'Recovering from surgery..wishing @julesrenner was here :(']\n",
      "['4', '426', 'Tue Jun 02 03:29:53 UTC 2009', 'dentist', 'sardonnica', 'My wrist still hurts. I have to get it looked at. I HATE the dr/dentist/scary places. :( Time to watch Eagle eye. If you want to join, txt!']\n",
      "['0', '428', 'Tue Jun 02 03:32:33 UTC 2009', 'dentist', 'LILJIZZEL', 'THE DENTIST LIED! \" U WON\\'T FEEL ANY DISCOMORT! PROB WON\\'T EVEN NEED PAIN PILLS\" MAN U TWIPPIN THIS SHIT HURT!! HOW MANY PILLS CAN I TAKE!!']\n",
      "['0', '429', 'Tue Jun 02 03:32:45 UTC 2009', 'dentist', 'giz2000', \"@kirstiealley my dentist is great but she's expensive...=(\"]\n",
      "['4', '431', 'Tue Jun 02 03:33:53 UTC 2009', 'dentist', 'sorayabouby', 'is studing math ;) tomorrow exam and dentist :)']\n",
      "['0', '432', 'Tue Jun 02 03:34:27 UTC 2009', 'dentist', 'jeffreymodest', 'my dentist was wrong... WRONG']\n",
      "['0', '433', 'Tue Jun 02 03:34:39 UTC 2009', 'dentist', 'yowneh', 'Going to the dentist later.:|']\n",
      "['0', '434', 'Tue Jun 02 03:34:58 UTC 2009', 'dentist', 'CWilliams_Rltr', 'Son has me looking at cars online.  I hate car shopping.  Would rather go to the dentist!  Anyone with a good car at a good price to sell?']\n",
      "['0', '440', 'Tue Jun 02 04:39:59 UTC 2009', 'safeway', 'ryanlipert', 'luke and i got stopped walking out of safeway and asked to empty our pockets and lift our shirts. how jacked up is that?']\n",
      "['4', '443', 'Tue Jun 02 04:41:19 UTC 2009', 'safeway', 'missleigh', 'Safeway is very rock n roll tonight']\n",
      "['0', '448', 'Tue Jun 02 04:42:34 UTC 2009', 'safeway', 'phantomzangel', 'The safeway bathroom still smells like ass!']\n",
      "['0', '449', 'Tue Jun 02 04:42:46 UTC 2009', 'safeway', 'BreezB', \"At safeway on elkhorn, they move like they're dead!\"]\n",
      "['4', '531', 'Thu Jun 04 16:49:55 UTC 2009', 'nike', 'CrownRoyal8', \"i love Dwight Howard's vitamin water commercial... now i wish he was with NIKE and not adidas. lol.\"]\n",
      "['0', '532', 'Thu Jun 04 16:52:36 UTC 2009', 'nike', 'MrGQ', 'Found NOTHING at Nike Factory :/ Off to Banana Republic Outlet! http://myloc.me/2zic']\n",
      "['4', '534', 'Thu Jun 04 16:54:23 UTC 2009', 'nike', 'mikelongden', \"is lovin his Nike  already and that's only from running on the spot in his bedroom\"]\n",
      "['4', '557', 'Sun Jun 07 01:13:52 UTC 2009', 'jquery', 'teagone', '@matthewcyan I finally got around to using jquery to make my bio collapse. Yay for slide animations.']\n",
      "['4', '563', 'Sun Jun 07 03:27:57 UTC 2009', 'warren buffet', 'adthomas3', \"@PDubyaD right!!! LOL we'll get there!! I have high expectations, Warren Buffet style.\"]\n",
      "['4', '564', 'Sun Jun 07 03:28:08 UTC 2009', 'warren buffet', 'Alfred04654', 'RT @blknprecious1: RT GREAT @dbroos \"Someone\\'s sitting in the shade today because someone planted a tree a long time ago.\"- Warren Buffet']\n",
      "['4', '566', 'Sun Jun 07 03:29:15 UTC 2009', 'warren buffet', 'adamgilmer', 'Warren Buffet became (for a time) the richest man in the United States, not by working but investing in 1 Big idea which lead to the fortune']\n",
      "['4', '567', 'Sun Jun 07 17:42:47 UTC 2009', 'notre dame school', 'PatfaceCatface', 'According to the create a school, Notre Dame will have 7 receivers in NCAA 10 at 84 or higher rating :) *sweet*']\n",
      "['4', '569', 'Sun Jun 07 21:38:16 UTC 2009', 'kindle2', 'rachaelbender', \"@BlondeBroad it's definitely under warranty &amp; my experience is the amazon support for kindle is great! had to contact them about my kindle2\"]\n",
      "['0', '571', 'Sun Jun 07 21:47:01 UTC 2009', 'time warner', 'davepurcell', \"Time Warner Road Runner customer support here absolutely blows. I hate not having other high-speed net options. I'm ready to go nuclear.\"]\n",
      "['0', '572', 'Sun Jun 07 21:47:20 UTC 2009', 'time warner', 'MarleyLuv26', 'Time Warner cable phone reps r dumber than nails!!!!! UGH! Cable was working 10 mins ago now its not WTF!']\n",
      "['0', '573', 'Sun Jun 07 21:47:33 UTC 2009', 'time warner', 'acomicbookgirl', \"@siratomofbones we tried but Time Warner wasn't being nice so we recorded today. :)\"]\n",
      "['0', '574', 'Sun Jun 07 21:47:42 UTC 2009', 'time warner', 'MichelleEReagan', \"OMG - time warner f'ed up my internet install - instead of today  its now NEXT saturday - another week w/o internet! &amp;$*ehfa^V9fhg[*# fml.\"]\n",
      "['0', '575', 'Sun Jun 07 21:47:50 UTC 2009', 'time warner', 'jpaje11', 'wth..i have never seen a line this loooong at time warner before, ugh.']\n",
      "['0', '576', 'Sun Jun 07 21:47:56 UTC 2009', 'time warner', 'JessSlevin', \"Impatiently awaiting the arrival of the time warner guy. It's way too pretty to be inside all afternoon\"]\n",
      "['0', '578', 'Mon Jun 08 01:58:49 UTC 2009', '\"naive bayes\"', 'R0B3rt2', 'Naive Bayes using EM for Text Classification. Really Frustrating...']\n",
      "['4', '585', 'Mon Jun 08 06:28:01 UTC 2009', 'stanford', 'TammyT', \"We went to Stanford University today. Got a tour. Made me want to go back to college. It's also decided all of our kids will go there.\"]\n",
      "['0', '588', 'Mon Jun 08 06:55:01 UTC 2009', 'car warranty call', 'painhatelove', \"@KarrisFoxy If you're being harassed by calls about your car warranty, changing your number won't fix that. They call every number. #d-bags\"]\n",
      "['0', '589', 'Mon Jun 08 06:55:36 UTC 2009', 'car warranty call', 'russdavisdotcom', 'Just blocked United Blood Services using Google Voice. They call more than those Car Warranty guys.']\n",
      "['0', '594', 'Mon Jun 08 19:59:16 UTC 2009', 'at&t', 'jamesmakeseyes', '#at&amp;t is complete fail.']\n",
      "['0', '595', 'Mon Jun 08 19:59:23 UTC 2009', 'at&t', 'mikeyil', \"@broskiii OH SNAP YOU WORK AT AT&amp;T DON'T YOU\"]\n",
      "['0', '596', 'Mon Jun 08 19:59:26 UTC 2009', 'at&t', 'nakiasmile', '@Mbjthegreat i really dont want AT&amp;T phone service..they suck when it comes to having a signal']\n",
      "['0', '597', 'Mon Jun 08 20:00:52 UTC 2009', 'at&t', 'wiiskey', \"I say we just cut out the small talk: AT&amp;T's new slogan: F__k you, give us your money. (Apologies to Bob Geldof.)\"]\n",
      "['0', '598', 'Mon Jun 08 20:01:11 UTC 2009', 'at&t', 'brkd', \"pissed about at&amp;t's mid-contract upgrade price for the iPhone (it's $200 more) I'm not going to pay $499 for something I thought was $299\"]\n",
      "['0', '599', 'Mon Jun 08 20:02:01 UTC 2009', 'at&t', 'jesusmbaez', 'Safari 4 is fast :) Even on my shitty AT&amp;T tethering.']\n",
      "['0', '600', 'Mon Jun 08 20:06:29 UTC 2009', 'at&t', 'ClaystationX', '@ims What is AT&amp;T fucking up?']\n",
      "['0', '601', 'Mon Jun 08 20:06:57 UTC 2009', 'at&t', 'matthewphewes', \"@springsingfiend @dvyers @sethdaggett @jlshack AT&amp;T dropped the ball and isn't supporting crap with the new iPhone 3.0... FAIL #att SUCKS!!!\"]\n",
      "['0', '602', 'Mon Jun 08 20:08:26 UTC 2009', 'at&t', 'chelseabot', '@MMBarnhill yay, glad you got the phone! Still, damn you, AT&amp;T.']\n",
      "['0', '613', 'Tue Jun 09 01:02:11 UTC 2009', 'bing', 'StrategisAdv', 'Talk is Cheap: Bing that, I?ll stick with Google. http://bit.ly/XC3C8']\n",
      "['0', '614', 'Tue Jun 09 03:58:40 UTC 2009', 'summize', 'fabulousaura', '@defsounds WTF is the point of deleting tweets if they can still be found in summize and searches? Twitter, please fix that. Thanks and bye']\n",
      "['4', '627', 'Wed Jun 10 05:24:26 UTC 2009', 'google', 'ManiKarthik', '@ArunBasilLal I love Google Translator too ! :D Good day mate !']\n",
      "['4', '1002', 'Mon May 11 03:17:54 UTC 2009', 'kindle2', 'jhall515', 'reading on my new Kindle2!']\n",
      "['4', '1003', 'Mon May 11 03:18:59 UTC 2009', 'kindle2', 'HappyWino', 'My Kindle2 came and I LOVE it! :)']\n",
      "['4', '1004', 'Mon May 11 03:21:50 UTC 2009', 'kindle2', 'Teaguem2005', 'LOVING my new Kindle2.  Named her Kendra in case u were wondering. The \"cookbook\" is THE tool cuz it tells u all the tricks!  Best gift EVR!']\n",
      "['0', '1005', 'Mon May 11 03:22:24 UTC 2009', 'aig', 'dailysourcedev', 'The real AIG scandal / http://bit.ly/b82Px']\n",
      "['4', '1008', 'Mon May 11 03:29:01 UTC 2009', 'obama', 'lingbellbell', 'Obama is quite a good comedian! check out his dinner speech on CNN :) very funny jokes.']\n",
      "['4', '1009', 'Mon May 11 03:29:38 UTC 2009', 'obama', 'motsandco', '\\' Barack Obama shows his funny side \" &gt;&gt; http://tr.im/l0gY !! Great speech..']\n",
      "['4', '1010', 'Mon May 11 03:29:41 UTC 2009', 'obama', 'mickou', 'I like this guy : \\' Barack Obama shows his funny side \" &gt;&gt; http://tr.im/l0gY !!']\n",
      "['4', '1011', 'Mon May 11 03:32:35 UTC 2009', 'obama', 'meggentile', \"Obama's speech was pretty awesome last night! http://bit.ly/IMXUM\"]\n",
      "['4', '1012', 'Mon May 11 03:33:05 UTC 2009', 'obama', 'failness', 'Reading  \"Bill Clinton Fail - Obama Win?\" http://tinyurl.com/pcyxj7']\n",
      "['4', '1013', 'Mon May 11 03:33:43 UTC 2009', 'obama', 'kledy', \"Obama More Popular Than U.S. Among Arabs: Survey: President Barack Obama's popularity in leading Arab countries .. http://tinyurl.com/prlvqu\"]\n",
      "['4', '1014', 'Mon May 11 03:34:04 UTC 2009', 'obama', 'LaurelEdelstein', \"Obama's got JOKES!! haha just got to watch a bit of his after dinner speech from last night... i'm in love with mr. president ;)\"]\n",
      "['0', '1015', 'Mon May 11 05:19:58 UTC 2009', 'lebron', 'chelseabigass', 'LEbron james got in a car accident i guess..just heard it on evening news...wow i cant believe it..will he be ok ? http://twtad.com/69750']\n",
      "['4', '1016', 'Mon May 11 05:20:22 UTC 2009', 'lebron', 'Smitty478', 'is it me or is this the best the playoffs have been in years oh yea lebron and melo in the finals']\n",
      "['4', '1017', 'Mon May 11 05:20:41 UTC 2009', 'lebron', 'PurpleGorillaZz', '@khalid0456 No, Lebron is the best']\n",
      "['4', '1018', 'Mon May 11 05:20:48 UTC 2009', 'lebron', 'MsStacha', '@the_real_usher LeBron is cool.  I like his personality...he has good character.']\n",
      "['4', '1019', 'Mon May 11 05:21:25 UTC 2009', 'lebron', 'undefeated310', 'Watching Lebron highlights. Damn that niggas good']\n",
      "['4', '1020', 'Mon May 11 05:21:57 UTC 2009', 'lebron', 'BI_POLAROID', '@Lou911 Lebron is MURDERING shit.']\n",
      "['4', '1021', 'Mon May 11 05:22:06 UTC 2009', 'lebron', 'IAmNoeAngel', \"@uscsports21 LeBron is a monsta and he is only 24. SMH The world ain't ready.\"]\n",
      "['4', '1022', 'Mon May 11 05:22:26 UTC 2009', 'lebron', 'ksmedia', \"@cthagod when Lebron is done in the NBA he will probably be greater than Kobe. Like u said Kobe is good but there alot of 'good' players.\"]\n",
      "['4', '1023', 'Mon May 11 05:22:40 UTC 2009', 'lebron', 'PrEttIBoIGaRy', 'KOBE IS GOOD BT LEBRON HAS MY VOTE']\n",
      "['0', '1024', 'Mon May 11 05:22:51 UTC 2009', 'lebron', 'kellan38', 'Kobe is the best in the world not lebron .']\n",
      "['4', '1025', 'Mon May 11 05:52:44 UTC 2009', 'world cup', 'jsincere150', \"@asherroth World Cup 2010 Access?? Damn, that's a good look!\"]\n",
      "['4', '1026', 'Mon May 11 05:53:33 UTC 2009', 'world cup 2010', 'biren', 'Just bought my tickets for the 2010 FIFA World Cup in South Africa. Its going to be a great summer. http://bit.ly/9GEZI']\n",
      "['0', '2010', 'Thu May 14 02:58:11 UTC 2009', '\"booz allen\"', 'Moc5085', 'I have to go to Booz Allen Hamilton for a 2hr meeting :(  But then i get to go home :)']\n",
      "['4', '2011', 'Thu May 14 03:41:01 UTC 2009', 'indian election', 'citizenofindia', 'The great Indian tamasha truly will unfold from May 16, the result day for Indian General Election.']\n",
      "['4', '2012', 'Thu May 14 05:23:32 UTC 2009', 'kindle2', 'Melonze', \"@crlane I have the Kindle2. I've seen pictures of the DX, but haven't seen it in person. I love my Kindle - I'm on it everyday.\"]\n",
      "['4', '2013', 'Thu May 14 05:24:33 UTC 2009', 'kindle2', 'SPReviews', '@criticalpath Such an awesome idea - the  continual learning program with a Kindle2  http://bit.ly/1ZLfF']\n",
      "['4', '2015', 'Thu May 14 05:26:03 UTC 2009', '40d', 'Jen2Squared', '@faithbabywear Ooooh, what model are you getting??? I have the 40D and LOVE LOVE LOVE LOVE it!']\n",
      "['4', '2018', 'Fri May 15 06:45:54 UTC 2009', 'india election', '__new', \"The Times of India: The wonder that is India's election. http://bit.ly/p7u1H\"]\n",
      "['4', '2080', 'Sat May 16 16:18:47 UTC 2009', 'google', 'BillVick', 'http://is.gd/ArUJ Good video from Google on using search options.']\n",
      "['0', '2083', 'Sat May 16 22:42:21 UTC 2009', 'itchy', 'xmikeflhxcx', '@ambcharlesfield lol. Ah my skin is itchy :( damn lawnmowing.']\n",
      "['0', '2084', 'Sat May 16 22:42:40 UTC 2009', 'itchy', 'Timl9068', 'itchy back!! dont ya hate it!']\n",
      "['4', '2085', 'Sat May 16 23:48:10 UTC 2009', 'stanford', 'PassionModel', 'Stanford Charity Fashion Show a top draw http://cli.gs/NeNuAH']\n",
      "['4', '2086', 'Sat May 16 23:48:38 UTC 2009', 'stanford', 'TechUpdater', 'Stanford University?s Facebook Profile is One of the Most Popular Official University Pages - http://tinyurl.com/p5b3fl']\n",
      "['4', '2087', 'Sat May 16 23:58:44 UTC 2009', 'lyx', 'robotickilldozr', 'Lyx is cool.']\n",
      "['4', '2093', 'Sun May 17 15:04:50 UTC 2009', 'Danny Gokey', 'TheDALiSiA', 'SOOO DISSAPOiNTED THEY SENT DANNY GOKEY HOME... YOU STiLL ROCK ...DANNY ... MY HOMETOWN HERO !! YEAH MiLROCKEE!!']\n",
      "['4', '2094', 'Sun May 17 15:04:55 UTC 2009', 'Danny Gokey', 'fashion_retweet', \"RT @PassionModel 'American Idol' fashion: Adam Lambert tones down, Danny Gokey cute ... http://cli.gs/7JWSHV\"]\n",
      "['4', '2095', 'Sun May 17 15:05:07 UTC 2009', 'Danny Gokey', 'angelkim17', '@dannygokey I love you DANNY GOKEY!! :)']\n",
      "['0', '2097', 'Sun May 17 17:27:54 UTC 2009', 'sleep', 'nichole17', \"so tired. i didn't sleep well at all last night.\"]\n",
      "['0', '2098', 'Sun May 17 17:29:05 UTC 2009', 'san francisco', 'xstaylor', 'Boarding plane for San Francisco in 1 hour; 6 hr flight. Blech.']\n",
      "['0', '2099', 'Sun May 17 17:29:41 UTC 2009', 'san francisco', 'miwahh', 'bonjour San Francisco. My back hurts from last night..']\n",
      "['4', '2102', 'Sun May 17 17:30:48 UTC 2009', 'san francisco', 'deepikaC', 'With my best girl for a few more hours in San francisco. Mmmmmfamily is wonderful!']\n",
      "['0', '2103', 'Sun May 17 17:31:44 UTC 2009', 'aig', 'kaaslaw', 'F*** up big, or go home - AIG']\n",
      "['4', '2104', 'Sun May 17 17:34:55 UTC 2009', 'star trek', 'Pgobb', 'Went to see the Star Trek movie last night.  Very satisfying.']\n",
      "['4', '2105', 'Sun May 17 17:35:23 UTC 2009', 'star trek', 'qrboy85', \"I can't wait, going to see star trek tonight!!\"]\n",
      "['4', '2106', 'Sun May 17 17:35:58 UTC 2009', 'star trek', 'adamrisser', 'Star Trek was as good as everyone said!!']\n",
      "['4', '2107', 'Mon May 18 01:13:21 UTC 2009', 'Malcolm Gladwell', 'GoodPhoenix', 'am loving new malcolm gladwell book - outliers']\n",
      "['4', '2108', 'Mon May 18 01:13:42 UTC 2009', 'Malcolm Gladwell', 'silentcarto', \"I highly recommend Malcolm Gladwell's 'The Tipping Point.' My next audiobook will probably be one of his as well.\"]\n",
      "['0', '2109', 'Mon May 18 01:14:02 UTC 2009', 'Malcolm Gladwell', 'kerrrrrr', \"Malcolm Gladwell is a genius at tricking people into not realizing he's a fucking idiot\"]\n",
      "['0', '2110', 'Mon May 18 01:14:35 UTC 2009', 'Malcolm Gladwell', 'bling_crosby', '@sportsguy33 hey no offense but malcolm gladwell is a pretenious, annoying cunt and he brings you down. cant read his shit']\n",
      "['4', '2111', 'Mon May 18 01:15:31 UTC 2009', 'Malcolm Gladwell', 'ripplemdk', 'RT @clashmore: http://bit.ly/SOYv7  Great article by Malcolm Gladwell.']\n",
      "['4', '2112', 'Mon May 18 01:16:10 UTC 2009', 'Malcolm Gladwell', 'drewlew34', 'I seriously underestimated Malcolm Gladwell.  I want to meet this dude.']\n",
      "['0', '2113', 'Mon May 18 01:21:12 UTC 2009', 'comcast', 'MrsGinobili', 'i hate comcast right now. everything is down cable internet &amp; phone....ughh what am i to do']\n",
      "['0', '2114', 'Mon May 18 01:22:40 UTC 2009', 'comcast', 'stormygirl223', 'Comcast sucks.']\n",
      "['0', '2115', 'Mon May 18 01:23:00 UTC 2009', 'comcast', 'theZoctor', 'The day I never have to deal with Comcast again will rank as one of the best days of my life.']\n",
      "['0', '2116', 'Mon May 18 01:23:30 UTC 2009', 'comcast', 'motkeps', '@Dommm did comcast fail again??']\n",
      "['0', '2118', 'Mon May 18 03:10:52 UTC 2009', '\"twitter api\"', 'marekdsi', 'curses the Twitter API limit']\n",
      "['0', '2119', 'Mon May 18 03:11:27 UTC 2009', '\"twitter api\"', 'mikecane', 'Now I can see why Dave Winer screams about lack of Twitter API, its limitations and access throttles!']\n",
      "['0', '2121', 'Mon May 18 03:12:09 UTC 2009', '\"twitter api\"', 'rdoc420', 'Arg. Twitter API is making me crazy.']\n",
      "['4', '2137', 'Tue May 19 16:20:40 UTC 2009', 'wolfram alpha', 'jeffswhite', \"I'm really loving the new search site Wolfram/Alpha. Makes Google seem so ... quaint. http://www72.wolframalpha.com/\"]\n",
      "['0', '2138', 'Tue May 19 16:21:05 UTC 2009', 'wolfram alpha', 'marriop', '#wolfram Alpha SUCKS! Even for researchers the information provided is less than you can get from #google or #wikipedia, totally useless!']\n",
      "['4', '2139', 'Wed May 20 02:37:18 UTC 2009', 'nike', 'kewpiezmom', 'Off to the NIKE factory!!!']\n",
      "['4', '2140', 'Wed May 20 02:38:17 UTC 2009', 'nike', 'Chet_Lemon', 'New nike muppet commercials are pretty cute. Why do we live together again?']\n",
      "['0', '2143', 'Wed May 20 02:39:22 UTC 2009', 'nike', 'laurenornot', \"@Fraggle312 oh those are awesome! i so wish they weren't owned by nike :(\"]\n",
      "['4', '2158', 'Sat May 23 04:23:54 UTC 2009', 'shoreline amphitheatre', 'julieules', \"@tonyhawk http://twitpic.com/5c7uj - AWESOME!!! Seeing the show Friday at the Shoreline Amphitheatre. Never seen NIN before. Can't wait. ...\"]\n",
      "['0', '2159', 'Sat May 23 20:43:16 UTC 2009', 'weka', 'gux_kung', 'arhh, It\\'s weka bug. = =\" and I spent almost two hours to find that out. crappy me']\n",
      "['4', '2160', 'Sun May 24 16:18:46 UTC 2009', '50d', 'GrfxGuru', \"@mitzs hey bud :) np I do so love my 50D, although I'd love a 5D mkII more\"]\n",
      "['4', '2161', 'Sun May 24 16:18:54 UTC 2009', '50d', 'joelgoodman', '@jonduenas @robynlyn just got us a 50D for the office. :D']\n",
      "['4', '2162', 'Sun May 24 16:19:00 UTC 2009', '50d', 'trevorcgibson', \"Just picked up my new Canon 50D...it's beautiful!!  Prepare for some seriously awesome photography!\"]\n",
      "['4', '2163', 'Sun May 24 16:19:03 UTC 2009', '50d', 'ashpeckham', 'Just got my new toy. Canon 50D. Love love love it!']\n",
      "['4', '2164', 'Sun May 24 20:48:13 UTC 2009', 'lambda calculus', 'davidivins', 'Learning about lambda calculus :)']\n",
      "['4', '2166', 'Sun May 24 20:50:19 UTC 2009', 'east palo alto', 'nfarzan', \"I'm moving to East Palo Alto!\"]\n",
      "['4', '2171', 'Mon May 25 17:14:58 UTC 2009', 'stanford', 'tylerlin', '@ atebits I just finished watching your Stanford iPhone Class session. I really appreciate it. You Rock!']\n",
      "['4', '2172', 'Mon May 25 17:15:05 UTC 2009', 'stanford', 'souleaterjh', '@jktweet Hi! Just saw your Stanford talk and really liked your advice. Just saying Hi from Singapore (yes the videos do get around)']\n",
      "['4', '2175', 'Mon May 25 17:16:52 UTC 2009', 'lakers', 'JuanGir', \"LAKERS tonight let's go!!!!\"]\n",
      "['4', '2176', 'Mon May 25 17:17:10 UTC 2009', 'lakers', 'Alexi_G', 'Will the Lakers kick the Nuggets ass tonight?']\n",
      "['0', '2177', 'Mon May 25 17:18:49 UTC 2009', 'north korea', 'one_eighteen', 'Oooooooh... North Korea is in troubleeeee! http://bit.ly/19epAH']\n",
      "['0', '2178', 'Mon May 25 17:19:07 UTC 2009', 'north korea', 'FOLKTALE09', 'Wat the heck is North Korea doing!!??!! They just conducted powerful nuclear tests! Follow the link: http://www.msnbc.msn.com/id/30921379']\n",
      "['0', '2179', 'Mon May 25 17:19:30 UTC 2009', 'north korea', 'Mvsic', 'Listening to Obama... Friggin North Korea...']\n",
      "['0', '2180', 'Mon May 25 17:21:16 UTC 2009', 'pelosi', 'CFURNAROS', 'I just realized we three monkeys in the white Obama.Biden,Pelosi . Sarah Palin 2012']\n",
      "['0', '2181', 'Mon May 25 17:21:30 UTC 2009', 'pelosi', 'Rachael90210', '@foxnews Pelosi should stay in China and never come back.']\n",
      "['0', '2182', 'Mon May 25 17:21:35 UTC 2009', 'pelosi', 'TylerSchmidt', \"Nancy Pelosi gave the worst commencement speech I've ever heard. Yes I'm still bitter about this\"]\n",
      "['0', '2183', 'Mon May 25 17:25:36 UTC 2009', 'insects', 'KayJay_x', 'ugh. the amount of times these stupid insects have bitten me. Grr..']\n",
      "['4', '2184', 'Mon May 25 17:25:54 UTC 2009', 'insects', 'BecCrew', 'Prettiest insects EVER - Pink Katydids: http://bit.ly/2Upw2p']\n",
      "['0', '2185', 'Mon May 25 17:26:30 UTC 2009', 'insects', 'euthanasia86', 'Just got barraged by a horde of insects hungry for my kitchen light. So scary.']\n",
      "['4', '2187', 'Mon May 25 17:29:06 UTC 2009', 'mcdonalds', 'connlocks', 'Just had McDonalds for dinner. :D It was goooood. Big Mac Meal. ;)']\n",
      "['4', '2188', 'Mon May 25 17:29:11 UTC 2009', 'mcdonalds', 'MamiYessi', 'AHH YES LOL IMA TELL MY HUBBY TO GO GET ME SUM MCDONALDS =]']\n",
      "['4', '2190', 'Mon May 25 17:29:46 UTC 2009', 'mcdonalds', 'Yuleineeee', 'Stopped to have lunch at McDonalds. Chicken Nuggetssss! :) yummmmmy.']\n",
      "['4', '2191', 'Mon May 25 17:29:51 UTC 2009', 'mcdonalds', 'XrachulX', 'Could go for a lot of McDonalds. i mean A LOT.']\n",
      "['4', '2193', 'Mon May 25 17:31:52 UTC 2009', 'exam', 'xKimmelie', 'my exam went good. @HelloLeonie: your prayers worked (:']\n",
      "['4', '2194', 'Mon May 25 17:31:58 UTC 2009', 'exam', 'laulaulauren', 'Only one exam left, and i am so happy for it :D']\n",
      "['0', '2195', 'Mon May 25 17:32:22 UTC 2009', 'exam', 'elllllen', 'Math review. Im going to fail the exam.']\n",
      "['0', '2196', 'Mon May 25 17:35:08 UTC 2009', 'cheney', 'LPSsports43', 'Colin Powell rocked yesterday on CBS. Cheney needs to shut the hell up and go home.Powell is a man of Honor and served our country proudly']\n",
      "['0', '2197', 'Mon May 25 17:35:43 UTC 2009', 'cheney', 'joahs', 'obviously not siding with Cheney here: http://bit.ly/19j2d']\n",
      "['4', '2202', 'Tue May 26 22:39:46 UTC 2009', 'mashable', 'paulobsf', 'Absolutely hilarious!!! from @mashable:  http://bit.ly/bccWt']\n",
      "['4', '2203', 'Tue May 26 22:40:41 UTC 2009', 'mashable', 'christinerose', '@mashable I never did thank you for including me in your Top 100 Twitter Authors! You Rock! (&amp; I New Wave :-D) http://bit.ly/EOrFV']\n",
      "['4', '2205', 'Wed May 27 00:37:30 UTC 2009', 'jquery book', 'pdelsignore', 'RT @shrop: Awesome JQuery reference book for Coda! http://www.macpeeps.com/coda/ #webdesign']\n",
      "['4', '2206', 'Wed May 27 00:38:44 UTC 2009', 'goodby silverstein', 'bskatz', \"I've been sending e-mails like crazy today to my contacts...does anyone have a contact at Goodby SIlverstein...I'd love to speak to them\"]\n",
      "['4', '2208', 'Wed May 27 00:39:17 UTC 2009', 'goodby silverstein', 'designplay', \"Goodby, Silverstein's new site... http://www.goodbysilverstein.com/ I enjoy it.\"]\n",
      "['4', '2220', 'Wed May 27 23:49:35 UTC 2009', 'g2', 'Drisgill', \"Wow everyone at the Google I/O conference got free G2's with a month of unlimited service\"]\n",
      "['4', '2221', 'Wed May 27 23:50:26 UTC 2009', 'g2', 'DearJellyHiJely', '@vkerkez dood I got a free google android phone at the I/O conference. The G2!']\n",
      "['4', '2222', 'Wed May 27 23:50:48 UTC 2009', 'g2', 'itamarw', '@Orli the G2 is amazing btw, a HUGE improvement over the G1']\n",
      "['4', '2223', 'Wed May 27 23:56:46 UTC 2009', 'googleio', 'daynah', \"HTML 5 Demos! Lots of great stuff to come! Yes, I'm excited. :) http://htmlfive.appspot.com #io2009 #googleio\"]\n",
      "['4', '2224', 'Wed May 27 23:56:53 UTC 2009', 'googleio', 'jackdaniels08', '@googleio http://twitpic.com/62shi - Yay! Happy place! Place place!  I love Google!']\n",
      "['4', '2225', 'Wed May 27 23:57:02 UTC 2009', 'googleio', 'alpheus1', '#GoogleIO | O3D - Bringing 3d graphics to the browser. Very nice tbh. Funfun.']\n",
      "['4', '2295', 'Sun May 31 06:51:32 UTC 2009', 'viral marketing', 'joshgammon', 'Awesome viral marketing for \"Funny People\" http://www.nbc.com/yo-teach/']\n",
      "['0', '2355', 'Tue Jun 02 02:54:08 UTC 2009', '\"night at the museum\"', 'TiffanyBakker', 'saw night at the museum out of sheer desperation. who is funding these movies?']\n",
      "['4', '2356', 'Tue Jun 02 02:54:11 UTC 2009', '\"night at the museum\"', 'kezzumz', 'Night At The Museum 2? Pretty furkin good.']\n",
      "['4', '2357', 'Tue Jun 02 02:54:14 UTC 2009', '\"night at the museum\"', 'bodhibuggy', 'Watching Night at the Museum - giggling.']\n",
      "['0', '2361', 'Tue Jun 02 02:55:06 UTC 2009', '\"night at the museum\"', 'Bcapote', \"Back from seeing 'Star Trek' and 'Night at the Museum.' 'Star Trek' was amazing, but 'Night at the Museum' was; eh.\"]\n",
      "['4', '2362', 'Tue Jun 02 02:55:31 UTC 2009', '\"night at the museum\"', 'crikket_churps', 'just watched night at the museum 2! so stinkin cute!']\n",
      "['4', '2363', 'Tue Jun 02 02:55:50 UTC 2009', '\"night at the museum\"', 'tish_tish', \"So, Night at the Museum 2 was AWESOME! Much better than part 1. Next weekend we'll see Up.\"]\n",
      "['4', '2366', 'Tue Jun 02 02:56:44 UTC 2009', '\"night at the museum\"', 'Pas_de_Cheval', 'saw the new Night at the Museum and i loved it. Next is to go see UP in 3D']\n",
      "['0', '2367', 'Tue Jun 02 03:00:28 UTC 2009', 'gm', 'lloydnelson', 'It is a shame about GM. What if they are forced to make only cars the White House THINKS will sell? What do you think?']\n",
      "['0', '2368', 'Tue Jun 02 03:00:40 UTC 2009', 'gm', 'overthrow', 'As u may have noticed, not too happy about the GM situation, nor AIG, Lehman, et al']\n",
      "['0', '2370', 'Tue Jun 02 03:02:00 UTC 2009', 'gm', 'tradecruz', '@Pittstock $GM good riddance.  sad though.']\n",
      "['0', '2371', 'Tue Jun 02 03:02:34 UTC 2009', 'gm', 'ZendoDeb', 'I Will NEVER Buy a Government Motors Vehicle: Until just recently, I drove GM cars. Since 1988, when I bought a .. http://tinyurl.com/lulsw8']\n",
      "['0', '2372', 'Tue Jun 02 03:04:22 UTC 2009', 'gm', 'rbmshow', 'Having the old Coca-Cola guy on the GM board is stupid has heck! #tcot #ala']\n",
      "['0', '2373', 'Tue Jun 02 03:04:35 UTC 2009', 'gm', 'Ash_Craigslist', '#RantsAndRaves The worst thing about GM (concord / pleasant hill / martinez): is the fucking UAW. ..   http://buzzup.com/4ueb']\n",
      "['0', '2374', 'Tue Jun 02 03:04:45 UTC 2009', 'gm', 'BarackProblema', 'Give a man a fish, u feed him for the day. Teach him to fish, u feed him for life. Buy him GM, and u F**K him over for good.']\n",
      "['0', '2375', 'Tue Jun 02 03:05:18 UTC 2009', 'gm', 'ericdano', 'The more I hear about this GM thing the more angry I get. Billions wasted, more bullshit. All for something like 40k employees and all the..']\n",
      "['0', '2376', 'Tue Jun 02 03:05:50 UTC 2009', 'gm', 'tradecruz', '@QuantTrader i own a GM car and it is junk as far as quality compared to a honda']\n",
      "['0', '2377', 'Tue Jun 02 03:06:40 UTC 2009', 'gm', 'ktsophie', 'sad day...bankrupt GM']\n",
      "['0', '2378', 'Tue Jun 02 03:06:45 UTC 2009', 'gm', 'nicolemg415', 'is upset about the whole GM thing. life as i know it is so screwed up']\n",
      "['0', '2379', 'Tue Jun 02 03:14:21 UTC 2009', 'time warner', 'ProofofVenom', 'whoever is running time warner needs to be repeatedly raped by a rhino so they understand the consequences of putting out shitty cable svcs']\n",
      "['0', '2381', 'Tue Jun 02 03:15:18 UTC 2009', 'time warner', 'batchoutlost', '#WFTB Joining a bit late. My connection was down (boo time warner)']\n",
      "['0', '2382', 'Tue Jun 02 03:15:32 UTC 2009', 'time warner', 'floatingatoll', 'Cox or Time Warner?  Cox is cheaper and gets a B on dslreports.  TW is more expensive and gets a C.']\n",
      "['0', '2383', 'Tue Jun 02 03:15:52 UTC 2009', 'time warner', 'kippy2', 'i am furious with time warner and their phone promotions!']\n",
      "['0', '2384', 'Tue Jun 02 03:16:23 UTC 2009', 'time warner', 'iamtony', 'Just got home from chick-fil-a with the boys. Damn my internets down =( stupid time warner']\n",
      "['0', '2385', 'Tue Jun 02 03:16:42 UTC 2009', 'time warner', 'dcwhip', 'could time-warner cable suck more?  NO.']\n",
      "['0', '2386', 'Tue Jun 02 03:17:03 UTC 2009', 'time warner', 'JustGLB', 'Pissed at Time Warner for causin me to have slow internet problems']\n",
      "['0', '2387', 'Tue Jun 02 03:18:04 UTC 2009', 'time warner', 'chaneykyoto', '@sportsguy33 Ummm, having some Time Warner problems?']\n",
      "['0', '2388', 'Tue Jun 02 03:18:49 UTC 2009', 'time warner', 'ldmullen', 'You guys see this?  Why does Time Warner have to suck so much ass?  Really wish I could get U-Verse at my apartment. http://bit.ly/s594j']\n",
      "['0', '2389', 'Tue Jun 02 03:22:08 UTC 2009', 'time warner', 'JohnTurlington', \"RT @sportsguy33 The upside to Time Warner: unhelpful phone operators   superslow on-site service. Crap, that's not an upside.\"]\n",
      "['0', '2390', 'Tue Jun 02 03:22:19 UTC 2009', 'time warner', 'johnscleary', 'RT @sportsguy33: New Time Warner slogan: \"Time Warner, where we make you long for the days before cable.\"']\n",
      "['0', '2391', 'Tue Jun 02 03:23:36 UTC 2009', 'time warner', 'ecormany', \"confirmed: it's Time Warner's fault, not Facebook's, that fb is taking about 3 minutes to load. so tempted to switch to verizon =/\"]\n",
      "['0', '2392', 'Tue Jun 02 03:24:00 UTC 2009', 'time warner', 'matsonj', '@sportsguy33 Time Warner = epic fail']\n",
      "['0', '2396', 'Tue Jun 02 03:27:34 UTC 2009', 'gm', 'PeteHall', \"I know. How sad is that?  RT @caseymercier: 1st day of hurricane season. That's less scarey than govt taking over GM.\"]\n",
      "['0', '2397', 'Tue Jun 02 03:27:52 UTC 2009', 'gm', 'ram_zone', 'GM files Bankruptcy, not a good sign...']\n",
      "['4', '2398', 'Tue Jun 02 03:28:41 UTC 2009', 'yankees', 'irishyanks', 'yankees won mets lost. its a good day.']\n",
      "['4', '2399', 'Tue Jun 02 03:29:47 UTC 2009', 'dentist', 'Erinthebigsis', 'My dentist appt today was actually quite enjoyable.']\n",
      "['0', '2400', 'Tue Jun 02 03:32:10 UTC 2009', 'dentist', 'cassieeeelove', 'I hate the effing dentist.']\n",
      "['0', '2402', 'Tue Jun 02 03:33:25 UTC 2009', 'dentist', 'b_bassi', '@kirstiealley I hate going to the dentist.. !!!']\n",
      "['0', '2403', 'Tue Jun 02 03:34:23 UTC 2009', 'dentist', 'cmg11', 'i hate the dentist....who invented them anyways?']\n",
      "['0', '2404', 'Tue Jun 02 03:34:37 UTC 2009', 'dentist', 'arianaflyy', \"this dentist's office is cold :/\"]\n",
      "['4', '2413', 'Tue Jun 02 04:41:13 UTC 2009', 'safeway', 'LaurenAmor', 'Just applied at Safeway!(: Yeeeee!']\n",
      "['0', '2414', 'Tue Jun 02 04:41:24 UTC 2009', 'safeway', 'TravisJensenSF', '@ Safeway. Place is a nightmare right now. Bumming.']\n",
      "['0', '2416', 'Tue Jun 02 04:41:41 UTC 2009', 'safeway', 'fugface85', 'HATE safeway select green tea icecream! bought two cartons, what a waste of money.  &gt;_&lt;']\n",
      "['4', '2504', 'Thu Jun 04 16:53:20 UTC 2009', 'nike', 'marieforleo', \"Nike rocks. I'm super grateful for what I've done with them :) &amp; the European Division of NIKE is BEYOND! @whitSTYLES @muchasmuertes\"]\n",
      "['4', '2506', 'Thu Jun 04 16:54:17 UTC 2009', 'nike', 'TheGlossMagazin', '@evelynbyrne have you tried Nike  ? V. addictive.']\n",
      "['4', '2508', 'Thu Jun 04 16:54:36 UTC 2009', 'nike', 'TracySuter', 'The Nike Training Club (beta) iPhone app looks very interesting.']\n",
      "['0', '2529', 'Sun Jun 07 01:12:38 UTC 2009', 'jquery', 'TobyJuanKenobi', \"argghhhh why won't  my jquery appear in safari bad safari !!!\"]\n",
      "['4', '2532', 'Sun Jun 07 01:13:23 UTC 2009', 'jquery', 'ghurson', \"I'm ready to drop the pretenses, I am forever in love with jQuery, and I want to marry it. Sorry ladies, this nerd is jquery.spokenFor.js\"]\n",
      "['4', '2538', 'Sun Jun 07 03:28:18 UTC 2009', 'warren buffet', 'PragCapitalist', 'SUPER INVESTORS: A great weekend read here from Warren Buffet. Oldie, but a goodie. http://tinyurl.com/oqxgga']\n",
      "['4', '2540', 'Sun Jun 07 03:29:04 UTC 2009', 'warren buffet', 'goncalol', \"reading Michael Palin book, The Python Years...great book. I also recommend Warren Buffet &amp; Nelson Mandela's bio\"]\n",
      "['4', '2541', 'Sun Jun 07 17:42:50 UTC 2009', 'notre dame school', 'BobtheRobot', \"I mean, I'm down with Notre Dame if I have to.  It's a good school, I'd be closer to Dan, I'd enjoy it.\"]\n",
      "['0', '2543', 'Sun Jun 07 21:47:45 UTC 2009', 'time warner', 'Hittman', \"I can't watch TV without a Tivo.  And after all these years, the Time/Warner DVR  STILL sucks. http://www.davehitt.com/march03/twdvr.html\"]\n",
      "['4', '2544', 'Mon Jun 08 00:01:27 UTC 2009', 'federer', 'aiban', \"I'd say some sports writers are idiots for saying Roger Federer is one of the best ever in Tennis.  Roger Federer is THE best ever in Tennis\"]\n",
      "['0', '2545', 'Mon Jun 08 00:12:16 UTC 2009', 'kindle2', 'nyctimes', 'I still love my Kindle2 but reading The New York Times on it does not feel natural. I miss the Bloomingdale ads.']\n",
      "['4', '2546', 'Mon Jun 08 00:13:48 UTC 2009', 'kindle2', 'k8tb52', 'I love my Kindle2. No more stacks of books to trip over on the way to the loo.']\n",
      "['0', '2558', 'Mon Jun 08 19:59:10 UTC 2009', 'at&t', 'taylorcarrigan', \"Although today's keynote rocked, for every great announcement, AT&amp;T shit on us just a little bit more.\"]\n",
      "['0', '2559', 'Mon Jun 08 19:59:50 UTC 2009', 'at&t', 'susanjane', \"@sheridanmarfil - its not so much my obsession with cell phones, but the iphone!  i'm a slave to at&amp;t forever because of it. :)\"]\n",
      "['0', '2562', 'Mon Jun 08 20:06:40 UTC 2009', 'at&t', 'iPhoneFuzzball', 'Fuzzball is more fun than AT&amp;T ;P http://fuzz-ball.com/twitter']\n",
      "['0', '2563', 'Mon Jun 08 20:07:44 UTC 2009', 'at&t', 'itsolivia', 'Today is a good day to dislike AT&amp;T. Vote out of office indeed, @danielpunkass']\n",
      "['4', '2564', 'Mon Jun 08 20:46:18 UTC 2009', 'wave sandbox', 'kyrabeckf', \"GOT MY WAVE SANDBOX INVITE! Extra excited! Too bad I have class now... but I'll play with it soon enough! #io2009 #wave\"]\n",
      "['0', '2575', 'Tue Jun 09 03:58:11 UTC 2009', 'summize', 'auxesis', 'looks like summize has gone down. too many tweets from WWDC perhaps?']\n",
      "['4', '2578', 'Tue Jun 09 05:17:27 UTC 2009', 'kindle2', 'kmozena', '@sklososky Thanks so much!!! ...from one of your *very* happy Kindle2 winners ; ) I was so surprised, fabulous. Thank you! Best, Kathleen']\n",
      "['0', '2579', 'Tue Jun 09 05:53:40 UTC 2009', 'iphone app', 'Jesssssii', 'Man I kinda dislike Apple right now. Case in point: the iPhone 3GS. Wish there was a video recorder app. Please?? http://bit.ly/DZm1T']\n",
      "['4', '7011', 'Wed Jun 10 04:03:37 UTC 2009', 'kindle2', 'jimhong', '@cwong08 I have a Kindle2 (&amp; Sony PRS-500). Like it! Physical device feels good. Font is nice. Pg turns are snappy enuf. UI a little klunky.']\n",
      "['4', '7012', 'Wed Jun 10 04:03:53 UTC 2009', 'kindle2', 'Ant_Ward', 'The #Kindle2 seems the best eReader, but will it work in the UK and where can I get one?']\n",
      "['4', '7015', 'Wed Jun 10 05:24:40 UTC 2009', 'google', 'popitlockit', 'I have a google addiction. Thank you for pointing that out, @annamartin123. Hahaha.']\n",
      "['0', '8052', 'Wed Jun 10 15:32:06 UTC 2009', 'visa card', '_abi_', \"dearest @google, you rich bastards! the VISA card you sent me doesn't work. why screw a little guy like me?\"]\n",
      "['4', '13052', 'Sat Jun 13 16:24:08 UTC 2009', 'Bobby Flay', 'tessalau', 'Excited about seeing Bobby Flay and Guy Fieri tomorrow at the Great American Food &amp; Music Fest!']\n",
      "['4', '13053', 'Sat Jun 13 16:24:12 UTC 2009', 'Bobby Flay', 'ZFilth', 'Gonna go see Bobby Flay 2moro at Shoreline. Eat and drink. Gonna be good.']\n",
      "['4', '13054', 'Sat Jun 13 16:24:25 UTC 2009', 'Bobby Flay', 'annieblane', \"can't wait for the great american food and music festival at shoreline tomorrow.  mmm...katz pastrami and bobby flay. yes please.\"]\n",
      "['4', '13055', 'Sat Jun 13 16:24:34 UTC 2009', 'Bobby Flay', 'LAURAcBRYAN', 'My dad was in NY for a day, we ate at MESA grill last night and met Bobby Flay. So much fun, except I completely lost my voice today.']\n",
      "['0', '13073', 'Sun Jun 14 04:35:33 UTC 2009', 'latex', 'NathanChalmers', 'Fighting with LaTex. Again...']\n",
      "['0', '13074', 'Sun Jun 14 04:35:53 UTC 2009', 'latex', 'LoonyLongbottom', \"@Iheartseverus we love you too and don't want you to die!!!!!!  Latex = the devil\"]\n",
      "['0', '13075', 'Sun Jun 14 04:36:07 UTC 2009', 'latex', 'QuadError', \"7 hours. 7 hours of inkscape crashing, normally solid as a rock. 7 hours of LaTeX complaining at the slightest thing. I can't take any more.\"]\n",
      "['0', '13077', 'Sun Jun 14 21:36:04 UTC 2009', 'iran', 'sketoaks', \"Shit's hitting the fan in Iran...craziness indeed #iranelection\"]\n",
      "['0', '13078', 'Sun Jun 14 21:36:09 UTC 2009', 'iran', 'jamespenycate', 'Monday already. Iran may implode. Kitchen is a disaster. @annagoss seems happy. @sebulous had a nice weekend and @goldpanda is great. whoop.']\n",
      "['4', '14046', 'Sat Jun 13 16:23:41 UTC 2009', 'Bobby Flay', 'JimFacey', 'getting ready to test out some burger receipes this weekend. Bobby Flay has some great receipes to try. Thanks Bobby.']\n",
      "['4', '14050', 'Sat Jun 13 16:24:15 UTC 2009', 'Bobby Flay', 'A_TALL_BLONDE', 'i lam so in love with Bobby Flay... he is my favorite. RT @terrysimpson: @bflay you need a place in Phoenix. We have great peppers here!']\n",
      "['0', '14069', 'Sun Jun 14 04:31:12 UTC 2009', 'latex', 'rooney_tunes', \"I just created my first LaTeX file from scratch. That didn't work out very well. (See @amandabittner , it's a great time waster)\"]\n",
      "['4', '14070', 'Sun Jun 14 04:31:23 UTC 2009', 'latex', 'roguemovement', 'using Linux and loving it - so much nicer than windows... Looking forward to using the wysiwyg latex editor!']\n",
      "['4', '14071', 'Sun Jun 14 04:31:28 UTC 2009', 'latex', 'yomcat', 'After using LaTeX a lot, any other typeset mathematics just looks hideous.']\n",
      "['0', '14073', 'Sun Jun 14 04:32:17 UTC 2009', 'latex', 'sam33r', 'On that note, I hate Word. I hate Pages. I hate LaTeX. There, I said it. I hate LaTeX. All you TEXN3RDS can come kill me now.']\n",
      "['4', '14074', 'Sun Jun 14 04:36:34 UTC 2009', 'latex', 'iamtheonlyjosie', 'Ahhh... back in a *real* text editing environment. I &lt;3 LaTeX.']\n",
      "['0', '14075', 'Sun Jun 14 21:36:07 UTC 2009', 'iran', 'plutopup7', 'Trouble in Iran, I see. Hmm. Iran. Iran so far away. #flockofseagullsweregeopoliticallycorrect']\n",
      "['0', '14076', 'Sun Jun 14 21:36:17 UTC 2009', 'iran', 'captain_pete', 'Reading the tweets coming out of Iran... The whole thing is terrifying and incredibly sad...']\n"
     ]
    }
   ],
   "source": [
    "with open('datasets/testdata.manualSUBSET.2009.06.14.csv') as test_file:\n",
    "    reader = csv.reader(test_file)\n",
    "    indices = [0, None]\n",
    "    for row in itertools.islice(reader, *indices):\n",
    "        print row"
   ]
  },
  {
   "cell_type": "code",
   "execution_count": 247,
   "metadata": {
    "collapsed": false,
    "scrolled": true
   },
   "outputs": [
    {
     "name": "stdout",
     "output_type": "stream",
     "text": [
      "unpickle the dictionary\n",
      "Initialized lexHash from pickled data.\n"
     ]
    },
    {
     "data": {
      "text/plain": [
       "<StringIO.StringIO instance at 0x1065b5b48>"
      ]
     },
     "execution_count": 247,
     "metadata": {},
     "output_type": "execute_result"
    }
   ],
   "source": [
    "output_buf = StringIO.StringIO()\n",
    "twtt(output_buf, 'datasets/testdata.manualSUBSET.2009.06.14.csv')"
   ]
  },
  {
   "cell_type": "code",
   "execution_count": 248,
   "metadata": {
    "collapsed": false,
    "scrolled": true
   },
   "outputs": [
    {
     "name": "stdout",
     "output_type": "stream",
     "text": [
      "<A=4>\n",
      "stellargirl/NN I/PRP loooooooovvvvvveee/NN my/PRP$ Kindle2/NN ./.\n",
      "Not/RB that/IN the/DT DX/NNP is/VBZ cool/JJ ,/, but/CC the/DT 2/NN is/VBZ fantastic/JJ in/IN its/PRP$ own/JJ right/NN ./.\n",
      "<A=4>\n",
      "Reading/VBG my/PRP$ kindle2/NN .../:\n",
      "Love/NNP it/PRP .../:\n",
      "Lee/NNP childs/NNS is/VBZ good/JJ read/VB ./.\n",
      "<A=4>\n",
      "Ok/NNP ,/, first/JJ assesment/NN of/IN the/DT kindle2/NN .../: it/PRP fucking/VBG rocks/NNS !!!/NN\n",
      "<A=4>\n",
      "kenburbary/NN You/PRP '/POS ll/NN love/NN your/PRP$ Kindle2/NN ./.\n",
      "I/PRP '/POS ve/NN had/VBD mine/NN for/IN a/DT few/JJ months/NNS and/CC never/RB looked/VBD back/RB ./.\n",
      "The/DT new/JJ big/JJ one/CD is/VBZ huge/JJ !/.\n",
      "No/DT need/VBN for/IN remorse/NN !/.\n",
      ":/: )/)\n",
      "<A=4>\n",
      "mikefish/NN Fair/NNP enough/RB ./.\n",
      "But/CC i/NN have/VBP the/DT Kindle2/NN and/CC I/PRP think/VBP it/PRP 's/POS perfect/JJ :/: )/)\n",
      "<A=4>\n",
      "richardebaker/NN no/DT ./.\n",
      "it/PRP is/VBZ too/RB big/JJ ./.\n",
      "I/PRP 'm/VBP quite/RB happy/JJ with/IN the/DT Kindle2/NN ./.\n",
      "<A=0>\n",
      "Fuck/VB this/DT economy/NN ./.\n",
      "I/PRP hate/VBP aig/NN and/CC their/PRP$ non/FW loan/NN given/VBN asses/NNS ./.\n",
      "<A=4>\n",
      "Jquery/NN is/VBZ my/PRP$ new/JJ best/JJS friend/NN ./.\n",
      "<A=4>\n",
      "Loves/VBZ twitter/NN\n",
      "<A=4>\n",
      "how/WRB can/MD you/PRP not/RB love/NN Obama/NN ?/.\n",
      "he/PRP makes/VBZ jokes/NNS about/IN himself/PRP ./.\n",
      "<A=0>\n",
      "Karoli/NN I/PRP firmly/RB believe/VBP that/IN Obama/NN //NN Pelosi/NN have/VBP ZERO/CD desire/NN to/TO be/VB civil/JJ ./.\n",
      "It/PRP 's/POS a/DT charade/NN and/CC a/DT slogan/NN ,/, but/CC they/PRP want/VBP to/TO destroy/VB conservatism/NN\n",
      "<A=4>\n",
      "House/NNP Correspondents/NNPS dinner/NN was/VBD last/JJ night/NN whoopi/NN ,/, barbara/NN &/CC sherri/NN went/VBD ,/, Obama/NN got/VBD a/DT standing/VBG ovation/NN\n",
      "<A=4>\n",
      "Watchin/NN Espn/NN ../. Jus/NNS seen/VBN this/DT new/JJ Nike/NNP Commerical/JJ with/IN a/DT Puppet/NN Lebron/NN ../. sh/NN */SYM t/NN was/VBD hilarious/JJ .../: LMAO/NN !!!/NN\n",
      "<A=0>\n",
      "dear/JJ nike/NN ,/, stop/VB with/IN the/DT flywire/NN ./.\n",
      "that/IN shit/NN is/VBZ a/DT waste/NN of/IN science/NN ./.\n",
      "and/CC ugly/RB ./.\n",
      "love/NN ,/, vincentx24x/NN\n",
      "<A=4>\n",
      "lebron/NN best/JJS athlete/NN of/IN our/PRP$ generation/NN ,/, if/IN not/RB all/DT time/NN (/( basketball/NN related/VBN )/) I/PRP don/VB 't/NN want/VBP to/TO get/VB into/IN inter/FW -/: sport/NN debates/NNS about/IN __/NN 1/NN //NN 2/NN\n",
      "<A=0>\n",
      "I/PRP was/VBD talking/VBG to/TO this/DT guy/NN last/JJ night/NN and/CC he/PRP was/VBD telling/VBG me/PRP that/IN he/PRP is/VBZ a/DT die/NN hard/JJ Spurs/NNS fan/NN ./.\n",
      "He/PRP also/RB told/VBD me/PRP that/IN he/PRP hates/VBZ LeBron/NN James/NNP ./.\n",
      "<A=4>\n",
      "i/NN love/NN lebron/NN ./.\n",
      "<A=0>\n",
      "ludajuice/NN Lebron/NN is/VBZ a/DT Beast/NNP ,/, but/CC I/PRP 'm/VBP still/RB cheering/VBG 4/NN the/DT A/DT ../. til/NN the/DT end/NN ./.\n",
      "<A=4>\n",
      "Pmillzz/NN lebron/NN IS/VBZ THE/DT BOSS/NN\n",
      "<A=4>\n",
      "sketchbug/NN Lebron/NN is/VBZ a/DT hometown/NN hero/NN to/TO me/PRP ,/, lol/NN I/PRP love/NN the/DT Lakers/NNP but/CC let/VB 's/POS go/VB Cavs/NNS ,/, lol/NN\n",
      "<A=4>\n",
      "lebron/NN and/CC zydrunas/NNS are/VBP such/JJ an/DT awesome/JJ duo/NN\n",
      "<A=4>\n",
      "wordwhizkid/NN Lebron/NN is/VBZ a/DT beast/NN .../:\n",
      "nobody/NN in/IN the/DT NBA/NNP comes/VBZ even/RB close/VB ./.\n",
      "<A=4>\n",
      "downloading/VBG apps/NNS for/IN my/PRP$ iphone/NN !/.\n",
      "So/RB much/JJ fun/NN :/: -/: )/) There/EX literally/RB is/VBZ an/DT app/NN for/IN just/RB about/IN anything/VBG ./.\n",
      "<A=4>\n",
      "good/JJ news/NNS ,/, just/RB had/VBD a/DT call/NN from/IN the/DT Visa/NNP office/NN ,/, saying/VBG everything/VBG is/VBZ fine/JJ ...../CD what/WP a/DT relief/NN !/.\n",
      "I/PRP am/VBP sick/JJ of/IN scams/NNS out/IN there/EX !/.\n",
      "Stealing/VBG !/.\n",
      "<A=4>\n",
      "-/: awesome/JJ come/VB back/RB from/IN biz/NN (/( via/IN fredwilson/NN )/)\n",
      "<A=4>\n",
      "In/IN montreal/JJ for/IN a/DT long/JJ weekend/NN of/IN R/NN &/CC R/NN ./.\n",
      "Much/RB needed/VBN ./.\n",
      "<A=4>\n",
      "Booz/NNP Allen/NNP Hamilton/NNP has/VBZ a/DT bad/JJ ass/NNS homegrown/NN social/JJ collaboration/NN platform/NN ./.\n",
      "Way/NN cool/JJ !/.\n",
      "ttiv/NN\n",
      "<A=4>\n",
      "[/( #/# MLUC09/NN ]/) Customer/NN Innovation/NNP Award/NNP Winner/NNP :/: Booz/NNP Allen/NNP Hamilton/NNP --/:\n",
      "<A=4>\n",
      "SoChi2/NN I/PRP current/JJ use/NN the/DT Nikon/NNP D90/NN and/CC love/NN it/PRP ,/, but/CC not/RB as/IN much/JJ as/IN the/DT Canon/NNP 40D/NN //NN 50D/NN ./.\n",
      "I/PRP chose/VBD the/DT D90/NN for/IN the/DT video/NN feature/NN ./.\n",
      "My/PRP$ mistake/NN ./.\n",
      "<A=4>\n",
      "phyreman9/NN Google/NN is/VBZ always/RB a/DT good/JJ place/NN to/TO look/VB ./.\n",
      "Should/MD '/POS ve/NN mentioned/VBN I/PRP worked/VBD on/IN the/DT Mustang/NNP w/IN //NN my/PRP$ Dad/NNP ,/, KimbleT/NN ./.\n",
      "<A=0>\n",
      "Played/VBN with/IN an/DT android/NN google/NN phone/NN ./.\n",
      "The/DT slide/NN out/IN screen/NN scares/NNS me/PRP I/PRP would/MD break/VB that/IN fucker/NN so/RB fast/RB ./.\n",
      "Still/RB prefer/VBP my/PRP$ iPhone/NN ./.\n",
      "<A=0>\n",
      "US/PRP planning/VBG to/TO resume/VB the/DT military/JJ tribunals/NNS at/IN Guantanamo/NN Bay/NNP .../:\n",
      "only/RB this/DT time/NN those/DT on/IN trial/JJ will/MD be/VB AIG/NNP execs/NNS and/CC Chrysler/NNP debt/NN holders/NNS\n",
      "<A=0>\n",
      "omg/NN so/RB bored/VBN &/CC my/PRP$ tattoooos/NNS are/VBP so/RB itchy/JJ !!/NN\n",
      "help/VB !/.\n",
      "aha/NN =/SYM )/)\n",
      "<A=0>\n",
      "I/PRP 'm/VBP itchy/JJ and/CC miserable/JJ !/.\n",
      "<A=0>\n",
      "sekseemess/NNS no/DT ./.\n",
      "I/PRP 'm/VBP not/RB itchy/JJ for/IN now/RB ./.\n",
      "Maybe/RB later/RB ,/, lol/NN ./.\n",
      "<A=4>\n",
      "RT/NN jessverr/NN I/PRP love/NN the/DT nerdy/JJ Stanford/NNP human/JJ biology/NN videos/NNS -/: makes/VBZ me/PRP miss/VB school/NN ./.\n",
      "<A=4>\n",
      "spinuzzi/NN :/: Has/VBZ been/VBN a/DT bit/NN crazy/JJ ,/, with/IN steep/JJ learning/VBG curve/NN ,/, but/CC LyX/NN is/VBZ really/RB good/JJ for/IN long/JJ docs/NNS ./.\n",
      "For/IN anything/VBG shorter/JJR ,/, it/PRP would/MD be/VB insane/JJ ./.\n",
      "<A=4>\n",
      "I/PRP 'm/VBP listening/VBG to/TO \"/\" P/NN ./. Y/NNP ./. T/NN \"/\" by/IN Danny/NNP Gokey/NN </SYM 3/NN </SYM 3/NN </SYM 3/NN Aww/NN ,/, he/PRP 's/POS so/RB amazing/JJ ./.\n",
      "I/PRP </SYM 3/NN him/PRP so/RB much/JJ :/: )/)\n",
      "<A=4>\n",
      "is/VBZ going/VBG to/TO sleep/VB then/RB on/IN a/DT bike/NN ride/VB :/: ]/)\n",
      "<A=0>\n",
      "cant/NN sleep/VB .../:\n",
      "my/PRP$ tooth/NN is/VBZ aching/VBG ./.\n",
      "<A=0>\n",
      "Blah/NN ,/, blah/NN ,/, blah/NN same/JJ old/JJ same/JJ old/JJ ./.\n",
      "No/DT plans/NNS today/NN ,/, going/VBG back/RB to/TO sleep/VB I/PRP guess/VBP ./.\n",
      "<A=0>\n",
      "glad/JJ i/NN didnt/NN do/VBP Bay/NNP to/TO Breakers/NNP today/NN ,/, it/PRP 's/POS 1000/NN freaking/VBG degrees/NNS in/IN San/NNP Francisco/NNP wtf/NN\n",
      "<A=0>\n",
      "?/. Obama/NN Administration/NNP Must/MD Stop/VB Bonuses/NNS to/TO AIG/NNP Ponzi/NNP Schemers/NNS .../:\n",
      "<A=0>\n",
      "started/VBD to/TO think/VBP that/IN Citi/NN is/VBZ in/IN really/RB deep/JJ s/PRP &/CC ^/NN t/NN ./.\n",
      "Are/VBP they/PRP gonna/VBG survive/VB the/DT turmoil/NN or/CC are/VBP they/PRP gonna/VBG be/VB the/DT next/JJ AIG/NNP ?/.\n",
      "<A=0>\n",
      "ShaunWoo/NN hate/VBP 'n/IN on/IN AiG/NN\n",
      "<A=4>\n",
      "YarnThing/VBG you/PRP will/MD not/RB regret/VBP going/VBG to/TO see/VB Star/NNP Trek/NNP ./.\n",
      "It/PRP was/VBD AWESOME/JJ !/.\n",
      "<A=0>\n",
      "annoying/JJ new/JJ trend/NN on/IN the/DT internets/NNS :/: people/NNS picking/VBG apart/RB michael/NN lewis/NNS and/CC malcolm/NN gladwell/NN ./.\n",
      "nobody/NN wants/VBZ to/TO read/VB that/IN ./.\n",
      "<A=4>\n",
      "Highly/RB recommend/VB :/: by/IN Malcolm/NNP Gladwell/NN\n",
      "<A=4>\n",
      "Blink/VB by/IN malcolm/NN gladwell/NN amazing/JJ book/NN and/CC The/DT tipping/VBG point/NN !/.\n",
      "<A=4>\n",
      "Malcolm/NNP Gladwell/NN might/MD be/VB my/PRP$ new/JJ man/NN crush/NN\n",
      "<A=0>\n",
      "omg/NN ./.\n",
      "The/DT commercials/NNS alone/RB on/IN ESPN/NNP are/VBP going/VBG to/TO drive/NN me/PRP nuts/NNS ./.\n",
      "<A=4>\n",
      "robmalon/NN Playing/VBG with/IN Twitter/NN API/NNP sounds/VBZ fun/NN ./.\n",
      "May/NNP need/VBN to/TO take/VB a/DT class/NNS or/CC find/VB a/DT new/JJ friend/NN who/WP like/IN to/TO generate/VB results/NNS with/IN API/NNP code/NN ./.\n",
      "<A=4>\n",
      "Hello/UH Twitter/NN API/NNP ;/: )/)\n",
      "<A=0>\n",
      "morind45/NN Because/IN the/DT twitter/NN api/NN is/VBZ slow/JJ and/CC most/RBS client/NN 's/POS aren/NN 't/NN good/JJ ./.\n",
      "<A=0>\n",
      "yahoo/NN answers/NNS can/MD be/VB a/DT butt/NN sometimes/RB\n",
      "<A=4>\n",
      "is/VBZ scrapbooking/VBG with/IN Nic/NN =/SYM D/NN\n",
      "<A=4>\n",
      "RT/NN mashable/NN :/: Five/CD Things/NNS Wolfram/NN Alpha/NNP Does/VBZ Better/NNP (/( And/CC Vastly/RB Different/JJ )/) Than/IN Google/NN -/:\n",
      "<A=4>\n",
      "just/RB changed/VBN my/PRP$ default/NN pic/NN to/TO a/DT Nike/NNP basketball/NN cause/NN bball/NN is/VBZ awesome/JJ !!!!!/NN\n",
      "<A=0>\n",
      "RT/NN SmartChickPDX/NN :/: Was/VBD just/RB told/VBD that/IN Nike/NNP layoffs/NNS started/VBD today/NN :/: -/: (/(\n",
      "<A=4>\n",
      "Back/RB when/WRB I/PRP worked/VBD for/IN Nike/NNP we/PRP had/VBD one/CD fav/NN word/NN :/: JUST/RB DO/VB IT/PRP !/.\n",
      ":/: )/)\n",
      "<A=4>\n",
      "By/IN the/DT way/NN ,/, I/PRP 'm/VBP totally/RB inspired/VBN by/IN this/DT freaky/NN Nike/NNP commercial/JJ :/:\n",
      "<A=4>\n",
      "Class/NNP .../:\n",
      "The/DT 50d/NN is/VBZ supposed/VBN to/TO come/VB today/NN :/: )/)\n",
      "<A=0>\n",
      "needs/VBZ someone/NN to/TO explain/VB lambda/NN calculus/NNS to/TO him/PRP !/.\n",
      ":/: (/(\n",
      "<A=0>\n",
      "Took/VBD the/DT Graduate/NNP Field/NNP Exam/NN for/IN Computer/NNP Science/NNP today/NN ./.\n",
      "Nothing/VBG makes/VBZ you/PRP feel/VB like/IN more/JJR of/IN an/DT idiot/JJ than/IN lambda/NN calculus/NNS ./.\n",
      "<A=4>\n",
      "SHOUT/VB OUTS/NNS TO/TO ALL/PDT EAST/NNP PALO/NN ALTO/NN FOR/IN BEING/VBG IN/IN THE/DT BUILDIN/VBG KARIZMAKAZE/NN 50CAL/NN GTA/NN !/.\n",
      "ALSO/RB THANKS/NNS TO/TO PROFITS/NNS OF/IN DOOM/NN UNIVERSAL/JJ HEMPZ/NN CRACKA/NN ....../CD\n",
      "<A=0>\n",
      "legalgeekery/NN Yeahhhhhhhhh/NN ,/, I/PRP wouldn/NN 't/NN really/RB have/VBP lived/VBD in/IN East/NNP Palo/NNP Alto/NNP if/IN I/PRP could/MD have/VBP avoided/VBN it/PRP ./.\n",
      "I/PRP guess/VBP it/PRP 's/POS only/RB for/IN the/DT summer/NN ./.\n",
      "<A=4>\n",
      "accannis/NNS edog1203/NN Great/NNP Stanford/NNP course/NN ./.\n",
      "Thanks/NNS for/IN making/VBG it/PRP available/JJ to/TO the/DT public/JJ !/.\n",
      "Really/RB helpful/JJ and/CC informative/JJ for/IN starting/VBG off/IN !/.\n",
      "<A=4>\n",
      "work/NN til/NN 6pm/NN .../:\n",
      "lets/VBZ go/VB lakers/NNS !!!/NN\n",
      "<A=0>\n",
      "Damn/VB you/PRP North/NNP Korea/NNP ./.\n",
      "<A=0>\n",
      "Can/MD we/PRP just/RB go/VB ahead/RB and/CC blow/NN North/NNP Korea/NNP off/IN the/DT map/NN already/RB ?/.\n",
      "<A=0>\n",
      "North/NNP Korea/NNP ,/, please/VB cease/VB this/DT douchebaggery/NN ./.\n",
      "China/NNP doesn/NN 't/NN even/RB like/IN you/PRP anymore/RB ./.\n",
      "<A=0>\n",
      "Why/WRB the/DT hell/NN is/VBZ Pelosi/NN in/IN freakin/NN China/NNP ?/.\n",
      "and/CC on/IN whose/WP$ dime/NN ?/.\n",
      "<A=0>\n",
      "Are/VBP YOU/PRP burning/VBG more/JJR cash/NN $$$/NN than/IN Chrysler/NNP and/CC GM/NNP ?/.\n",
      "Stop/VB the/DT financial/JJ tsunami/NN ./.\n",
      "Where/WRB \"/\" bailout/NN \"/\" means/VBZ taking/VBG a/DT handout/NN !/.\n",
      "<A=0>\n",
      "insects/NNS have/VBP infected/VBN my/PRP$ spinach/NN plant/NN :/: (/(\n",
      "<A=0>\n",
      "wish/VBP i/NN could/MD catch/VB every/DT mosquito/NN in/IN the/DT world/NN n/NN burn/VB em/PRP slowly/RB ./. they/PRP been/VBN bitin/NN the/DT shit/NN outta/IN me/PRP 2day/NN ./. mosquitos/NNS are/VBP the/DT assholes/NNS of/IN insects/NNS\n",
      "<A=0>\n",
      "just/RB got/VBD back/RB from/IN church/NN ,/, and/CC I/PRP totally/RB hate/VBP insects/NNS ./.\n",
      "<A=0>\n",
      "Just/RB got/VBD mcdonalds/NNS goddam/JJ those/DT eggs/NNS make/VB me/PRP sick/JJ ./.\n",
      "O/NNP yeah/UH Laker/NN up/IN date/NN go/VB lakers/NNS ./.\n",
      "Not/RB much/JJ of/IN an/DT update/NN ?/.\n",
      "Well/UH it/PRP 's/POS true/JJ so/RB suck/VB it/PRP\n",
      "<A=4>\n",
      "omgg/NN i/NN ohhdee/NN want/VBP mcdonalds/NNS damn/JJ i/NN wonder/NN if/IN its/PRP$ open/JJ lol/NN =/SYM ]/)\n",
      "<A=0>\n",
      "History/NN exam/NN studying/VBG ugh/NN\n",
      "<A=0>\n",
      "I/PRP hate/VBP revision/NN ,/, it/PRP 's/POS so/RB boring/JJ !/.\n",
      "I/PRP am/VBP totally/RB unprepared/JJ for/IN my/PRP$ exam/NN tomorrow/NN :/: (/( Things/NNS are/VBP not/RB looking/VBG good/JJ .../:\n",
      "<A=0>\n",
      "Higher/JJR physics/NNS exam/NN tommorow/NN ,/, not/RB lookin/NN forward/RB to/TO it/PRP much/JJ :/: (/(\n",
      "<A=0>\n",
      "It/PRP 's/POS a/DT bank/NN holiday/NN ,/, yet/RB I/PRP 'm/VBP only/RB out/IN of/IN work/NN now/RB ./.\n",
      "Exam/NN season/NN sucks/VBZ :/: (/(\n",
      "<A=0>\n",
      "Cheney/NNP and/CC Bush/NNP are/VBP the/DT real/JJ culprits/NNS -/:\n",
      "<A=0>\n",
      "Life/NNP ?/. s/PRP a/DT bitch/NN ?/.\n",
      "and/CC so/RB is/VBZ Dick/NNP Cheney/NNP ./.\n",
      "p2/NN bipart/NN tlot/NN tcot/NN hhrs/NNS GOP/NNP DNC/NN\n",
      "<A=0>\n",
      "Dick/NNP Cheney/NNP 's/POS dishonest/JJ speech/NN about/IN torture/NN ,/, terror/NN ,/, and/CC Obama/NN ./.\n",
      "-/: Fred/VBN Kaplan/NNP Slate/NNP ./.\n",
      "<A=0>\n",
      "\"/\" The/DT Republican/NNP party/NN is/VBZ a/DT bunch/NN of/IN anti/IN -/: abortion/NN zealots/NNS who/WP couldn/NN 't/NN draw/VB flies/VBZ to/TO a/DT dump/NN ./. \"/\"\n",
      "--/: Neal/JJ Boortz/NN (/( just/RB now/RB ,/, on/IN the/DT radio/NN )/)\n",
      "<A=0>\n",
      "is/VBZ Twitter/NN 's/POS connections/NNS API/NNP broken/VBN ?/.\n",
      "Some/DT tweets/NNS didn/VBD 't/NN make/VB it/PRP to/TO Twitter/NN .../:\n",
      "<A=0>\n",
      "i/NN srsly/RB hate/VBP the/DT stupid/JJ twitter/NN API/NNP timeout/NN thing/VBG ,/, soooo/NN annoying/JJ !!!!!/NN\n",
      ":/: (/(\n",
      "<A=4>\n",
      "psychemedia/NN I/PRP really/RB liked/VBD kswedberg/NN 's/POS \"/\" Learning/VBG jQuery/NN \"/\" book/NN ./.\n",
      "is/VBZ worth/JJ a/DT look/NN too/RB\n",
      "<A=4>\n",
      "Very/RB Interesting/JJ Ad/NN from/IN Adobe/NNP by/IN Goodby/NNP ,/, Silverstein/NNP &/CC Partners/NNPS -/: YouTube/NN -/: Adobe/NNP CS4/NN :/: Le/NNP Sens/NNS Propre/NN\n",
      "<A=4>\n",
      "Goodby/NNP Silverstein/NNP agency/NN new/JJ site/NN !/.\n",
      "Great/NNP !/.\n",
      "<A=4>\n",
      "RT/NN designplay/NN Goodby/NNP ,/, Silverstein/NNP 's/POS new/JJ site/NN :/: I/PRP enjoy/VB it/PRP ./.\n",
      "*/SYM nice/JJ find/VB !/. */SYM\n",
      "<A=4>\n",
      "The/DT ever/RB amazing/JJ Psyop/NN and/CC Goodby/NNP Silverstein/NNP &/CC Partners/NNPS for/IN HP/NNP !/.\n",
      "Have/VBP to/TO go/VB play/VB with/IN After/IN Effects/NNPS now/RB !/.\n",
      "<A=4>\n",
      "top/JJ ten/CD most/RBS watched/VBD on/IN Viral/JJ -/: Video/NNP Chart/NN ./.\n",
      "Love/NNP the/DT nike/NN mostvaluablepuppets/NNS campaign/NN from/IN Wieden/NNP &/CC Kennedy/NNP\n",
      "<A=4>\n",
      "zomg/NN !!!/NN\n",
      "I/PRP have/VBP a/DT G2/NN !!!!!!!/NN\n",
      "<A=4>\n",
      "Ok/NNP so/RB lots/NNS of/IN buzz/NN from/IN IO2009/NN but/CC how/WRB lucky/JJ are/VBP they/PRP -/: a/DT Free/NNP G2/NN !!/NN\n",
      "<A=4>\n",
      "just/RB got/VBD a/DT free/JJ G2/NN android/NN at/IN google/NN i/NN //NN o/IN !!!/NN\n",
      "<A=4>\n",
      "Guess/NNP I/PRP '/POS ll/NN be/VB retiring/VBG my/PRP$ G1/NN and/CC start/VB using/VBG my/PRP$ developer/NN G2/NN woot/NN googleio/NN\n",
      "<A=4>\n",
      "I/PRP am/VBP happy/JJ for/IN Philip/NNP being/VBG at/IN GoogleIO/NN today/NN\n",
      "<A=4>\n",
      "Lakers/NNP played/VBD great/JJ !/.\n",
      "Cannot/MD wait/VB for/IN Thursday/NNP night/NN Lakers/NNP vs/NNP ./. /NN ???/NN\n",
      "<A=4>\n",
      "Judd/NN Apatow/NN creates/VBZ fake/JJ sitcom/NN on/IN NBC/NNP ./. com/NN to/TO market/NN his/PRP$ new/JJ movie/NN .../:\n",
      "viral/JJ marketing/VBG at/IN its/PRP$ best/JJS ./.\n",
      "<A=0>\n",
      "VIRAL/JJ MARKETING/NN FAIL/VB ./.\n",
      "This/DT Acia/NN Pills/NNS brand/NN oughta/MD get/VB shut/VBN down/RB for/IN hacking/JJ into/IN people/NNS 's/POS messenger/NN 's/POS ./.\n",
      "i/NN get/VB 5/NN -/: 6/NN msgs/NNS in/IN a/DT day/NN !/.\n",
      "Arrrgh/NN !/.\n",
      "<A=4>\n",
      "watching/VBG Night/NNP at/IN The/DT Museum/NNP ./.\n",
      "Lmao/NN\n",
      "<A=4>\n",
      "i/NN loved/VBD night/NN at/IN the/DT museum/NN !!!/NN\n",
      "<A=4>\n",
      "just/RB got/VBD back/RB from/IN the/DT movies/NNS ./.\n",
      "went/VBD to/TO see/VB the/DT new/JJ night/NN at/IN the/DT museum/NN with/IN rachel/NN ./.\n",
      "it/PRP was/VBD good/JJ\n",
      "<A=4>\n",
      "shannyoday/NN I/PRP will/MD take/VB you/PRP on/IN a/DT date/NN to/TO see/VB night/NN at/IN the/DT museum/NN 2/NN whenever/WRB you/PRP want/VBP .../: it/PRP looks/VBZ soooooo/NN good/JJ\n",
      "<A=4>\n",
      "no/DT watching/VBG The/DT Night/NNP At/IN The/DT Museum/NNP ./.\n",
      "Getting/VBG Really/RB Good/JJ\n",
      "<A=4>\n",
      "Night/NNP at/IN the/DT Museum/NNP ,/, Wolverine/NNP and/CC junk/NN food/NN -/: perfect/JJ monday/NN !/.\n",
      "<A=4>\n",
      "saw/VBD night/NN at/IN the/DT museum/NN 2/NN last/JJ night/NN ../.\n",
      "pretty/RB crazy/JJ movie/NN ../.\n",
      "but/CC the/DT cast/NN was/VBD awesome/JJ so/RB it/PRP was/VBD well/RB worth/JJ it/PRP ./.\n",
      "Robin/NNP Williams/NNP forever/RB !/.\n",
      "<A=0>\n",
      "Night/NNP at/IN the/DT Museum/NNP tonite/NN instead/RB of/IN UP/IN ./.\n",
      ":/: (/( oh/UH well/RB ./.\n",
      "that/IN 4/NN yr/NN old/JJ better/JJR enjoy/VB it/PRP ./.\n",
      "LOL/NN\n",
      "<A=0>\n",
      "It/PRP 's/POS unfortunate/JJ that/IN after/IN the/DT Stimulus/NNS plan/NN was/VBD put/VB in/IN place/NN twice/RB to/TO help/VB GM/NNP on/IN the/DT back/RB of/IN the/DT American/NNP people/NNS has/VBZ led/VBN to/TO the/DT inevitable/JJ\n",
      "<A=0>\n",
      "Tell/VB me/PRP again/RB why/WRB we/PRP are/VBP giving/VBG more/JJR $$/NN to/TO GM/NNP ??/NN\n",
      "We/PRP should/MD use/NN that/IN $/$ for/IN all/DT the/DT programs/NNS that/IN support/NN the/DT unemployed/JJ ./.\n",
      "<A=0>\n",
      "jdreiss/NNS oh/UH yes/UH but/CC if/IN GM/NNP dies/VBZ it/PRP will/MD only/RB be/VB worth/JJ more/JJR boo/VB hahaha/NN\n",
      "<A=0>\n",
      "Time/NNP Warner/NNP cable/NN is/VBZ down/RB again/RB 3rd/NN time/NN since/IN Memorial/JJ Day/NNP bummer/NN !/.\n",
      "<A=0>\n",
      "I/PRP would/MD rather/RB pay/VB reasonable/JJ yearly/RB taxes/NNS for/IN \"/\" free/JJ \"/\" fast/RB internet/NN ,/, than/IN get/VB gouged/VBD by/IN Time/NNP Warner/NNP for/IN a/DT slow/JJ connection/NN ./.\n",
      "<A=0>\n",
      "NOOOOOOO/NN my/PRP$ DVR/NN just/RB died/VBD and/CC I/PRP was/VBD only/RB half/NN way/NN through/IN the/DT EA/NN presser/NN ./.\n",
      "Hate/VBP you/PRP Time/NNP Warner/NNP\n",
      "<A=0>\n",
      "F/NN */SYM ck/NN Time/NNP Warner/NNP Cable/NNP !!!/NN\n",
      "You/PRP f/NN */SYM cking/VBG suck/VB balls/NNS !!!/NN\n",
      "I/PRP have/VBP a/DT $/$ 700/NN HD/NNP tv/NN &/CC my/PRP$ damn/JJ HD/NNP channels/NNS hardly/RB ever/RB come/VB in/IN ./. Bullshit/UH !!/NN\n",
      "<A=0>\n",
      "time/NN warner/NN has/VBZ the/DT worse/JJR customer/NN service/NN ever/RB ./.\n",
      "I/PRP will/MD never/RB use/NN them/PRP again/RB\n",
      "<A=0>\n",
      "Time/NNP warner/NN is/VBZ the/DT devil/NN ./.\n",
      "Worst/JJS possible/JJ time/NN for/IN the/DT Internet/NNP to/TO go/VB out/IN ./.\n",
      "<A=0>\n",
      "Fuck/VB no/DT internet/NN damn/JJ time/NN warner/NN !/.\n",
      "<A=0>\n",
      "time/NN warner/NN really/RB picks/VBZ the/DT worst/JJS time/NN to/TO not/RB work/NN ./.\n",
      "all/DT i/NN want/VBP to/TO do/VBP is/VBZ get/VB to/TO mtv/NN ./. com/NN so/RB i/NN can/MD watch/VB the/DT hills/NNS ./.\n",
      "wtfffff/NN ./.\n",
      "<A=0>\n",
      "I/PRP hate/VBP Time/NNP Warner/NNP !/.\n",
      "Soooo/NN wish/VBP I/PRP had/VBD Vios/NNS ./.\n",
      "Cant/NN watch/VB the/DT fricken/NN Mets/NNP game/NN w/IN //NN o/IN buffering/VBG ./.\n",
      "I/PRP feel/VB like/IN im/NN watching/VBG free/JJ internet/NN porn/NN ./.\n",
      "<A=0>\n",
      "Ahh/NN .../: got/VBD rid/JJ of/IN stupid/JJ time/NN warner/NN today/NN &/CC now/RB taking/VBG a/DT nap/NN while/IN the/DT roomies/NNS cook/NN for/IN me/PRP ./.\n",
      "Pretty/RB good/JJ end/NN for/IN a/DT monday/NN :/: )/)\n",
      "<A=0>\n",
      "Time/NNP Warner/NNP 's/POS HD/NNP line/NN up/IN is/VBZ crap/NN ./.\n",
      "<A=0>\n",
      "is/VBZ being/VBG fucked/VBN by/IN time/NN warner/NN cable/NN ./.\n",
      "didnt/NN know/VB modems/NNS could/MD explode/VB ./.\n",
      "and/CC Susan/NNP Boyle/NN sucks/VBZ too/RB !/.\n",
      "<A=0>\n",
      "Time/NNP Warner/NNP Cable/NNP slogan/NN :/: Where/WRB calling/VBG it/PRP a/DT day/NN at/IN 2pm/NN Happens/VBZ ./.\n",
      "<A=0>\n",
      "Recovering/VBG from/IN surgery/NN ../. wishing/VBG julesrenner/NN was/VBD here/RB :/: (/(\n",
      "<A=4>\n",
      "My/PRP$ wrist/NN still/RB hurts/VBZ ./.\n",
      "I/PRP have/VBP to/TO get/VB it/PRP looked/VBD at/IN ./.\n",
      "I/PRP HATE/VBP the/DT dr/NN //NN dentist/NN //NN scary/JJ places/NNS ./.\n",
      ":/: (/( Time/NNP to/TO watch/VB Eagle/NNP eye/NN ./.\n",
      "If/IN you/PRP want/VBP to/TO join/VB ,/, txt/NN !/.\n",
      "<A=0>\n",
      "THE/DT DENTIST/NN LIED/VBD !/.\n",
      "\"/\" U/NNP WON/VBP 'T/NN FEEL/VB ANY/DT DISCOMORT/NN !/.\n",
      "PROB/NN WON/VBP 'T/NN EVEN/RB NEED/NN PAIN/NN PILLS/NNS \"/\" MAN/NNP U/NNP TWIPPIN/NN THIS/DT SHIT/NN HURT/VBN !!/NN\n",
      "HOW/WRB MANY/JJ PILLS/NNS CAN/MD I/PRP TAKE/VB !!/NN\n",
      "<A=0>\n",
      "kirstiealley/NN my/PRP$ dentist/NN is/VBZ great/JJ but/CC she/PRP 's/POS expensive/JJ .../: =/SYM (/(\n",
      "<A=4>\n",
      "is/VBZ studing/VBG math/NN ;/: )/) tomorrow/NN exam/NN and/CC dentist/NN :/: )/)\n",
      "<A=0>\n",
      "my/PRP$ dentist/NN was/VBD wrong/JJ .../:\n",
      "WRONG/JJ\n",
      "<A=0>\n",
      "Going/VBG to/TO the/DT dentist/NN later/RB ./. :/: |/NN\n",
      "<A=0>\n",
      "Son/NNP has/VBZ me/PRP looking/VBG at/IN cars/NNS online/JJ ./.\n",
      "I/PRP hate/VBP car/NN shopping/VBG ./.\n",
      "Would/MD rather/RB go/VB to/TO the/DT dentist/NN !/.\n",
      "Anyone/NN with/IN a/DT good/JJ car/NN at/IN a/DT good/JJ price/NN to/TO sell/VB ?/.\n",
      "<A=0>\n",
      "luke/NN and/CC i/NN got/VBD stopped/VBD walking/VBG out/IN of/IN safeway/NN and/CC asked/VBD to/TO empty/JJ our/PRP$ pockets/NNS and/CC lift/VB our/PRP$ shirts/NNS ./.\n",
      "how/WRB jacked/VBD up/IN is/VBZ that/IN ?/.\n",
      "<A=4>\n",
      "Safeway/NNP is/VBZ very/RB rock/NN n/NN roll/NN tonight/RB\n",
      "<A=0>\n",
      "The/DT safeway/NN bathroom/NN still/RB smells/VBZ like/IN ass/NNS !/.\n",
      "<A=0>\n",
      "At/IN safeway/NN on/IN elkhorn/NN ,/, they/PRP move/NN like/IN they/PRP '/POS re/NN dead/JJ !/.\n",
      "<A=4>\n",
      "i/NN love/NN Dwight/NNP Howard/NNP 's/POS vitamin/NN water/NN commercial/JJ .../:\n",
      "now/RB i/NN wish/VBP he/PRP was/VBD with/IN NIKE/NN and/CC not/RB adidas/NNS ./.\n",
      "lol/NN ./.\n",
      "<A=0>\n",
      "Found/VBD NOTHING/NN at/IN Nike/NNP Factory/NN :/: //NN Off/IN to/TO Banana/NNP Republic/NNP Outlet/NNP !/.\n",
      "<A=4>\n",
      "is/VBZ lovin/JJ his/PRP$ Nike/NNP already/RB and/CC that/IN 's/POS only/RB from/IN running/VBG on/IN the/DT spot/NN in/IN his/PRP$ bedroom/NN\n",
      "<A=4>\n",
      "matthewcyan/NN I/PRP finally/RB got/VBD around/IN to/TO using/VBG jquery/NN to/TO make/VB my/PRP$ bio/NN collapse/NN ./.\n",
      "Yay/NN for/IN slide/NN animations/NNS ./.\n",
      "<A=4>\n",
      "PDubyaD/NN right/NN !!!/NN\n",
      "LOL/NN we/PRP '/POS ll/NN get/VB there/EX !!/NN\n",
      "I/PRP have/VBP high/JJ expectations/NNS ,/, Warren/NNP Buffet/NNP style/NN ./.\n",
      "<A=4>\n",
      "RT/NN blknprecious1/NN :/: RT/NN GREAT/NNP dbroos/NNS \"/\" Someone/NN 's/POS sitting/VBG in/IN the/DT shade/NN today/NN because/IN someone/NN planted/VBN a/DT tree/NN a/DT long/JJ time/NN ago/RB ./. \"/\" -/: Warren/NNP Buffet/NNP\n",
      "<A=4>\n",
      "Warren/NNP Buffet/NNP became/VBD (/( for/IN a/DT time/NN )/) the/DT richest/JJS man/NN in/IN the/DT United/VBN States/NNPS ,/, not/RB by/IN working/VBG but/CC investing/VBG in/IN 1/NN Big/NNP idea/NN which/WDT lead/VB to/TO the/DT fortune/NN\n",
      "<A=4>\n",
      "According/VBG to/TO the/DT create/NN a/DT school/NN ,/, Notre/NNP Dame/NNP will/MD have/VBP 7/NN receivers/NNS in/IN NCAA/NNP 10/NN at/IN 84/NN or/CC higher/JJR rating/VBG :/: )/) /NN */SYM sweet/JJ */SYM\n",
      "<A=4>\n",
      "BlondeBroad/NN it/PRP 's/POS definitely/RB under/IN warranty/NN &/CC my/PRP$ experience/NN is/VBZ the/DT amazon/NN support/NN for/IN kindle/VB is/VBZ great/JJ !/.\n",
      "had/VBD to/TO contact/NN them/PRP about/IN my/PRP$ kindle2/NN\n",
      "<A=0>\n",
      "Time/NNP Warner/NNP Road/NNP Runner/NNP customer/NN support/NN here/RB absolutely/RB blows/NNS ./.\n",
      "I/PRP hate/VBP not/RB having/VBG other/JJ high/JJ -/: speed/VBN net/JJ options/NNS ./.\n",
      "I/PRP 'm/VBP ready/JJ to/TO go/VB nuclear/JJ ./.\n",
      "<A=0>\n",
      "Time/NNP Warner/NNP cable/NN phone/NN reps/NNS r/NN dumber/JJR than/IN nails/NNS !!!!!/NN\n",
      "UGH/NN !/.\n",
      "Cable/NNP was/VBD working/VBG 10/NN mins/NNS ago/RB now/RB its/PRP$ not/RB WTF/NN !/.\n",
      "<A=0>\n",
      "siratomofbones/NNS we/PRP tried/VBD but/CC Time/NNP Warner/NNP wasn/NN 't/NN being/VBG nice/JJ so/RB we/PRP recorded/VBN today/NN ./.\n",
      ":/: )/)\n",
      "<A=0>\n",
      "OMG/NN -/: time/NN warner/NN f/NN '/POS ed/VBN up/IN my/PRP$ internet/NN install/VB -/: instead/RB of/IN today/NN its/PRP$ now/RB NEXT/JJ saturday/NN -/: another/DT week/NN w/IN //NN o/IN internet/NN !/.\n",
      "&/CC $/$ */SYM ehfa/NN ^/NN V9fhg/NN [/( */SYM #/# fml/NN ./.\n",
      "<A=0>\n",
      "wth/IN ../. i/NN have/VBP never/RB seen/VBN a/DT line/NN this/DT loooong/NN at/IN time/NN warner/NN before/IN ,/, ugh/NN ./.\n",
      "<A=0>\n",
      "Impatiently/RB awaiting/VBG the/DT arrival/JJ of/IN the/DT time/NN warner/NN guy/NN ./.\n",
      "It/PRP 's/POS way/NN too/RB pretty/RB to/TO be/VB inside/IN all/DT afternoon/NN\n",
      "<A=0>\n",
      "Naive/JJ Bayes/NNS using/VBG EM/PRP for/IN Text/NN Classification/NN ./.\n",
      "Really/RB Frustrating/JJ .../:\n",
      "<A=4>\n",
      "We/PRP went/VBD to/TO Stanford/NNP University/NNP today/NN ./.\n",
      "Got/VBD a/DT tour/NN ./.\n",
      "Made/VBN me/PRP want/VBP to/TO go/VB back/RB to/TO college/NN ./.\n",
      "It/PRP 's/POS also/RB decided/VBD all/DT of/IN our/PRP$ kids/NNS will/MD go/VB there/EX ./.\n",
      "<A=0>\n",
      "KarrisFoxy/NN If/IN you/PRP '/POS re/NN being/VBG harassed/VBD by/IN calls/VBZ about/IN your/PRP$ car/NN warranty/NN ,/, changing/VBG your/PRP$ number/NN won/VBD 't/NN fix/VB that/IN ./.\n",
      "They/PRP call/VB every/DT number/NN ./.\n",
      "d/FW -/: bags/NNS\n",
      "<A=0>\n",
      "Just/RB blocked/VBN United/VBN Blood/NNP Services/NNPS using/VBG Google/NN Voice/NNP ./.\n",
      "They/PRP call/VB more/JJR than/IN those/DT Car/NNP Warranty/NN guys/NNS ./.\n",
      "<A=0>\n",
      "at/IN &/CC t/NN is/VBZ complete/JJ fail/VB ./.\n",
      "<A=0>\n",
      "broskiii/NN OH/NN SNAP/VB YOU/PRP WORK/VBP AT/IN AT/IN &/CC T/NN DON/VB 'T/NN YOU/PRP\n",
      "<A=0>\n",
      "Mbjthegreat/NN i/NN really/RB dont/NN want/VBP AT/IN &/CC T/NN phone/NN service/NN ../. they/PRP suck/VB when/WRB it/PRP comes/VBZ to/TO having/VBG a/DT signal/JJ\n",
      "<A=0>\n",
      "I/PRP say/VBP we/PRP just/RB cut/VB out/IN the/DT small/JJ talk/VB :/: AT/IN &/CC T/NN 's/POS new/JJ slogan/NN :/: F/NN __/NN k/NN you/PRP ,/, give/VB us/PRP your/PRP$ money/NN ./.\n",
      "(/( Apologies/NNS to/TO Bob/NNP Geldof/NN ./. )/)\n",
      "<A=0>\n",
      "pissed/VBN about/IN at/IN &/CC t/NN 's/POS mid/JJ -/: contract/NN upgrade/VB price/NN for/IN the/DT iPhone/NN (/( it/PRP 's/POS $/$ 200/NN more/JJR )/) I/PRP 'm/VBP not/RB going/VBG to/TO pay/VB $/$ 499/NN for/IN something/VBG I/PRP thought/VBD was/VBD $/$ 299/NN\n",
      "<A=0>\n",
      "Safari/NNP 4/NN is/VBZ fast/RB :/: )/) Even/RB on/IN my/PRP$ shitty/NN AT/IN &/CC T/NN tethering/VBG ./.\n",
      "<A=0>\n",
      "ims/NNS What/WP is/VBZ AT/IN &/CC T/NN fucking/VBG up/IN ?/.\n",
      "<A=0>\n",
      "springsingfiend/NN dvyers/NNS sethdaggett/NN jlshack/NN AT/IN &/CC T/NN dropped/VBD the/DT ball/NN and/CC isn/NN 't/NN supporting/VBG crap/NN with/IN the/DT new/JJ iPhone/NN 3/NN ./. 0/NN .../:\n",
      "FAIL/VB att/IN SUCKS/VBZ !!!/NN\n",
      "<A=0>\n",
      "MMBarnhill/NN yay/NN ,/, glad/JJ you/PRP got/VBD the/DT phone/NN !/.\n",
      "Still/RB ,/, damn/JJ you/PRP ,/, AT/IN &/CC T/NN ./.\n",
      "<A=0>\n",
      "Talk/NN is/VBZ Cheap/JJ :/: Bing/VBG that/IN ,/, I/PRP ?/. ll/NN stick/VB with/IN Google/NN ./.\n",
      "<A=0>\n",
      "defsounds/NNS WTF/NN is/VBZ the/DT point/NN of/IN deleting/VBG tweets/NNS if/IN they/PRP can/MD still/RB be/VB found/VBD in/IN summize/NN and/CC searches/NNS ?/.\n",
      "Twitter/NN ,/, please/VB fix/VB that/IN ./.\n",
      "Thanks/NNS and/CC bye/VB\n",
      "<A=4>\n",
      "ArunBasilLal/JJ I/PRP love/NN Google/NN Translator/NN too/RB !/.\n",
      ":/: D/NN Good/JJ day/NN mate/NN !/.\n",
      "<A=4>\n",
      "reading/VBG on/IN my/PRP$ new/JJ Kindle2/NN !/.\n",
      "<A=4>\n",
      "My/PRP$ Kindle2/NN came/VBD and/CC I/PRP LOVE/NN it/PRP !/.\n",
      ":/: )/)\n",
      "<A=4>\n",
      "LOVING/JJ my/PRP$ new/JJ Kindle2/NN ./.\n",
      "Named/VBN her/PRP$ Kendra/NN in/IN case/NN u/PRP were/VBD wondering/VBG ./.\n",
      "The/DT \"/\" cookbook/NN \"/\" is/VBZ THE/DT tool/NN cuz/NN it/PRP tells/VBZ u/PRP all/DT the/DT tricks/NNS !/.\n",
      "Best/JJS gift/NN EVR/NN !/.\n",
      "<A=0>\n",
      "The/DT real/JJ AIG/NNP scandal/JJ //NN\n",
      "<A=4>\n",
      "Obama/NN is/VBZ quite/RB a/DT good/JJ comedian/NN !/.\n",
      "check/NN out/IN his/PRP$ dinner/NN speech/NN on/IN CNN/NNP :/: )/) very/RB funny/JJ jokes/NNS ./.\n",
      "<A=4>\n",
      "'/POS Barack/NN Obama/NN shows/VBZ his/PRP$ funny/JJ side/NN \"/\" /NN >>/NN /NN !!/NN\n",
      "Great/NNP speech/NN ../.\n",
      "<A=4>\n",
      "I/PRP like/IN this/DT guy/NN :/: /NN '/POS Barack/NN Obama/NN shows/VBZ his/PRP$ funny/JJ side/NN \"/\" /NN >>/NN /NN !!/NN\n",
      "<A=4>\n",
      "Obama/NN 's/POS speech/NN was/VBD pretty/RB awesome/JJ last/JJ night/NN !/.\n",
      "<A=4>\n",
      "Reading/VBG \"/\" Bill/NNP Clinton/NNP Fail/NNP -/: Obama/NN Win/NNP ?/. \"/\"\n",
      "<A=4>\n",
      "Obama/NN More/RBR Popular/NNP Than/IN U/NNP ./. S/NNP ./.\n",
      "Among/IN Arabs/NNPS :/: Survey/NNP :/: President/NNP Barack/NN Obama/NN 's/POS popularity/NN in/IN leading/VBG Arab/NNP countries/NNS ../.\n",
      "<A=4>\n",
      "Obama/NN 's/POS got/VBD JOKES/NNS !!/NN\n",
      "haha/NN just/RB got/VBD to/TO watch/VB a/DT bit/NN of/IN his/PRP$ after/IN dinner/NN speech/NN from/IN last/JJ night/NN .../:\n",
      "i/NN 'm/VBP in/IN love/NN with/IN mr/NN ./.\n",
      "president/NN ;/: )/)\n",
      "<A=0>\n",
      "LEbron/NN james/NNS got/VBD in/IN a/DT car/NN accident/NN i/NN guess/VBP ../. just/RB heard/VBN it/PRP on/IN evening/VBG news/NNS .../: wow/NN i/NN cant/NN believe/VBP it/PRP ../. will/MD he/PRP be/VB ok/NN ?/.\n",
      "<A=4>\n",
      "is/VBZ it/PRP me/PRP or/CC is/VBZ this/DT the/DT best/JJS the/DT playoffs/NNS have/VBP been/VBN in/IN years/NNS oh/UH yea/NN lebron/NN and/CC melo/NN in/IN the/DT finals/NNS\n",
      "<A=4>\n",
      "khalid0456/NN No/DT ,/, Lebron/NN is/VBZ the/DT best/JJS\n",
      "<A=4>\n",
      "the/DT _/NN real/JJ _/NN usher/NN LeBron/NN is/VBZ cool/JJ ./.\n",
      "I/PRP like/IN his/PRP$ personality/NN .../: he/PRP has/VBZ good/JJ character/NN ./.\n",
      "<A=4>\n",
      "Watching/VBG Lebron/NN highlights/VBZ ./.\n",
      "Damn/VB that/IN niggas/NNS good/JJ\n",
      "<A=4>\n",
      "Lou911/NN Lebron/NN is/VBZ MURDERING/VBG shit/NN ./.\n",
      "<A=4>\n",
      "uscsports21/NN LeBron/NN is/VBZ a/DT monsta/NN and/CC he/PRP is/VBZ only/RB 24/NN ./.\n",
      "SMH/NN The/DT world/NN ain/NN 't/NN ready/JJ ./.\n",
      "<A=4>\n",
      "cthagod/NN when/WRB Lebron/NN is/VBZ done/VBN in/IN the/DT NBA/NNP he/PRP will/MD probably/RB be/VB greater/JJR than/IN Kobe/NNP ./.\n",
      "Like/IN u/PRP said/VBD Kobe/NNP is/VBZ good/JJ but/CC there/EX alot/NN of/IN '/POS good/JJ '/POS players/NNS ./.\n",
      "<A=4>\n",
      "KOBE/NN IS/VBZ GOOD/JJ BT/NNP LEBRON/NN HAS/VBZ MY/PRP$ VOTE/NN\n",
      "<A=0>\n",
      "Kobe/NNP is/VBZ the/DT best/JJS in/IN the/DT world/NN not/RB lebron/NN ./.\n",
      "<A=4>\n",
      "asherroth/NN World/NNP Cup/NNP 2010/NN Access/NNS ??/NN\n",
      "Damn/VB ,/, that/IN 's/POS a/DT good/JJ look/VB !/.\n",
      "<A=4>\n",
      "Just/RB bought/VBD my/PRP$ tickets/NNS for/IN the/DT 2010/NN FIFA/NN World/NNP Cup/NNP in/IN South/NNP Africa/NNP ./.\n",
      "Its/PRP$ going/VBG to/TO be/VB a/DT great/JJ summer/NN ./.\n",
      "<A=0>\n",
      "I/PRP have/VBP to/TO go/VB to/TO Booz/NNP Allen/NNP Hamilton/NNP for/IN a/DT 2hr/NN meeting/VBG :/: (/( But/CC then/RB i/NN get/VB to/TO go/VB home/NN :/: )/)\n",
      "<A=4>\n",
      "The/DT great/JJ Indian/NNP tamasha/NN truly/RB will/MD unfold/VB from/IN May/NNP 16/NN ,/, the/DT result/NN day/NN for/IN Indian/NNP General/JJ Election/NNP ./.\n",
      "<A=4>\n",
      "crlane/NN I/PRP have/VBP the/DT Kindle2/NN ./.\n",
      "I/PRP '/POS ve/NN seen/VBN pictures/NNS of/IN the/DT DX/NNP ,/, but/CC haven/NN 't/NN seen/VBN it/PRP in/IN person/NN ./.\n",
      "I/PRP love/NN my/PRP$ Kindle/VB -/: I/PRP 'm/VBP on/IN it/PRP everyday/JJ ./.\n",
      "<A=4>\n",
      "criticalpath/NN Such/JJ an/DT awesome/JJ idea/NN -/: the/DT continual/JJ learning/VBG program/NN with/IN a/DT Kindle2/NN\n",
      "<A=4>\n",
      "faithbabywear/NN Ooooh/NN ,/, what/WP model/NN are/VBP you/PRP getting/VBG ???/NN\n",
      "I/PRP have/VBP the/DT 40D/NN and/CC LOVE/NN LOVE/NN LOVE/NN LOVE/NN it/PRP !/.\n",
      "<A=4>\n",
      "The/DT Times/NNP of/IN India/NNP :/: The/DT wonder/NN that/IN is/VBZ India/NNP 's/POS election/NN ./.\n",
      "<A=4>\n",
      "Good/JJ video/NN from/IN Google/NN on/IN using/VBG search/NN options/NNS ./.\n",
      "<A=0>\n",
      "ambcharlesfield/NN lol/NN ./.\n",
      "Ah/UH my/PRP$ skin/NN is/VBZ itchy/JJ :/: (/( damn/JJ lawnmowing/VBG ./.\n",
      "<A=0>\n",
      "itchy/JJ back/RB !!/NN\n",
      "dont/NN ya/NN hate/VBP it/PRP !/.\n",
      "<A=4>\n",
      "Stanford/NNP Charity/NN Fashion/NNP Show/NNP a/DT top/JJ draw/VB\n",
      "<A=4>\n",
      "Stanford/NNP University/NNP ?/. s/PRP Facebook/NN Profile/NN is/VBZ One/CD of/IN the/DT Most/JJS Popular/NNP Official/JJ University/NNP Pages/NNPS -/:\n",
      "<A=4>\n",
      "Lyx/NN is/VBZ cool/JJ ./.\n",
      "<A=4>\n",
      "SOOO/RB DISSAPOiNTED/NN THEY/PRP SENT/VBD DANNY/NN GOKEY/NN HOME/NNP .../:\n",
      "YOU/PRP STiLL/RB ROCK/NN .../: DANNY/NN .../:\n",
      "MY/PRP$ HOMETOWN/NN HERO/NN !!/NN\n",
      "YEAH/UH MiLROCKEE/NN !!/NN\n",
      "<A=4>\n",
      "RT/NN PassionModel/NN '/POS American/NNP Idol/NNP '/POS fashion/NN :/: Adam/NNP Lambert/NNP tones/NNS down/RB ,/, Danny/NNP Gokey/NN cute/JJ .../:\n",
      "<A=4>\n",
      "dannygokey/NN I/PRP love/NN you/PRP DANNY/NN GOKEY/NN !!/NN\n",
      ":/: )/)\n",
      "<A=0>\n",
      "so/RB tired/VBN ./.\n",
      "i/NN didn/VBD 't/NN sleep/VB well/RB at/IN all/DT last/JJ night/NN ./.\n",
      "<A=0>\n",
      "Boarding/VBG plane/NN for/IN San/NNP Francisco/NNP in/IN 1/NN hour/NN ;/: 6/NN hr/NN flight/NN ./.\n",
      "Blech/NN ./.\n",
      "<A=0>\n",
      "bonjour/NN San/NNP Francisco/NNP ./.\n",
      "My/PRP$ back/RB hurts/VBZ from/IN last/JJ night/NN ../.\n",
      "<A=4>\n",
      "With/IN my/PRP$ best/JJS girl/NN for/IN a/DT few/JJ more/JJR hours/NNS in/IN San/NNP francisco/NN ./.\n",
      "Mmmmmfamily/RB is/VBZ wonderful/JJ !/.\n",
      "<A=0>\n",
      "F/NN ***/NN up/IN big/JJ ,/, or/CC go/VB home/NN -/: AIG/NNP\n",
      "<A=4>\n",
      "Went/VBD to/TO see/VB the/DT Star/NNP Trek/NNP movie/NN last/JJ night/NN ./.\n",
      "Very/RB satisfying/JJ ./.\n",
      "<A=4>\n",
      "I/PRP can/MD 't/NN wait/VB ,/, going/VBG to/TO see/VB star/NN trek/NN tonight/RB !!/NN\n",
      "<A=4>\n",
      "Star/NNP Trek/NNP was/VBD as/IN good/JJ as/IN everyone/NN said/VBD !!/NN\n",
      "<A=4>\n",
      "am/VBP loving/JJ new/JJ malcolm/NN gladwell/NN book/NN -/: outliers/NNS\n",
      "<A=4>\n",
      "I/PRP highly/RB recommend/VB Malcolm/NNP Gladwell/NN 's/POS '/POS The/DT Tipping/VBG Point/NNP ./. '/POS\n",
      "My/PRP$ next/JJ audiobook/NN will/MD probably/RB be/VB one/CD of/IN his/PRP$ as/IN well/RB ./.\n",
      "<A=0>\n",
      "Malcolm/NNP Gladwell/NN is/VBZ a/DT genius/NNS at/IN tricking/VBG people/NNS into/IN not/RB realizing/VBG he/PRP 's/POS a/DT fucking/VBG idiot/JJ\n",
      "<A=0>\n",
      "sportsguy33/NN hey/UH no/DT offense/NN but/CC malcolm/NN gladwell/NN is/VBZ a/DT pretenious/NNS ,/, annoying/JJ cunt/NN and/CC he/PRP brings/VBZ you/PRP down/RB ./.\n",
      "cant/NN read/VB his/PRP$ shit/NN\n",
      "<A=4>\n",
      "RT/NN clashmore/NN :/: Great/NNP article/NN by/IN Malcolm/NNP Gladwell/NN ./.\n",
      "<A=4>\n",
      "I/PRP seriously/RB underestimated/VBN Malcolm/NNP Gladwell/NN ./.\n",
      "I/PRP want/VBP to/TO meet/VB this/DT dude/NN ./.\n",
      "<A=0>\n",
      "i/NN hate/VBP comcast/NN right/NN now/RB ./.\n",
      "everything/VBG is/VBZ down/RB cable/NN internet/NN &/CC phone/NN ..../CD ughh/NN what/WP am/VBP i/NN to/TO do/VBP\n",
      "<A=0>\n",
      "Comcast/NNP sucks/VBZ ./.\n",
      "<A=0>\n",
      "The/DT day/NN I/PRP never/RB have/VBP to/TO deal/JJ with/IN Comcast/NNP again/RB will/MD rank/NN as/IN one/CD of/IN the/DT best/JJS days/NNS of/IN my/PRP$ life/NN ./.\n",
      "<A=0>\n",
      "Dommm/NN did/VBD comcast/NN fail/VB again/RB ??/NN\n",
      "<A=0>\n",
      "curses/NNS the/DT Twitter/NN API/NNP limit/NN\n",
      "<A=0>\n",
      "Now/RB I/PRP can/MD see/VB why/WRB Dave/NNP Winer/NN screams/NNS about/IN lack/NN of/IN Twitter/NN API/NNP ,/, its/PRP$ limitations/NNS and/CC access/NNS throttles/NNS !/.\n",
      "<A=0>\n",
      "Arg/NN ./.\n",
      "Twitter/NN API/NNP is/VBZ making/VBG me/PRP crazy/JJ ./.\n",
      "<A=4>\n",
      "I/PRP 'm/VBP really/RB loving/JJ the/DT new/JJ search/NN site/NN Wolfram/NN //NN Alpha/NNP ./.\n",
      "Makes/VBZ Google/NN seem/VB so/RB .../:\n",
      "quaint/JJ ./.\n",
      "<A=0>\n",
      "wolfram/NN Alpha/NNP SUCKS/VBZ !/.\n",
      "Even/RB for/IN researchers/NNS the/DT information/NN provided/VBN is/VBZ less/JJR than/IN you/PRP can/MD get/VB from/IN google/NN or/CC wikipedia/NN ,/, totally/RB useless/JJ !/.\n",
      "<A=4>\n",
      "Off/IN to/TO the/DT NIKE/NN factory/NN !!!/NN\n",
      "<A=4>\n",
      "New/NNP nike/NN muppet/NN commercials/NNS are/VBP pretty/RB cute/JJ ./.\n",
      "Why/WRB do/VBP we/PRP live/VB together/RB again/RB ?/.\n",
      "<A=0>\n",
      "Fraggle312/NN oh/UH those/DT are/NN awesome/JJ !/.\n",
      "i/NN so/RB wish/VBP they/PRP weren/NN 't/NN owned/VBN by/IN nike/NN :/: (/(\n",
      "<A=4>\n",
      "tonyhawk/NN -/: AWESOME/JJ !!!/NN\n",
      "Seeing/VBG the/DT show/NN Friday/NNP at/IN the/DT Shoreline/NN Amphitheatre/NN ./.\n",
      "Never/RB seen/VBN NIN/NN before/IN ./.\n",
      "Can/MD 't/NN wait/VB ./.\n",
      ".../:\n",
      "<A=0>\n",
      "arhh/NN ,/, It/PRP 's/POS weka/NN bug/NN ./.\n",
      "=/SYM /NN =/SYM \"/\" and/CC I/PRP spent/VBD almost/RB two/CD hours/NNS to/TO find/VB that/IN out/IN ./.\n",
      "crappy/NN me/PRP\n",
      "<A=4>\n",
      "mitzs/NNS hey/UH bud/NN :/: )/) np/NN I/PRP do/VBP so/RB love/NN my/PRP$ 50D/NN ,/, although/IN I/PRP 'd/MD love/NN a/DT 5D/NN mkII/NN more/JJR\n",
      "<A=4>\n",
      "jonduenas/NNS robynlyn/NN just/RB got/VBD us/PRP a/DT 50D/NN for/IN the/DT office/NN ./.\n",
      ":/: D/NN\n",
      "<A=4>\n",
      "Just/RB picked/VBD up/IN my/PRP$ new/JJ Canon/NNP 50D/NN .../: it/PRP 's/POS beautiful/JJ !!/NN\n",
      "Prepare/VB for/IN some/DT seriously/RB awesome/JJ photography/NN !/.\n",
      "<A=4>\n",
      "Just/RB got/VBD my/PRP$ new/JJ toy/NN ./.\n",
      "Canon/NNP 50D/NN ./.\n",
      "Love/NNP love/NN love/NN it/PRP !/.\n",
      "<A=4>\n",
      "Learning/VBG about/IN lambda/NN calculus/NNS :/: )/)\n",
      "<A=4>\n",
      "I/PRP 'm/VBP moving/VBG to/TO East/NNP Palo/NNP Alto/NNP !/.\n",
      "<A=4>\n",
      "atebits/NNS I/PRP just/RB finished/VBD watching/VBG your/PRP$ Stanford/NNP iPhone/NN Class/NNP session/NN ./.\n",
      "I/PRP really/RB appreciate/VB it/PRP ./.\n",
      "You/PRP Rock/NNP !/.\n",
      "<A=4>\n",
      "jktweet/NN Hi/UH !/.\n",
      "Just/RB saw/VBD your/PRP$ Stanford/NNP talk/VB and/CC really/RB liked/VBD your/PRP$ advice/NN ./.\n",
      "Just/RB saying/VBG Hi/UH from/IN Singapore/NNP (/( yes/UH the/DT videos/NNS do/VBP get/VB around/IN )/)\n",
      "<A=4>\n",
      "LAKERS/NN tonight/RB let/VB 's/POS go/VB !!!!/NN\n",
      "<A=4>\n",
      "Will/MD the/DT Lakers/NNP kick/NN the/DT Nuggets/NNPS ass/NNS tonight/RB ?/.\n",
      "<A=0>\n",
      "Oooooooh/NN .../:\n",
      "North/NNP Korea/NNP is/VBZ in/IN troubleeeee/NN !/.\n",
      "<A=0>\n",
      "Wat/NN the/DT heck/NN is/VBZ North/NNP Korea/NNP doing/VBG !!/NN ??/NN !!/NN\n",
      "They/PRP just/RB conducted/VBN powerful/JJ nuclear/JJ tests/NNS !/.\n",
      "Follow/VB the/DT link/NN :/:\n",
      "<A=0>\n",
      "Listening/VBG to/TO Obama/NN .../:\n",
      "Friggin/NN North/NNP Korea/NNP .../:\n",
      "<A=0>\n",
      "I/PRP just/RB realized/VBD we/PRP three/CD monkeys/NNS in/IN the/DT white/JJ Obama/NN ./. Biden/NNP ,/, Pelosi/NN ./.\n",
      "Sarah/NNP Palin/NN 2012/NN\n",
      "<A=0>\n",
      "foxnews/NNS Pelosi/NN should/MD stay/VB in/IN China/NNP and/CC never/RB come/VB back/RB ./.\n",
      "<A=0>\n",
      "Nancy/NNP Pelosi/NN gave/VBD the/DT worst/JJS commencement/NN speech/NN I/PRP '/POS ve/NN ever/RB heard/VBN ./.\n",
      "Yes/UH I/PRP 'm/VBP still/RB bitter/JJ about/IN this/DT\n",
      "<A=0>\n",
      "ugh/NN ./.\n",
      "the/DT amount/NN of/IN times/NNS these/DT stupid/JJ insects/NNS have/VBP bitten/VBN me/PRP ./.\n",
      "Grr/NN ../.\n",
      "<A=4>\n",
      "Prettiest/JJS insects/NNS EVER/RB -/: Pink/NNP Katydids/NNS :/:\n",
      "<A=0>\n",
      "Just/RB got/VBD barraged/VBN by/IN a/DT horde/NN of/IN insects/NNS hungry/JJ for/IN my/PRP$ kitchen/NN light/NN ./.\n",
      "So/RB scary/JJ ./.\n",
      "<A=4>\n",
      "Just/RB had/VBD McDonalds/NNP for/IN dinner/NN ./.\n",
      ":/: D/NN It/PRP was/VBD goooood/NN ./.\n",
      "Big/NNP Mac/NNP Meal/JJ ./.\n",
      ";/: )/)\n",
      "<A=4>\n",
      "AHH/NN YES/NNP LOL/NN IMA/NNP TELL/VB MY/PRP$ HUBBY/NN TO/TO GO/VB GET/VB ME/PRP SUM/NN MCDONALDS/NN =/SYM ]/)\n",
      "<A=4>\n",
      "Stopped/VBN to/TO have/VBP lunch/NN at/IN McDonalds/NNP ./.\n",
      "Chicken/NNP Nuggetssss/NNS !/.\n",
      ":/: )/) yummmmmy/NN ./.\n",
      "<A=4>\n",
      "Could/MD go/VB for/IN a/DT lot/NN of/IN McDonalds/NNP ./.\n",
      "i/NN mean/VB A/DT LOT/NNP ./.\n",
      "<A=4>\n",
      "my/PRP$ exam/NN went/VBD good/JJ ./.\n",
      "HelloLeonie/NN :/: your/PRP$ prayers/NNS worked/VBD (/( :/:\n",
      "<A=4>\n",
      "Only/RB one/CD exam/NN left/VBN ,/, and/CC i/NN am/VBP so/RB happy/JJ for/IN it/PRP :/: D/NN\n",
      "<A=0>\n",
      "Math/NNP review/NN ./.\n",
      "Im/NN going/VBG to/TO fail/VB the/DT exam/NN ./.\n",
      "<A=0>\n",
      "Colin/NNP Powell/NNP rocked/VBD yesterday/NN on/IN CBS/NNP ./.\n",
      "Cheney/NNP needs/VBZ to/TO shut/VBN the/DT hell/NN up/IN and/CC go/VB home/NN ./. Powell/NNP is/VBZ a/DT man/NN of/IN Honor/NNP and/CC served/VBN our/PRP$ country/NN proudly/RB\n",
      "<A=0>\n",
      "obviously/RB not/RB siding/VBG with/IN Cheney/NNP here/RB :/:\n",
      "<A=4>\n",
      "Absolutely/RB hilarious/JJ !!!/NN\n",
      "from/IN mashable/NN :/:\n",
      "<A=4>\n",
      "mashable/NN I/PRP never/RB did/VBD thank/VB you/PRP for/IN including/VBG me/PRP in/IN your/PRP$ Top/JJ 100/NN Twitter/NN Authors/NNS !/.\n",
      "You/PRP Rock/NNP !/.\n",
      "(/( &/CC I/PRP New/NNP Wave/NNP :/: -/: D/NN )/)\n",
      "<A=4>\n",
      "RT/NN shrop/NN :/: Awesome/JJ JQuery/NN reference/NN book/NN for/IN Coda/NNP !/.\n",
      "webdesign/NN\n",
      "<A=4>\n",
      "I/PRP '/POS ve/NN been/VBN sending/VBG e/NN -/: mails/NNS like/IN crazy/JJ today/NN to/TO my/PRP$ contacts/NNS .../: does/VBZ anyone/NN have/VBP a/DT contact/NN at/IN Goodby/NNP SIlverstein/NN .../: I/PRP 'd/MD love/NN to/TO speak/VB to/TO them/PRP\n",
      "<A=4>\n",
      "Goodby/NNP ,/, Silverstein/NNP 's/POS new/JJ site/NN .../:\n",
      "I/PRP enjoy/VB it/PRP ./.\n",
      "<A=4>\n",
      "Wow/UH everyone/NN at/IN the/DT Google/NN I/PRP //NN O/NNP conference/NN got/VBD free/JJ G2/NN 's/POS with/IN a/DT month/NN of/IN unlimited/JJ service/NN\n",
      "<A=4>\n",
      "vkerkez/NN dood/NN I/PRP got/VBD a/DT free/JJ google/NN android/NN phone/NN at/IN the/DT I/PRP //NN O/NNP conference/NN ./.\n",
      "The/DT G2/NN !/.\n",
      "<A=4>\n",
      "Orli/NN the/DT G2/NN is/VBZ amazing/JJ btw/NN ,/, a/DT HUGE/JJ improvement/NN over/IN the/DT G1/NN\n",
      "<A=4>\n",
      "HTML/NN 5/NN Demos/NNS !/.\n",
      "Lots/NNS of/IN great/JJ stuff/NN to/TO come/VB !/.\n",
      "Yes/UH ,/, I/PRP 'm/VBP excited/VBN ./.\n",
      ":/: )/) io2009/NN googleio/NN\n",
      "<A=4>\n",
      "googleio/NN -/: Yay/NN !/.\n",
      "Happy/NNP place/NN !/.\n",
      "Place/NNP place/NN !/.\n",
      "I/PRP love/NN Google/NN !/.\n",
      "<A=4>\n",
      "GoogleIO/NN |/NN O3D/NN -/: Bringing/VBG 3d/NN graphics/NNS to/TO the/DT browser/NN ./.\n",
      "Very/RB nice/JJ tbh/NN ./.\n",
      "Funfun/NN ./.\n",
      "<A=4>\n",
      "Awesome/JJ viral/JJ marketing/VBG for/IN \"/\" Funny/JJ People/NNS \"/\"\n",
      "<A=0>\n",
      "saw/VBD night/NN at/IN the/DT museum/NN out/IN of/IN sheer/JJ desperation/NN ./.\n",
      "who/WP is/VBZ funding/VBG these/DT movies/NNS ?/.\n",
      "<A=4>\n",
      "Night/NNP At/IN The/DT Museum/NNP 2/NN ?/.\n",
      "Pretty/RB furkin/NN good/JJ ./.\n",
      "<A=4>\n",
      "Watching/VBG Night/NNP at/IN the/DT Museum/NNP -/: giggling/VBG ./.\n",
      "<A=0>\n",
      "Back/RB from/IN seeing/VBG '/POS Star/NNP Trek/NNP '/POS and/CC '/POS Night/NNP at/IN the/DT Museum/NNP ./. '/POS\n",
      "'/POS Star/NNP Trek/NNP '/POS was/VBD amazing/JJ ,/, but/CC '/POS Night/NNP at/IN the/DT Museum/NNP '/POS was/VBD ;/: eh/UH ./.\n",
      "<A=4>\n",
      "just/RB watched/VBD night/NN at/IN the/DT museum/NN 2/NN !/.\n",
      "so/RB stinkin/JJ cute/JJ !/.\n",
      "<A=4>\n",
      "So/RB ,/, Night/NNP at/IN the/DT Museum/NNP 2/NN was/VBD AWESOME/JJ !/.\n",
      "Much/RB better/JJR than/IN part/NN 1/NN ./.\n",
      "Next/JJ weekend/NN we/PRP '/POS ll/NN see/VB Up/IN ./.\n",
      "<A=4>\n",
      "saw/VBD the/DT new/JJ Night/NNP at/IN the/DT Museum/NNP and/CC i/NN loved/VBD it/PRP ./.\n",
      "Next/JJ is/VBZ to/TO go/VB see/VB UP/IN in/IN 3D/NN\n",
      "<A=0>\n",
      "It/PRP is/VBZ a/DT shame/NN about/IN GM/NNP ./.\n",
      "What/WP if/IN they/PRP are/VBP forced/VBN to/TO make/VB only/RB cars/NNS the/DT White/NNP House/NNP THINKS/VBZ will/MD sell/VB ?/.\n",
      "What/WP do/VBP you/PRP think/VBP ?/.\n",
      "<A=0>\n",
      "As/IN u/PRP may/MD have/VBP noticed/VBD ,/, not/RB too/RB happy/JJ about/IN the/DT GM/NNP situation/NN ,/, nor/CC AIG/NNP ,/, Lehman/NNP ,/, et/FW al/JJ\n",
      "<A=0>\n",
      "Pittstock/NN $/$ GM/NNP good/JJ riddance/NN ./.\n",
      "sad/JJ though/IN ./.\n",
      "<A=0>\n",
      "I/PRP Will/MD NEVER/RB Buy/VB a/DT Government/NNP Motors/NNPS Vehicle/NNP :/: Until/IN just/RB recently/RB ,/, I/PRP drove/VBD GM/NNP cars/NNS ./.\n",
      "Since/IN 1988/NN ,/, when/WRB I/PRP bought/VBD a/DT ../.\n",
      "<A=0>\n",
      "Having/VBG the/DT old/JJ Coca/NNP -/: Cola/NNP guy/NN on/IN the/DT GM/NNP board/NN is/VBZ stupid/JJ has/VBZ heck/NN !/.\n",
      "tcot/NN ala/NN\n",
      "<A=0>\n",
      "RantsAndRaves/NNS The/DT worst/JJS thing/VBG about/IN GM/NNP (/( concord/NN //NN pleasant/JJ hill/NN //NN martinez/NN )/) :/: is/VBZ the/DT fucking/VBG UAW/NNP ./.\n",
      "../.\n",
      "<A=0>\n",
      "Give/VB a/DT man/NN a/DT fish/NN ,/, u/PRP feed/VBN him/PRP for/IN the/DT day/NN ./.\n",
      "Teach/VBP him/PRP to/TO fish/NN ,/, u/PRP feed/VBN him/PRP for/IN life/NN ./.\n",
      "Buy/VB him/PRP GM/NNP ,/, and/CC u/PRP F/NN **/NN K/NNP him/PRP over/IN for/IN good/JJ ./.\n",
      "<A=0>\n",
      "The/DT more/JJR I/PRP hear/VB about/IN this/DT GM/NNP thing/VBG the/DT more/JJR angry/JJ I/PRP get/VB ./.\n",
      "Billions/NNS wasted/VBN ,/, more/JJR bullshit/NN ./.\n",
      "All/DT for/IN something/VBG like/IN 40k/NN employees/NNS and/CC all/DT the/DT ../.\n",
      "<A=0>\n",
      "QuantTrader/NN i/NN own/JJ a/DT GM/NNP car/NN and/CC it/PRP is/VBZ junk/NN as/IN far/RB as/IN quality/NN compared/VBN to/TO a/DT honda/NN\n",
      "<A=0>\n",
      "sad/JJ day/NN .../: bankrupt/JJ GM/NNP\n",
      "<A=0>\n",
      "is/VBZ upset/VBN about/IN the/DT whole/JJ GM/NNP thing/VBG ./.\n",
      "life/NN as/IN i/NN know/VB it/PRP is/VBZ so/RB screwed/VBN up/IN\n",
      "<A=0>\n",
      "whoever/WP is/VBZ running/VBG time/NN warner/NN needs/VBZ to/TO be/VB repeatedly/RB raped/VBN by/IN a/DT rhino/NN so/RB they/PRP understand/VB the/DT consequences/NNS of/IN putting/VBG out/IN shitty/NN cable/NN svcs/NNS\n",
      "<A=0>\n",
      "WFTB/NN Joining/VBG a/DT bit/NN late/JJ ./.\n",
      "My/PRP$ connection/NN was/VBD down/RB (/( boo/VB time/NN warner/NN )/)\n",
      "<A=0>\n",
      "Cox/NNP or/CC Time/NNP Warner/NNP ?/.\n",
      "Cox/NNP is/VBZ cheaper/JJR and/CC gets/VBZ a/DT B/NNP on/IN dslreports/NNS ./.\n",
      "TW/NNP is/VBZ more/JJR expensive/JJ and/CC gets/VBZ a/DT C/NN ./.\n",
      "<A=0>\n",
      "i/NN am/VBP furious/JJ with/IN time/NN warner/NN and/CC their/PRP$ phone/NN promotions/NNS !/.\n",
      "<A=0>\n",
      "Just/RB got/VBD home/NN from/IN chick/NN -/: fil/NN -/: a/DT with/IN the/DT boys/NNS ./.\n",
      "Damn/VB my/PRP$ internets/NNS down/RB =/SYM (/( stupid/JJ time/NN warner/NN\n",
      "<A=0>\n",
      "could/MD time/NN -/: warner/NN cable/NN suck/VB more/JJR ?/.\n",
      "NO/DT ./.\n",
      "<A=0>\n",
      "Pissed/VBN at/IN Time/NNP Warner/NNP for/IN causin/NN me/PRP to/TO have/VBP slow/JJ internet/NN problems/NNS\n",
      "<A=0>\n",
      "sportsguy33/NN Ummm/NN ,/, having/VBG some/DT Time/NNP Warner/NNP problems/NNS ?/.\n",
      "<A=0>\n",
      "You/PRP guys/NNS see/VB this/DT ?/.\n",
      "Why/WRB does/VBZ Time/NNP Warner/NNP have/VBP to/TO suck/VB so/RB much/JJ ass/NNS ?/.\n",
      "Really/RB wish/VBP I/PRP could/MD get/VB U/NNP -/: Verse/NN at/IN my/PRP$ apartment/NN ./.\n",
      "<A=0>\n",
      "RT/NN sportsguy33/NN The/DT upside/RB to/TO Time/NNP Warner/NNP :/: unhelpful/JJ phone/NN operators/NNS superslow/NN on/IN -/: site/NN service/NN ./.\n",
      "Crap/NN ,/, that/IN 's/POS not/RB an/DT upside/RB ./.\n",
      "<A=0>\n",
      "RT/NN sportsguy33/NN :/: New/NNP Time/NNP Warner/NNP slogan/NN :/: /NN \"/\" Time/NNP Warner/NNP ,/, where/WRB we/PRP make/VB you/PRP long/JJ for/IN the/DT days/NNS before/IN cable/NN ./. \"/\"\n",
      "<A=0>\n",
      "confirmed/VBD :/: it/PRP 's/POS Time/NNP Warner/NNP 's/POS fault/NN ,/, not/RB Facebook/NN 's/POS ,/, that/IN fb/NN is/VBZ taking/VBG about/IN 3/NN minutes/NNS to/TO load/NN ./.\n",
      "so/RB tempted/VBN to/TO switch/NN to/TO verizon/NN =/SYM //NN\n",
      "<A=0>\n",
      "sportsguy33/NN Time/NNP Warner/NNP =/SYM epic/NN fail/VB\n",
      "<A=0>\n",
      "I/PRP know/VB ./.\n",
      "How/WRB sad/JJ is/VBZ that/IN ?/.\n",
      "RT/NN caseymercier/NN :/: 1st/NN day/NN of/IN hurricane/NN season/NN ./.\n",
      "That/DT 's/POS less/JJR scarey/NN than/IN govt/NN taking/VBG over/IN GM/NNP ./.\n",
      "<A=0>\n",
      "GM/NNP files/NNS Bankruptcy/NNP ,/, not/RB a/DT good/JJ sign/NN .../:\n",
      "<A=4>\n",
      "yankees/NNS won/VBD mets/NNS lost/VBD ./.\n",
      "its/PRP$ a/DT good/JJ day/NN ./.\n",
      "<A=4>\n",
      "My/PRP$ dentist/NN appt/NN today/NN was/VBD actually/RB quite/RB enjoyable/JJ ./.\n",
      "<A=0>\n",
      "I/PRP hate/VBP the/DT effing/VBG dentist/NN ./.\n",
      "<A=0>\n",
      "kirstiealley/NN I/PRP hate/VBP going/VBG to/TO the/DT dentist/NN ../.\n",
      "!!!/NN\n",
      "<A=0>\n",
      "i/NN hate/VBP the/DT dentist/NN ..../CD who/WP invented/VBN them/PRP anyways/UH ?/.\n",
      "<A=0>\n",
      "this/DT dentist/NN 's/POS office/NN is/VBZ cold/JJ :/: //NN\n",
      "<A=4>\n",
      "Just/RB applied/VBN at/IN Safeway/NNP !/. (/( :/: Yeeeee/NN !/.\n",
      "<A=0>\n",
      "Safeway/NNP ./.\n",
      "Place/NNP is/VBZ a/DT nightmare/NN right/NN now/RB ./.\n",
      "Bumming/VBG ./.\n",
      "<A=0>\n",
      "HATE/VBP safeway/NN select/VB green/JJ tea/NN icecream/NN !/.\n",
      "bought/VBD two/CD cartons/NNS ,/, what/WP a/DT waste/NN of/IN money/NN ./.\n",
      ">/SYM _/NN </SYM\n",
      "<A=4>\n",
      "Nike/NNP rocks/NNS ./.\n",
      "I/PRP 'm/VBP super/JJ grateful/JJ for/IN what/WP I/PRP '/POS ve/NN done/VBN with/IN them/PRP :/: )/) /NN &/CC the/DT European/JJ Division/NNP of/IN NIKE/NN is/VBZ BEYOND/IN !/.\n",
      "whitSTYLES/NN muchasmuertes/NNS\n",
      "<A=4>\n",
      "evelynbyrne/NN have/VBP you/PRP tried/VBD Nike/NNP ?/.\n",
      "V/NN ./.\n",
      "addictive/JJ ./.\n",
      "<A=4>\n",
      "The/DT Nike/NNP Training/VBG Club/NNP (/( beta/NN )/) iPhone/NN app/NN looks/VBZ very/RB interesting/JJ ./.\n",
      "<A=0>\n",
      "argghhhh/NN why/WRB won/VBD 't/NN my/PRP$ jquery/NN appear/VB in/IN safari/NN bad/JJ safari/NN !!!/NN\n",
      "<A=4>\n",
      "I/PRP 'm/VBP ready/JJ to/TO drop/NN the/DT pretenses/NNS ,/, I/PRP am/VBP forever/RB in/IN love/NN with/IN jQuery/NN ,/, and/CC I/PRP want/VBP to/TO marry/VB it/PRP ./.\n",
      "Sorry/JJ ladies/NNS ,/, this/DT nerd/NN is/VBZ jquery/NN ./. spokenFor/NN ./. js/NNS\n",
      "<A=4>\n",
      "SUPER/JJ INVESTORS/NNS :/: A/DT great/JJ weekend/NN read/VB here/RB from/IN Warren/NNP Buffet/NNP ./.\n",
      "Oldie/NN ,/, but/CC a/DT goodie/NN ./.\n",
      "<A=4>\n",
      "reading/VBG Michael/NNP Palin/NN book/NN ,/, The/DT Python/NNP Years/NNS .../: great/JJ book/NN ./.\n",
      "I/PRP also/RB recommend/VB Warren/NNP Buffet/NNP &/CC Nelson/NNP Mandela/NNP 's/POS bio/NN\n",
      "<A=4>\n",
      "I/PRP mean/VB ,/, I/PRP 'm/VBP down/RB with/IN Notre/NNP Dame/NNP if/IN I/PRP have/VBP to/TO ./.\n",
      "It/PRP 's/POS a/DT good/JJ school/NN ,/, I/PRP 'd/MD be/VB closer/JJR to/TO Dan/NNP ,/, I/PRP 'd/MD enjoy/VB it/PRP ./.\n",
      "<A=0>\n",
      "I/PRP can/MD 't/NN watch/VB TV/NN without/IN a/DT Tivo/NN ./.\n",
      "And/CC after/IN all/DT these/DT years/NNS ,/, the/DT Time/NNP //NN Warner/NNP DVR/NN STILL/RB sucks/VBZ ./.\n",
      "<A=4>\n",
      "I/PRP 'd/MD say/VBP some/DT sports/NNS writers/NNS are/VBP idiots/NNS for/IN saying/VBG Roger/NNP Federer/NN is/VBZ one/CD of/IN the/DT best/JJS ever/RB in/IN Tennis/NNP ./.\n",
      "Roger/NNP Federer/NN is/VBZ THE/DT best/JJS ever/RB in/IN Tennis/NNP\n",
      "<A=0>\n",
      "I/PRP still/RB love/NN my/PRP$ Kindle2/NN but/CC reading/VBG The/DT New/NNP York/NNP Times/NNP on/IN it/PRP does/VBZ not/RB feel/VB natural/JJ ./.\n",
      "I/PRP miss/VB the/DT Bloomingdale/NNP ads/NNS ./.\n",
      "<A=4>\n",
      "I/PRP love/NN my/PRP$ Kindle2/NN ./.\n",
      "No/DT more/JJR stacks/NNS of/IN books/NNS to/TO trip/NN over/IN on/IN the/DT way/NN to/TO the/DT loo/NN ./.\n",
      "<A=0>\n",
      "Although/IN today/NN 's/POS keynote/VBP rocked/VBD ,/, for/IN every/DT great/JJ announcement/NN ,/, AT/IN &/CC T/NN shit/NN on/IN us/PRP just/RB a/DT little/JJ bit/NN more/JJR ./.\n",
      "<A=0>\n",
      "sheridanmarfil/NN -/: its/PRP$ not/RB so/RB much/JJ my/PRP$ obsession/NN with/IN cell/NN phones/NNS ,/, but/CC the/DT iphone/NN !/.\n",
      "i/NN 'm/VBP a/DT slave/NN to/TO at/IN &/CC t/NN forever/RB because/IN of/IN it/PRP ./.\n",
      ":/: )/)\n",
      "<A=0>\n",
      "Fuzzball/NN is/VBZ more/JJR fun/NN than/IN AT/IN &/CC T/NN ;/: P/NN\n",
      "<A=0>\n",
      "Today/NN is/VBZ a/DT good/JJ day/NN to/TO dislike/NN AT/IN &/CC T/NN ./.\n",
      "Vote/NN out/IN of/IN office/NN indeed/RB ,/, danielpunkass/NNS\n",
      "<A=4>\n",
      "GOT/VBD MY/PRP$ WAVE/NNP SANDBOX/NN INVITE/VB !/.\n",
      "Extra/NNP excited/VBN !/.\n",
      "Too/RB bad/JJ I/PRP have/VBP class/NNS now/RB .../:\n",
      "but/CC I/PRP '/POS ll/NN play/VB with/IN it/PRP soon/RB enough/RB !/.\n",
      "io2009/NN wave/NN\n",
      "<A=0>\n",
      "looks/VBZ like/IN summize/NN has/VBZ gone/VBN down/RB ./.\n",
      "too/RB many/JJ tweets/NNS from/IN WWDC/NN perhaps/RB ?/.\n",
      "<A=4>\n",
      "sklososky/NN Thanks/NNS so/RB much/JJ !!!/NN\n",
      ".../: from/IN one/CD of/IN your/PRP$ */SYM very/RB */SYM happy/JJ Kindle2/NN winners/NNS ;/: /NN )/) I/PRP was/VBD so/RB surprised/VBN ,/, fabulous/JJ ./.\n",
      "Thank/VB you/PRP !/.\n",
      "Best/JJS ,/, Kathleen/NNP\n",
      "<A=0>\n",
      "Man/NN I/PRP kinda/RB dislike/NN Apple/NNP right/NN now/RB ./.\n",
      "Case/NNP in/IN point/NN :/: the/DT iPhone/NN 3GS/NN ./.\n",
      "Wish/VB there/EX was/VBD a/DT video/NN recorder/NN app/NN ./.\n",
      "Please/VB ??/NN\n",
      "<A=4>\n",
      "cwong08/NN I/PRP have/VBP a/DT Kindle2/NN (/( &/CC Sony/NNP PRS/NN -/: 500/NN )/) ./.\n",
      "Like/IN it/PRP !/.\n",
      "Physical/JJ device/NN feels/VBZ good/JJ ./.\n",
      "Font/NN is/VBZ nice/JJ ./.\n",
      "Pg/NN turns/VBZ are/VBP snappy/JJ enuf/NN ./.\n",
      "UI/NN a/DT little/JJ klunky/NN ./.\n",
      "<A=4>\n",
      "The/DT Kindle2/NN seems/VBZ the/DT best/JJS eReader/NN ,/, but/CC will/MD it/PRP work/NN in/IN the/DT UK/NNP and/CC where/WRB can/MD I/PRP get/VB one/CD ?/.\n",
      "<A=4>\n",
      "I/PRP have/VBP a/DT google/NN addiction/NN ./.\n",
      "Thank/VB you/PRP for/IN pointing/VBG that/IN out/IN ,/, annamartin123/NN ./.\n",
      "Hahaha/NN ./.\n",
      "<A=0>\n",
      "dearest/JJS google/NN ,/, you/PRP rich/JJ bastards/NNS !/.\n",
      "the/DT VISA/NNP card/NN you/PRP sent/VBD me/PRP doesn/NN 't/NN work/NN ./.\n",
      "why/WRB screw/NN a/DT little/JJ guy/NN like/IN me/PRP ?/.\n",
      "<A=4>\n",
      "Excited/VBN about/IN seeing/VBG Bobby/NNP Flay/VB and/CC Guy/NNP Fieri/NN tomorrow/NN at/IN the/DT Great/NNP American/NNP Food/NNP &/CC Music/NNP Fest/NN !/.\n",
      "<A=4>\n",
      "Gonna/VBG go/VB see/VB Bobby/NNP Flay/VB 2moro/NN at/IN Shoreline/NN ./.\n",
      "Eat/NNP and/CC drink/NN ./.\n",
      "Gonna/VBG be/VB good/JJ ./.\n",
      "<A=4>\n",
      "can/MD 't/NN wait/VB for/IN the/DT great/JJ american/NN food/NN and/CC music/NN festival/JJ at/IN shoreline/NN tomorrow/NN ./.\n",
      "mmm/NN .../: katz/NN pastrami/NNS and/CC bobby/NN flay/VB ./.\n",
      "yes/UH please/VB ./.\n",
      "<A=4>\n",
      "My/PRP$ dad/NN was/VBD in/IN NY/NN for/IN a/DT day/NN ,/, we/PRP ate/VBD at/IN MESA/NN grill/NN last/JJ night/NN and/CC met/VBD Bobby/NNP Flay/VB ./.\n",
      "So/RB much/JJ fun/NN ,/, except/IN I/PRP completely/RB lost/VBD my/PRP$ voice/NN today/NN ./.\n",
      "<A=0>\n",
      "Fighting/VBG with/IN LaTex/NN ./.\n",
      "Again/RB .../:\n",
      "<A=0>\n",
      "Iheartseverus/NNS we/PRP love/NN you/PRP too/RB and/CC don/VB 't/NN want/VBP you/PRP to/TO die/VB !!!!!!/NN\n",
      "Latex/NN =/SYM the/DT devil/NN\n",
      "<A=0>\n",
      "7/NN hours/NNS ./.\n",
      "7/NN hours/NNS of/IN inkscape/NN crashing/VBG ,/, normally/RB solid/JJ as/IN a/DT rock/NN ./.\n",
      "7/NN hours/NNS of/IN LaTeX/NN complaining/VBG at/IN the/DT slightest/JJS thing/VBG ./.\n",
      "I/PRP can/MD 't/NN take/VB any/DT more/JJR ./.\n",
      "<A=0>\n",
      "Shit/NN 's/POS hitting/VBG the/DT fan/NN in/IN Iran/NNP .../: craziness/NNS indeed/RB iranelection/NN\n",
      "<A=0>\n",
      "Monday/NNP already/RB ./.\n",
      "Iran/NNP may/MD implode/NN ./.\n",
      "Kitchen/NNP is/VBZ a/DT disaster/NN ./.\n",
      "annagoss/NNS seems/VBZ happy/JJ ./.\n",
      "sebulous/NNS had/VBD a/DT nice/JJ weekend/NN and/CC goldpanda/NN is/VBZ great/JJ ./.\n",
      "whoop/NN ./.\n",
      "<A=4>\n",
      "getting/VBG ready/JJ to/TO test/NN out/IN some/DT burger/NN receipes/NNS this/DT weekend/NN ./.\n",
      "Bobby/NNP Flay/VB has/VBZ some/DT great/JJ receipes/NNS to/TO try/VB ./.\n",
      "Thanks/NNS Bobby/NNP ./.\n",
      "<A=4>\n",
      "i/NN lam/NN so/RB in/IN love/NN with/IN Bobby/NNP Flay/VB .../:\n",
      "he/PRP is/VBZ my/PRP$ favorite/JJ ./.\n",
      "RT/NN terrysimpson/NN :/: bflay/NN you/PRP need/VBN a/DT place/NN in/IN Phoenix/NNP ./.\n",
      "We/PRP have/VBP great/JJ peppers/NNS here/RB !/.\n",
      "<A=0>\n",
      "I/PRP just/RB created/VBN my/PRP$ first/JJ LaTeX/NN file/VB from/IN scratch/NN ./.\n",
      "That/DT didn/NN 't/NN work/NN out/IN very/RB well/RB ./.\n",
      "(/( See/VB amandabittner/NN ,/, it/PRP 's/POS a/DT great/JJ time/NN waster/NN )/)\n",
      "<A=4>\n",
      "using/VBG Linux/NN and/CC loving/JJ it/PRP -/: so/RB much/JJ nicer/JJR than/IN windows/NNS .../:\n",
      "Looking/VBG forward/RB to/TO using/VBG the/DT wysiwyg/NN latex/NN editor/NN !/.\n",
      "<A=4>\n",
      "After/IN using/VBG LaTeX/NN a/DT lot/NN ,/, any/DT other/JJ typeset/NN mathematics/NNS just/RB looks/VBZ hideous/JJ ./.\n",
      "<A=0>\n",
      "On/IN that/IN note/NN ,/, I/PRP hate/VBP Word/NNP ./.\n",
      "I/PRP hate/VBP Pages/NNPS ./.\n",
      "I/PRP hate/VBP LaTeX/NN ./.\n",
      "There/EX ,/, I/PRP said/VBD it/PRP ./.\n",
      "I/PRP hate/VBP LaTeX/NN ./.\n",
      "All/DT you/PRP TEXN3RDS/NN can/MD come/VB kill/VB me/PRP now/RB ./.\n",
      "<A=4>\n",
      "Ahhh/NN .../:\n",
      "back/RB in/IN a/DT */SYM real/JJ */SYM text/NN editing/VBG environment/NN ./.\n",
      "I/PRP </SYM 3/NN LaTeX/NN ./.\n",
      "<A=0>\n",
      "Trouble/NN in/IN Iran/NNP ,/, I/PRP see/VB ./.\n",
      "Hmm/NN ./.\n",
      "Iran/NNP ./.\n",
      "Iran/NNP so/RB far/RB away/RB ./.\n",
      "flockofseagullsweregeopoliticallycorrect/NN\n",
      "<A=0>\n",
      "Reading/VBG the/DT tweets/NNS coming/VBG out/IN of/IN Iran/NNP .../:\n",
      "The/DT whole/JJ thing/VBG is/VBZ terrifying/JJ and/CC incredibly/RB sad/JJ .../:\n",
      "\n"
     ]
    }
   ],
   "source": [
    "print output_buf.getvalue()"
   ]
  },
  {
   "cell_type": "code",
   "execution_count": 251,
   "metadata": {
    "collapsed": false
   },
   "outputs": [
    {
     "data": {
      "text/plain": [
       "['',\n",
       " '4>\\nstellargirl/NN I/PRP loooooooovvvvvveee/NN my/PRP$ Kindle2/NN ./.\\nNot/RB that/IN the/DT DX/NNP is/VBZ cool/JJ ,/, but/CC the/DT 2/NN is/VBZ fantastic/JJ in/IN its/PRP$ own/JJ right/NN ./.\\n']"
      ]
     },
     "execution_count": 251,
     "metadata": {},
     "output_type": "execute_result"
    }
   ],
   "source": [
    "split = output_buf.getvalue().split('<A=')\n",
    "split[:2]"
   ]
  },
  {
   "cell_type": "code",
   "execution_count": 252,
   "metadata": {
    "collapsed": false
   },
   "outputs": [
    {
     "data": {
      "text/plain": [
       "360"
      ]
     },
     "execution_count": 252,
     "metadata": {},
     "output_type": "execute_result"
    }
   ],
   "source": [
    "len(split)"
   ]
  },
  {
   "cell_type": "markdown",
   "metadata": {},
   "source": [
    "##### Create tweet files"
   ]
  },
  {
   "cell_type": "code",
   "execution_count": 98,
   "metadata": {
    "collapsed": false
   },
   "outputs": [
    {
     "name": "stdout",
     "output_type": "stream",
     "text": [
      "unpickle the dictionary\n",
      "Initialized lexHash from pickled data.\n"
     ]
    }
   ],
   "source": [
    "with open(\"datafiles/train_group.twt\", \"w\") as train_file:\n",
    "    twtt(train_file, GID=4)"
   ]
  },
  {
   "cell_type": "code",
   "execution_count": 95,
   "metadata": {
    "collapsed": false
   },
   "outputs": [
    {
     "name": "stdout",
     "output_type": "stream",
     "text": [
      "unpickle the dictionary\n",
      "Initialized lexHash from pickled data.\n"
     ]
    }
   ],
   "source": [
    "with open(\"datafiles/test.twt\", \"w\") as test_file:\n",
    "    twtt(test_file, \"datasets/testdata.manualSUBSET.2009.06.14.csv\")"
   ]
  },
  {
   "cell_type": "code",
   "execution_count": 173,
   "metadata": {
    "collapsed": false
   },
   "outputs": [
    {
     "name": "stdout",
     "output_type": "stream",
     "text": [
      "unpickle the dictionary\n",
      "Initialized lexHash from pickled data.\n"
     ]
    }
   ],
   "source": [
    "with open(\"datafiles/train_all.twt\", \"w\") as train_file:\n",
    "    twtt(train_file)"
   ]
  },
  {
   "cell_type": "markdown",
   "metadata": {},
   "source": [
    "### Part 2: Feature Extraction"
   ]
  },
  {
   "cell_type": "markdown",
   "metadata": {},
   "source": [
    "\n",
    "@relation weather\n",
    "\n",
    "@attribute outlook {sunny, overcast, rainy}\n",
    "\n",
    "@attribute temperature numeric\n",
    "\n",
    "@attribute humidity numeric\n",
    "\n",
    "@attribute windy {TRUE, FALSE}\n",
    "\n",
    "@attribute play {yes, no}\n",
    "\n",
    "@data\n",
    "sunny,85,85,FALSE,no\n",
    "sunny,80,90,TRUE,no"
   ]
  },
  {
   "cell_type": "code",
   "execution_count": 550,
   "metadata": {
    "collapsed": true
   },
   "outputs": [],
   "source": [
    "sample_parser_output = \"\"\"<A=4>\n",
    "Meet/VB me/PRP today/NN at/IN the/DT FEC/NN in/IN DC/NN at/IN 4/NN ./.\n",
    "Wear/VB a/DT carnation/NN so/RB I/PRP know/VB it/PRP 's/POS you/PRP ./.\"\"\""
   ]
  },
  {
   "cell_type": "code",
   "execution_count": 547,
   "metadata": {
    "collapsed": false
   },
   "outputs": [
    {
     "data": {
      "text/plain": [
       "\"<A=4>\\nMeet/VB me/PRP today/NN at/IN the/DT FEC/NN in/IN DC/NN at/IN 4/NN ./.\\nWear/VB a/DT carnation/NN so/RB I/PRP know/VB it/PRP 's/POS you/PRP ./.\""
      ]
     },
     "execution_count": 547,
     "metadata": {},
     "output_type": "execute_result"
    }
   ],
   "source": [
    "sample_parser_output"
   ]
  },
  {
   "cell_type": "code",
   "execution_count": 299,
   "metadata": {
    "collapsed": true
   },
   "outputs": [],
   "source": [
    "def prep_arff(output_file):\n",
    "    output_file.write(\"@relation sentiment\\n\\n\")\n",
    "    \n",
    "    feature_set = [\n",
    "                \"first_person_pronouns\", \n",
    "                \"second_person_pronouns\", \n",
    "                \"third_person_pronouns\",\n",
    "                \"coordinating_conjunctions\",\n",
    "                \"past_tense_verbs\",\n",
    "                \"future_tense_verbs\",\n",
    "                \"commas\",\n",
    "                \"colons\",\n",
    "                \"dashes\",\n",
    "                \"parantheses\",\n",
    "                \"ellipses\",\n",
    "                \"common_nouns\",\n",
    "                \"proper_nouns\",\n",
    "                \"adverbs\",\n",
    "                \"wh_words\",\n",
    "                \"slang_acronyms\",\n",
    "                \"upper_case_words\",\n",
    "                \"sentence_length\",\n",
    "                \"token_length\",\n",
    "                \"number_sentences\"\n",
    "               ]\n",
    "    \n",
    "    for feature in feature_set:\n",
    "        output_file.write(\"@attribute \" + feature + \" numeric\\n\")\n",
    "        \n",
    "    output_file.write(\"@attribute class {0, 4}\\n\\n\")\n",
    "    \n",
    "    output_file.write(\"@data\\n\")"
   ]
  },
  {
   "cell_type": "code",
   "execution_count": 302,
   "metadata": {
    "collapsed": false
   },
   "outputs": [],
   "source": [
    "def compute_feature_vector(sentences, label):\n",
    "    feature_string = \"\"\n",
    "    if 0 == len(sentences):\n",
    "        return feature_string\n",
    "    \n",
    "    if \"\\n\" == sentences[0]:\n",
    "        #print \"Empty sentences\"\n",
    "        return \"0,0,0,0,0,0,0,0,0,0,0,0,0,0,0,0,0,0,0,0,\" + str(label) + \"\\n\"\n",
    "    \n",
    "    function_set = [\n",
    "                    first_person_pronouns, \n",
    "                    second_person_pronouns, \n",
    "                    third_person_pronouns,\n",
    "                    coordinating_conjunctions,\n",
    "                    past_tense_verbs,\n",
    "                    future_tense_verbs,\n",
    "                    commas,\n",
    "                    colons,\n",
    "                    dashes,\n",
    "                    parantheses,\n",
    "                    ellipses,\n",
    "                    common_nouns,\n",
    "                    proper_nouns,\n",
    "                    adverbs,\n",
    "                    wh_words,\n",
    "                    slang_acronyms,\n",
    "                    upper_case_words,\n",
    "                    sentence_length,\n",
    "                    token_length,\n",
    "                    number_sentences\n",
    "                   ]\n",
    "    \n",
    "    sentence_split = split_sentences(sentences)\n",
    "    for function in function_set:\n",
    "        feature_string += str(function(sentences, sentence_split)) + ','\n",
    "        \n",
    "    feature_string += str(label)\n",
    "    \n",
    "    return feature_string + \"\\n\""
   ]
  },
  {
   "cell_type": "code",
   "execution_count": 221,
   "metadata": {
    "collapsed": false
   },
   "outputs": [
    {
     "data": {
      "text/plain": [
       "'@data 0,0,0,0,0,0,0,0,0,0,0,0,0,0,0,0,0,0,0,0,4'"
      ]
     },
     "execution_count": 221,
     "metadata": {},
     "output_type": "execute_result"
    }
   ],
   "source": [
    "compute_feature_vector([\"\"], 4)"
   ]
  },
  {
   "cell_type": "code",
   "execution_count": 304,
   "metadata": {
    "collapsed": false,
    "scrolled": false
   },
   "outputs": [],
   "source": [
    "def buildarff(input_file, output_file, max_per_class=50):\n",
    "\n",
    "    prep_arff(output_file)\n",
    "    \n",
    "    sentence_container = []\n",
    "\n",
    "    class_label = -1\n",
    "    for line in input_file: #.getvalue().split('\\n')[:-1]:\n",
    "\n",
    "        if line.startswith('<A='):\n",
    "\n",
    "            class_label = int(line[3])\n",
    "            try:\n",
    "                feature_vector = compute_feature_vector(sentence_container, class_label)\n",
    "            except Exception:\n",
    "                print sentence_container\n",
    "            else:\n",
    "                output_file.write(feature_vector)\n",
    "            sentence_container = []\n",
    "        else:\n",
    "            sentence_container.append(line)\n",
    "\n",
    "    feature_vector = compute_feature_vector(sentence_container, class_label)\n",
    "    output_file.write(feature_vector)"
   ]
  },
  {
   "cell_type": "code",
   "execution_count": 265,
   "metadata": {
    "collapsed": true
   },
   "outputs": [],
   "source": [
    "arff_buf = StringIO.StringIO()"
   ]
  },
  {
   "cell_type": "code",
   "execution_count": 266,
   "metadata": {
    "collapsed": false
   },
   "outputs": [
    {
     "name": "stdout",
     "output_type": "stream",
     "text": [
      "Brad\n",
      "359\n"
     ]
    }
   ],
   "source": [
    "buildarff(output_buf, arff_buf)"
   ]
  },
  {
   "cell_type": "code",
   "execution_count": 290,
   "metadata": {
    "collapsed": false
   },
   "outputs": [
    {
     "name": "stdout",
     "output_type": "stream",
     "text": [
      "359\n"
     ]
    }
   ],
   "source": [
    "print arff_buf.getvalue().count(\"@data\")"
   ]
  },
  {
   "cell_type": "markdown",
   "metadata": {},
   "source": [
    "##### Using actual files"
   ]
  },
  {
   "cell_type": "code",
   "execution_count": 305,
   "metadata": {
    "collapsed": false
   },
   "outputs": [],
   "source": [
    "with open(\"datafiles/test.twt\", \"r\") as _input:\n",
    "    with open(\"datafiles/test.arff\", \"w\") as _output:\n",
    "        buildarff(_input, _output)"
   ]
  },
  {
   "cell_type": "code",
   "execution_count": 306,
   "metadata": {
    "collapsed": false
   },
   "outputs": [],
   "source": [
    "with open(\"datafiles/train_group.twt\", \"r\") as _input:\n",
    "    with open(\"datafiles/train_group.arff\", \"w\") as _output:\n",
    "        buildarff(_input, _output)"
   ]
  },
  {
   "cell_type": "code",
   "execution_count": 307,
   "metadata": {
    "collapsed": false
   },
   "outputs": [],
   "source": [
    "with open(\"datafiles/train_all.twt\", \"r\") as _input:\n",
    "    with open(\"datafiles/train_all.arff\", \"w\") as _output:\n",
    "        buildarff(_input, _output)"
   ]
  },
  {
   "cell_type": "markdown",
   "metadata": {},
   "source": [
    "##### Per-feature functions"
   ]
  },
  {
   "cell_type": "code",
   "execution_count": 181,
   "metadata": {
    "collapsed": false
   },
   "outputs": [
    {
     "data": {
      "text/plain": [
       "['Meet/VB me/PRP today/NN at/IN the/DT FEC/NN in/IN DC/NN at/IN 4/NN ./.',\n",
       " \"Wear/VB a/DT carnation/NN so/RB I/PRP know/VB it/PRP 's/POS you/PRP ./.\"]"
      ]
     },
     "execution_count": 181,
     "metadata": {},
     "output_type": "execute_result"
    }
   ],
   "source": [
    "test_sentences = [\"Meet/VB me/PRP today/NN at/IN the/DT FEC/NN in/IN DC/NN at/IN 4/NN ./.\", \"Wear/VB a/DT carnation/NN so/RB I/PRP know/VB it/PRP 's/POS you/PRP ./.\"]\n",
    "test_sentences"
   ]
  },
  {
   "cell_type": "code",
   "execution_count": 182,
   "metadata": {
    "collapsed": true
   },
   "outputs": [],
   "source": [
    "def split_sentences(sentences):\n",
    "    tokens = [x.strip().split(' ') for x in sentences]\n",
    "    return [y.split('/') for x in tokens for y in x]"
   ]
  },
  {
   "cell_type": "code",
   "execution_count": 183,
   "metadata": {
    "collapsed": false
   },
   "outputs": [
    {
     "data": {
      "text/plain": [
       "[['']]"
      ]
     },
     "execution_count": 183,
     "metadata": {},
     "output_type": "execute_result"
    }
   ],
   "source": [
    "split_sentences([\"\"])"
   ]
  },
  {
   "cell_type": "code",
   "execution_count": 184,
   "metadata": {
    "collapsed": false
   },
   "outputs": [
    {
     "data": {
      "text/plain": [
       "[['Meet', 'VB'],\n",
       " ['me', 'PRP'],\n",
       " ['today', 'NN'],\n",
       " ['at', 'IN'],\n",
       " ['the', 'DT'],\n",
       " ['FEC', 'NN'],\n",
       " ['in', 'IN'],\n",
       " ['DC', 'NN'],\n",
       " ['at', 'IN'],\n",
       " ['4', 'NN'],\n",
       " ['.', '.'],\n",
       " ['Wear', 'VB'],\n",
       " ['a', 'DT'],\n",
       " ['carnation', 'NN'],\n",
       " ['so', 'RB'],\n",
       " ['I', 'PRP'],\n",
       " ['know', 'VB'],\n",
       " ['it', 'PRP'],\n",
       " [\"'s\", 'POS'],\n",
       " ['you', 'PRP'],\n",
       " ['.', '.']]"
      ]
     },
     "execution_count": 184,
     "metadata": {},
     "output_type": "execute_result"
    }
   ],
   "source": [
    "split_sentences(test_sentences)"
   ]
  },
  {
   "cell_type": "code",
   "execution_count": 292,
   "metadata": {
    "collapsed": true
   },
   "outputs": [],
   "source": [
    "def first_person_pronouns(sentences, token_split):\n",
    "    candidate_words = ['i', 'me', 'my', 'mine', 'we', 'us', 'our', 'ours']\n",
    "    return [x[0].lower() in candidate_words for x in token_split].count(True)"
   ]
  },
  {
   "cell_type": "code",
   "execution_count": 186,
   "metadata": {
    "collapsed": false
   },
   "outputs": [
    {
     "data": {
      "text/plain": [
       "1"
      ]
     },
     "execution_count": 186,
     "metadata": {},
     "output_type": "execute_result"
    }
   ],
   "source": [
    "first_person_pronouns(test_sentences, split_sentences(test_sentences))"
   ]
  },
  {
   "cell_type": "code",
   "execution_count": 187,
   "metadata": {
    "collapsed": true
   },
   "outputs": [],
   "source": [
    "def second_person_pronouns(sentences, token_split):\n",
    "    candidate_words = ['you', 'your', 'yours', 'u', 'ur', 'urs']\n",
    "    return [x[0].lower() in candidate_words for x in token_split].count(True)"
   ]
  },
  {
   "cell_type": "code",
   "execution_count": 188,
   "metadata": {
    "collapsed": false
   },
   "outputs": [
    {
     "data": {
      "text/plain": [
       "1"
      ]
     },
     "execution_count": 188,
     "metadata": {},
     "output_type": "execute_result"
    }
   ],
   "source": [
    "second_person_pronouns(test_sentences, split_sentences(test_sentences))"
   ]
  },
  {
   "cell_type": "code",
   "execution_count": 189,
   "metadata": {
    "collapsed": true
   },
   "outputs": [],
   "source": [
    "def third_person_pronouns(sentences, token_split):\n",
    "    candidate_words = ['he', 'him', 'his', 'she', 'her', 'hers', 'it', 'its', 'they', 'them', 'their', 'theirs']\n",
    "    return [x[0].lower() in candidate_words for x in token_split].count(True)"
   ]
  },
  {
   "cell_type": "code",
   "execution_count": 190,
   "metadata": {
    "collapsed": false
   },
   "outputs": [
    {
     "data": {
      "text/plain": [
       "1"
      ]
     },
     "execution_count": 190,
     "metadata": {},
     "output_type": "execute_result"
    }
   ],
   "source": [
    "third_person_pronouns(test_sentences, split_sentences(test_sentences))"
   ]
  },
  {
   "cell_type": "code",
   "execution_count": 191,
   "metadata": {
    "collapsed": true
   },
   "outputs": [],
   "source": [
    "def coordinating_conjunctions(sentences, token_split):\n",
    "    candidate_words = ['CC']\n",
    "    return [x[1] in candidate_words for x in token_split].count(True)"
   ]
  },
  {
   "cell_type": "code",
   "execution_count": 192,
   "metadata": {
    "collapsed": false
   },
   "outputs": [
    {
     "data": {
      "text/plain": [
       "0"
      ]
     },
     "execution_count": 192,
     "metadata": {},
     "output_type": "execute_result"
    }
   ],
   "source": [
    "coordinating_conjunctions(test_sentences, split_sentences(test_sentences))"
   ]
  },
  {
   "cell_type": "code",
   "execution_count": 193,
   "metadata": {
    "collapsed": true
   },
   "outputs": [],
   "source": [
    "def past_tense_verbs(sentences, token_split):\n",
    "    candidate_words = ['VBD']\n",
    "    return [x[1] in candidate_words for x in token_split].count(True)"
   ]
  },
  {
   "cell_type": "code",
   "execution_count": 194,
   "metadata": {
    "collapsed": false
   },
   "outputs": [
    {
     "data": {
      "text/plain": [
       "0"
      ]
     },
     "execution_count": 194,
     "metadata": {},
     "output_type": "execute_result"
    }
   ],
   "source": [
    "past_tense_verbs(test_sentences, split_sentences(test_sentences))"
   ]
  },
  {
   "cell_type": "code",
   "execution_count": 195,
   "metadata": {
    "collapsed": true
   },
   "outputs": [],
   "source": [
    "def future_tense_verbs(sentences, token_split):\n",
    "    candidate_words = [\"'ll\", 'will', 'gonna']\n",
    "    count = [x[0].lower() in candidate_words for x in token_split].count(True)\n",
    "    \n",
    "    # We also want to count sequences of going+to+VB\n",
    "    count += [token_split[i][0].lower() == 'going' and token_split[i + 1][0].lower() == 'to' and token_split[i + 2][1] == 'VB' for i in range(len(token_split) - 2)].count(True)\n",
    "    return count"
   ]
  },
  {
   "cell_type": "code",
   "execution_count": 196,
   "metadata": {
    "collapsed": false
   },
   "outputs": [
    {
     "data": {
      "text/plain": [
       "0"
      ]
     },
     "execution_count": 196,
     "metadata": {},
     "output_type": "execute_result"
    }
   ],
   "source": [
    "future_tense_verbs(test_sentences, split_sentences(test_sentences))"
   ]
  },
  {
   "cell_type": "code",
   "execution_count": 197,
   "metadata": {
    "collapsed": true
   },
   "outputs": [],
   "source": [
    "def commas(sentences, token_split):\n",
    "    candidate_words = [',']\n",
    "    return [x[1] in candidate_words for x in token_split].count(True)"
   ]
  },
  {
   "cell_type": "code",
   "execution_count": 198,
   "metadata": {
    "collapsed": false
   },
   "outputs": [
    {
     "data": {
      "text/plain": [
       "0"
      ]
     },
     "execution_count": 198,
     "metadata": {},
     "output_type": "execute_result"
    }
   ],
   "source": [
    "commas(test_sentences, split_sentences(test_sentences))"
   ]
  },
  {
   "cell_type": "code",
   "execution_count": 199,
   "metadata": {
    "collapsed": true
   },
   "outputs": [],
   "source": [
    "def colons(sentences, token_split):\n",
    "    candidate_words = [':', ';']\n",
    "    return [x[0] in candidate_words for x in token_split].count(True)"
   ]
  },
  {
   "cell_type": "code",
   "execution_count": 200,
   "metadata": {
    "collapsed": false
   },
   "outputs": [
    {
     "data": {
      "text/plain": [
       "0"
      ]
     },
     "execution_count": 200,
     "metadata": {},
     "output_type": "execute_result"
    }
   ],
   "source": [
    "colons(test_sentences, split_sentences(test_sentences))"
   ]
  },
  {
   "cell_type": "code",
   "execution_count": 201,
   "metadata": {
    "collapsed": true
   },
   "outputs": [],
   "source": [
    "def dashes(sentences, token_split):\n",
    "    candidate_words = ['-']\n",
    "    return [x[0] in candidate_words for x in token_split].count(True)"
   ]
  },
  {
   "cell_type": "code",
   "execution_count": 202,
   "metadata": {
    "collapsed": true
   },
   "outputs": [],
   "source": [
    "def parantheses(sentences, token_split):\n",
    "    candidate_words = ['(', ')']\n",
    "    return [x[0] in candidate_words for x in token_split].count(True)"
   ]
  },
  {
   "cell_type": "code",
   "execution_count": 203,
   "metadata": {
    "collapsed": true
   },
   "outputs": [],
   "source": [
    "def ellipses(sentences, token_split):\n",
    "    candidate_words = ['...']\n",
    "    return [x[0] in candidate_words for x in token_split].count(True)"
   ]
  },
  {
   "cell_type": "code",
   "execution_count": 204,
   "metadata": {
    "collapsed": true
   },
   "outputs": [],
   "source": [
    "def common_nouns(sentences, token_split):\n",
    "    candidate_words = ['NN', 'NNS']\n",
    "    return [x[1] in candidate_words for x in token_split].count(True)"
   ]
  },
  {
   "cell_type": "code",
   "execution_count": 205,
   "metadata": {
    "collapsed": true
   },
   "outputs": [],
   "source": [
    "def proper_nouns(sentences, token_split):\n",
    "    candidate_words = ['NNP', 'NNPS']\n",
    "    return [x[1] in candidate_words for x in token_split].count(True)"
   ]
  },
  {
   "cell_type": "code",
   "execution_count": 206,
   "metadata": {
    "collapsed": true
   },
   "outputs": [],
   "source": [
    "def adverbs(sentences, token_split):\n",
    "    candidate_words = ['RB', 'RBR', 'RBS']\n",
    "    return [x[1] in candidate_words for x in token_split].count(True)"
   ]
  },
  {
   "cell_type": "code",
   "execution_count": 207,
   "metadata": {
    "collapsed": true
   },
   "outputs": [],
   "source": [
    "def wh_words(sentences, token_split):\n",
    "    candidate_words = ['WDT', 'WP', 'WP$', 'WRB']\n",
    "    return [x[1] in candidate_words for x in token_split].count(True)"
   ]
  },
  {
   "cell_type": "code",
   "execution_count": 208,
   "metadata": {
    "collapsed": true
   },
   "outputs": [],
   "source": [
    "def slang_acronyms(sentences, token_split):\n",
    "    candidate_words = ['smh', 'fwb',  'lmfao', 'lmao', 'lms', 'tbh',  'rofl', 'wtf',\n",
    "                       'bff', 'wyd',  'lylc',  'brb',  'atm', 'imao', 'sml',  'btw',\n",
    "                       'bw',  'imho', 'fyi',   'ppl',  'sob', 'ttyl', 'imo',  'ltr',\n",
    "                       'thx', 'kk',   'omg',   'ttys', 'afn', 'bbs',  'cya',  'ez',\n",
    "                       'f2f', 'gtr',  'ic',    'jk',   'k',   'ly',   'ya',   'nm',  'np',\n",
    "                       'plz', 'ru',   'so',    'tc',   'tmi', 'ym',   'ur',   'u',   'sol']\n",
    "    return [x[0].lower() in candidate_words for x in token_split].count(True)"
   ]
  },
  {
   "cell_type": "code",
   "execution_count": 209,
   "metadata": {
    "collapsed": false
   },
   "outputs": [
    {
     "data": {
      "text/plain": [
       "1"
      ]
     },
     "execution_count": 209,
     "metadata": {},
     "output_type": "execute_result"
    }
   ],
   "source": [
    "slang_acronyms(test_sentences, split_sentences(test_sentences))"
   ]
  },
  {
   "cell_type": "code",
   "execution_count": 210,
   "metadata": {
    "collapsed": true
   },
   "outputs": [],
   "source": [
    "def upper_case_words(sentences, token_split):\n",
    "    return [x[0].isupper() and len(x[0]) > 1 for x in token_split].count(True)"
   ]
  },
  {
   "cell_type": "code",
   "execution_count": 211,
   "metadata": {
    "collapsed": false
   },
   "outputs": [
    {
     "data": {
      "text/plain": [
       "2"
      ]
     },
     "execution_count": 211,
     "metadata": {},
     "output_type": "execute_result"
    }
   ],
   "source": [
    "upper_case_words(test_sentences, split_sentences(test_sentences))"
   ]
  },
  {
   "cell_type": "code",
   "execution_count": 212,
   "metadata": {
    "collapsed": true
   },
   "outputs": [],
   "source": [
    "def sentence_length(sentences, token_split):\n",
    "    return len(token_split) / float(len(sentences))"
   ]
  },
  {
   "cell_type": "code",
   "execution_count": 213,
   "metadata": {
    "collapsed": false
   },
   "outputs": [
    {
     "data": {
      "text/plain": [
       "10.5"
      ]
     },
     "execution_count": 213,
     "metadata": {},
     "output_type": "execute_result"
    }
   ],
   "source": [
    "sentence_length(test_sentences, split_sentences(test_sentences))"
   ]
  },
  {
   "cell_type": "code",
   "execution_count": 214,
   "metadata": {
    "collapsed": true
   },
   "outputs": [],
   "source": [
    "def token_length(sentences, token_split):\n",
    "    candidate_words = ['#', '$', '.', ',', ':', '(', ')', '\"', 'POS']\n",
    "    token_lengths = [len(x[0]) for x in token_split if x[1] not in candidate_words]\n",
    "    return sum(token_lengths) / float(len(token_lengths))"
   ]
  },
  {
   "cell_type": "code",
   "execution_count": 215,
   "metadata": {
    "collapsed": false
   },
   "outputs": [
    {
     "data": {
      "text/plain": [
       "2.888888888888889"
      ]
     },
     "execution_count": 215,
     "metadata": {},
     "output_type": "execute_result"
    }
   ],
   "source": [
    "token_length(test_sentences, split_sentences(test_sentences))"
   ]
  },
  {
   "cell_type": "code",
   "execution_count": 216,
   "metadata": {
    "collapsed": true
   },
   "outputs": [],
   "source": [
    "def number_sentences(sentences, token_split):\n",
    "    return len(sentences)"
   ]
  },
  {
   "cell_type": "code",
   "execution_count": 217,
   "metadata": {
    "collapsed": false
   },
   "outputs": [
    {
     "data": {
      "text/plain": [
       "2"
      ]
     },
     "execution_count": 217,
     "metadata": {},
     "output_type": "execute_result"
    }
   ],
   "source": [
    "number_sentences(test_sentences, split_sentences(test_sentences))"
   ]
  },
  {
   "cell_type": "markdown",
   "metadata": {},
   "source": [
    "### Classifying using WEKA"
   ]
  },
  {
   "cell_type": "code",
   "execution_count": null,
   "metadata": {
    "collapsed": true
   },
   "outputs": [],
   "source": []
  },
  {
   "cell_type": "markdown",
   "metadata": {},
   "source": [
    "### IBM Watson NLP Classifier"
   ]
  },
  {
   "cell_type": "code",
   "execution_count": null,
   "metadata": {
    "collapsed": true
   },
   "outputs": [],
   "source": []
  },
  {
   "cell_type": "markdown",
   "metadata": {},
   "source": [
    "{\n",
    "  \"credentials\": {\n",
    "    \"url\": \"https://gateway.watsonplatform.net/natural-language-classifier/api\",\n",
    "    \"username\": \"2bd0e6c7-5784-4967-860c-a9778754fdee\",\n",
    "    \"password\": \"rFs4Solusscl\"\n",
    "  }\n",
    "}"
   ]
  },
  {
   "cell_type": "code",
   "execution_count": null,
   "metadata": {
    "collapsed": true
   },
   "outputs": [],
   "source": []
  }
 ],
 "metadata": {
  "kernelspec": {
   "display_name": "Python 2",
   "language": "python",
   "name": "python2"
  },
  "language_info": {
   "codemirror_mode": {
    "name": "ipython",
    "version": 2
   },
   "file_extension": ".py",
   "mimetype": "text/x-python",
   "name": "python",
   "nbconvert_exporter": "python",
   "pygments_lexer": "ipython2",
   "version": "2.7.11"
  }
 },
 "nbformat": 4,
 "nbformat_minor": 0
}
